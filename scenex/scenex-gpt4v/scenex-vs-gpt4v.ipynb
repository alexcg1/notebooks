{
 "cells": [
  {
   "cell_type": "markdown",
   "id": "b7d8c1f5-2dc8-4d8c-9b87-34a3850fc539",
   "metadata": {},
   "source": [
    "## Setup\n",
    "\n",
    "1. Put the images you want to process in `./images/`. This is already prepopulated with several images organized by language\n",
    "2. Run the notebook"
   ]
  },
  {
   "cell_type": "code",
   "execution_count": 30,
   "id": "1386df22-9315-4e26-9689-62f98fa8dcc9",
   "metadata": {},
   "outputs": [
    {
     "name": "stdout",
     "output_type": "stream",
     "text": [
      "Cloning into 'scenex-tests'...\n",
      "remote: Enumerating objects: 112, done.\u001b[K\n",
      "remote: Counting objects: 100% (112/112), done.\u001b[K\n",
      "remote: Compressing objects: 100% (90/90), done.\u001b[K\n",
      "remote: Total 112 (delta 31), reused 100 (delta 19), pack-reused 0\u001b[K\n",
      "Receiving objects: 100% (112/112), 8.28 MiB | 11.70 MiB/s, done.\n",
      "Resolving deltas: 100% (31/31), done.\n"
     ]
    }
   ],
   "source": [
    "import os\n",
    "\n",
    "!rm -rf scenex-tests\n",
    "!git clone https://github.com/alexcg1/scenex-tests\n",
    "\n",
    "if os.getcwd() != 'scenex-tests':\n",
    "    os.chdir('scenex-tests')"
   ]
  },
  {
   "cell_type": "markdown",
   "id": "be48c872-4acb-4b07-868d-c8cb408aa7b1",
   "metadata": {},
   "source": [
    "### Load API keys\n",
    "\n",
    "If you have `dotenv` installed and a `.env` file, the below code will load it from there. Otherwise you'll need to set `SCENEX_SECRET` and `OPENAI_API_KEY` environment variables manually"
   ]
  },
  {
   "cell_type": "code",
   "execution_count": 2,
   "id": "e8af7257-3d0b-4dde-a39b-f2909b164cbf",
   "metadata": {},
   "outputs": [
    {
     "name": "stdout",
     "output_type": "stream",
     "text": [
      "Environment variables loaded from .env\n"
     ]
    }
   ],
   "source": [
    "try:\n",
    "    from dotenv import load_dotenv\n",
    "    load_dotenv()\n",
    "    print(\"Environment variables loaded from .env\")\n",
    "except ImportError:\n",
    "    os.environ['OPENAI_API_KEY'] = \"<your OpenAI key>\"\n",
    "    os.environ['SCENEX_SECRET'] = \"<your SceneXplain key>\"\n",
    "    # print(\"Please set OPENAI_API_KEY and SCENEX_SECRET environment variables\")"
   ]
  },
  {
   "cell_type": "markdown",
   "id": "34ffb26e-09e9-418a-850f-556e3616c449",
   "metadata": {},
   "source": [
    "## Pre-process images\n",
    "\n",
    "Convert all `webp` files to `jpeg`\n",
    "\n",
    "**Note:** No need to do this for existing images in repo"
   ]
  },
  {
   "cell_type": "code",
   "execution_count": 123,
   "id": "f2ae4228-e64d-456f-a8e8-2f0db4f0c41b",
   "metadata": {},
   "outputs": [],
   "source": [
    "!find ./images -type f -name \"*.webp\" -exec mogrify -format jpeg {} \\;"
   ]
  },
  {
   "cell_type": "markdown",
   "id": "690a5191-761c-470c-8400-ae356a64a8ad",
   "metadata": {},
   "source": [
    "## Generate image list"
   ]
  },
  {
   "cell_type": "code",
   "execution_count": 39,
   "id": "1c4c1c5d-b46d-4e93-a7f4-c9669820dc49",
   "metadata": {},
   "outputs": [
    {
     "name": "stdout",
     "output_type": "stream",
     "text": [
      "found ja\n",
      "found ar\n",
      "found ar\n",
      "found ko\n",
      "found cn\n",
      "found cn\n",
      "found ja\n",
      "found ja\n",
      "['./images/he/s-l400-3959857765.jpg', './images/hi/dabur-sarso-avala-hair-oil-ad-dainik-bhaskar-jaipur-12-12-2017.jpg', './images/ka/393644331_708375714670258_5034910646992091937_n.jpg', './images/iu/image.jpg', './images/th/maggi-fusian-thailand-3740487815.jpg', './images/ar/artworks-000043896167-z3x71u-t500x500.jpg', './images/ar/0a6b502ffc7c748cc918cbb80d73f960.jpg', './images/ar/d46l5mu-22863ee5-ff85-4f18-ac95-2a76e16e9f77.jpg', './images/ko/pexels-photo-6314649.jpeg', './images/cn/pexels-photo-2670327.jpeg', './images/cn/pexels-photo-3603453.jpeg', './images/th/119143302-2914108.jpeg', './images/ar/pexels-photo-11127113.jpeg', './images/klingon/illustration-digital-art-minimalism-text-logo-Star-Trek-vector-art-brand-Klingon-font-163176-4241574032.png', './images/hi/hindi Z-hotstar(1).png', './images/nastalik/image.png']\n"
     ]
    }
   ],
   "source": [
    "from glob import glob\n",
    "\n",
    "skip_langs = ['ar', 'zh', 'ko', 'ja', 'cn']\n",
    "\n",
    "filetypes = ['jpg', 'jpeg', 'png']\n",
    "file_path = './images/**/'\n",
    "image_files = []\n",
    "\n",
    "for filetype in filetypes:\n",
    "    image_files.extend(glob(f'{file_path}*.{filetype}'))\n",
    "\n",
    "for image in image_files:\n",
    "    lang = image.split('/')[2]\n",
    "    # print(lang)\n",
    "    if lang in skip_langs:\n",
    "        print(f\"found {lang}\")\n",
    "        image_files.remove(image)\n",
    "\n",
    "print(image_files)"
   ]
  },
  {
   "cell_type": "code",
   "execution_count": 32,
   "id": "79c8736e-f596-4c77-8cce-7ab3e02e87f2",
   "metadata": {},
   "outputs": [
    {
     "data": {
      "text/plain": [
       "['./images/he/s-l400-3959857765.jpg',\n",
       " './images/hi/dabur-sarso-avala-hair-oil-ad-dainik-bhaskar-jaipur-12-12-2017.jpg',\n",
       " './images/ka/393644331_708375714670258_5034910646992091937_n.jpg',\n",
       " './images/iu/image.jpg',\n",
       " './images/th/maggi-fusian-thailand-3740487815.jpg',\n",
       " './images/ja/1940s-japan-japanese-magazine-ad-1940-advertising-for-the-pneumonia-medicine-anti-lungen-in-the-sunday-mainichi-of-march-10-1940-showa-15-this-weekly-japanese-magazine-was-established-by-mainichi-shimbun-in-1922-taisho-11-and-is-still-being-sold-toda.jpg',\n",
       " './images/ar/artworks-000043896167-z3x71u-t500x500.jpg',\n",
       " './images/ar/ad_34496406_ce0f9beaaf3797bf_web.jpg',\n",
       " './images/ar/0a6b502ffc7c748cc918cbb80d73f960.jpg',\n",
       " './images/ar/create-arabic-food-poster-banner-or-social-media-ads.jpg',\n",
       " './images/ar/d46l5mu-22863ee5-ff85-4f18-ac95-2a76e16e9f77.jpg',\n",
       " './images/ko/pexels-photo-5051602.jpeg',\n",
       " './images/ko/pexels-photo-6314649.jpeg',\n",
       " './images/cn/pexels-photo-704379.jpeg',\n",
       " './images/cn/pexels-photo-2670327.jpeg',\n",
       " './images/cn/pexels-photo-2599543.jpeg',\n",
       " './images/cn/pexels-photo-3603453.jpeg',\n",
       " './images/th/119143302-2914108.jpeg',\n",
       " './images/ja/free-photo-of-illuminated-lantern-in-the-street.jpeg',\n",
       " './images/ar/pexels-photo-11127113.jpeg',\n",
       " './images/klingon/illustration-digital-art-minimalism-text-logo-Star-Trek-vector-art-brand-Klingon-font-163176-4241574032.png',\n",
       " './images/hi/hindi Z-hotstar(1).png',\n",
       " './images/nastalik/image.png',\n",
       " './images/ja/21d10241ed74414d8263d56330cd5d02.png']"
      ]
     },
     "execution_count": 32,
     "metadata": {},
     "output_type": "execute_result"
    }
   ],
   "source": [
    "image_files"
   ]
  },
  {
   "cell_type": "markdown",
   "id": "b67282c3-31bb-4956-bb88-5a13ba090246",
   "metadata": {},
   "source": [
    "## Define functions for SceneXplain and OpenAI I/O"
   ]
  },
  {
   "cell_type": "code",
   "execution_count": 5,
   "id": "dbf66d9f-587d-4d48-ba45-89e204f1999c",
   "metadata": {},
   "outputs": [],
   "source": [
    "import http.client\n",
    "import json\n",
    "import base64\n",
    "from pprint import pprint"
   ]
  },
  {
   "cell_type": "markdown",
   "id": "d8aa1ee1-1179-4d8e-976b-3fbe003b2f23",
   "metadata": {},
   "source": [
    "#### SceneXplain"
   ]
  },
  {
   "cell_type": "code",
   "execution_count": 6,
   "id": "cba9391b-6024-4f70-8fd2-088f49f47549",
   "metadata": {},
   "outputs": [],
   "source": [
    "# SceneX setup and functions\n",
    "\n",
    "SCENEX_SECRET=os.getenv('SCENEX_SECRET')\n",
    "\n",
    "scenex_headers = {\n",
    "    \"x-api-key\": f\"token {SCENEX_SECRET}\",\n",
    "    \"content-type\": \"application/json\",\n",
    "}\n",
    "\n",
    "ALGO = \"Jelly\"\n",
    "\n",
    "def image_to_data_uri(file_path):\n",
    "    with open(file_path, \"rb\") as image_file:\n",
    "        encoded_image = base64.b64encode(image_file.read()).decode(\"utf-8\")\n",
    "        return f\"data:image/png;base64,{encoded_image}\"\n",
    "        \n",
    "def generate_scenex_data(image_files, json_schema=None, question=None, features=[]):\n",
    "    data = {}\n",
    "    data['data'] = []\n",
    "\n",
    "    for file in image_files:\n",
    "        cid = file.split('/')[-1]\n",
    "        row = {\n",
    "            \"image\": image_to_data_uri(file),\n",
    "            \"features\": features,\n",
    "            \"algorithm\": ALGO,\n",
    "            \"cid\": cid\n",
    "        }\n",
    "\n",
    "        if question:\n",
    "            row[\"question\"] = question\n",
    "\n",
    "        if json_schema:\n",
    "            row[\"json_schema\"] = json_schema\n",
    "\n",
    "        data['data'].append(row)\n",
    "\n",
    "    return data\n",
    "\n",
    "def process_scenex(data):\n",
    "    connection = http.client.HTTPSConnection(\"api.scenex.jina.ai\")\n",
    "    connection.request(\"POST\", \"/v1/describe\", json.dumps(data), scenex_headers)\n",
    "    response = connection.getresponse()\n",
    "    response_data = response.read().decode(\"utf-8\")\n",
    "    \n",
    "    connection.close()\n",
    "\n",
    "    return json.loads(response_data)['result']"
   ]
  },
  {
   "cell_type": "markdown",
   "id": "68b3dfc0-f77b-4d76-b056-b4d5fe71da3e",
   "metadata": {},
   "source": [
    "#### OpenAI"
   ]
  },
  {
   "cell_type": "code",
   "execution_count": 7,
   "id": "6e0252a3-bede-4d54-9b56-30bd84582498",
   "metadata": {},
   "outputs": [
    {
     "name": "stdout",
     "output_type": "stream",
     "text": [
      "Requirement already satisfied: openai in /mnt/data/work/blog/scenex/non-english/env/lib/python3.11/site-packages (1.1.1)\n",
      "Requirement already satisfied: anyio<4,>=3.5.0 in /mnt/data/work/blog/scenex/non-english/env/lib/python3.11/site-packages (from openai) (3.7.1)\n",
      "Requirement already satisfied: distro<2,>=1.7.0 in /mnt/data/work/blog/scenex/non-english/env/lib/python3.11/site-packages (from openai) (1.8.0)\n",
      "Requirement already satisfied: httpx<1,>=0.23.0 in /mnt/data/work/blog/scenex/non-english/env/lib/python3.11/site-packages (from openai) (0.25.1)\n",
      "Requirement already satisfied: pydantic<3,>=1.9.0 in /mnt/data/work/blog/scenex/non-english/env/lib/python3.11/site-packages (from openai) (2.4.2)\n",
      "Requirement already satisfied: tqdm>4 in /mnt/data/work/blog/scenex/non-english/env/lib/python3.11/site-packages (from openai) (4.66.1)\n",
      "Requirement already satisfied: typing-extensions<5,>=4.5 in /mnt/data/work/blog/scenex/non-english/env/lib/python3.11/site-packages (from openai) (4.8.0)\n",
      "Requirement already satisfied: idna>=2.8 in /mnt/data/work/blog/scenex/non-english/env/lib/python3.11/site-packages (from anyio<4,>=3.5.0->openai) (3.4)\n",
      "Requirement already satisfied: sniffio>=1.1 in /mnt/data/work/blog/scenex/non-english/env/lib/python3.11/site-packages (from anyio<4,>=3.5.0->openai) (1.3.0)\n",
      "Requirement already satisfied: certifi in /mnt/data/work/blog/scenex/non-english/env/lib/python3.11/site-packages (from httpx<1,>=0.23.0->openai) (2023.7.22)\n",
      "Requirement already satisfied: httpcore in /mnt/data/work/blog/scenex/non-english/env/lib/python3.11/site-packages (from httpx<1,>=0.23.0->openai) (1.0.1)\n",
      "Requirement already satisfied: annotated-types>=0.4.0 in /mnt/data/work/blog/scenex/non-english/env/lib/python3.11/site-packages (from pydantic<3,>=1.9.0->openai) (0.6.0)\n",
      "Requirement already satisfied: pydantic-core==2.10.1 in /mnt/data/work/blog/scenex/non-english/env/lib/python3.11/site-packages (from pydantic<3,>=1.9.0->openai) (2.10.1)\n",
      "Requirement already satisfied: h11<0.15,>=0.13 in /mnt/data/work/blog/scenex/non-english/env/lib/python3.11/site-packages (from httpcore->httpx<1,>=0.23.0->openai) (0.14.0)\n",
      "\n",
      "\u001b[1m[\u001b[0m\u001b[34;49mnotice\u001b[0m\u001b[1;39;49m]\u001b[0m\u001b[39;49m A new release of pip is available: \u001b[0m\u001b[31;49m23.2.1\u001b[0m\u001b[39;49m -> \u001b[0m\u001b[32;49m23.3.1\u001b[0m\n",
      "\u001b[1m[\u001b[0m\u001b[34;49mnotice\u001b[0m\u001b[1;39;49m]\u001b[0m\u001b[39;49m To update, run: \u001b[0m\u001b[32;49mpip install --upgrade pip\u001b[0m\n"
     ]
    }
   ],
   "source": [
    "!pip install openai"
   ]
  },
  {
   "cell_type": "code",
   "execution_count": 8,
   "id": "c8088723-5c21-4f2c-af01-765348c13823",
   "metadata": {},
   "outputs": [],
   "source": [
    "# OpenAI functions\n",
    "\n",
    "from openai import OpenAI\n",
    "client = OpenAI()\n",
    "\n",
    "def encode_openai_image(image_path):\n",
    "    with open(image_path, \"rb\") as image_file:\n",
    "        return base64.b64encode(image_file.read()).decode('utf-8')\n",
    "\n",
    "def generate_openai_data(image_files, text=\"\"):\n",
    "    output = []\n",
    "    \n",
    "    for file in image_files:\n",
    "        base64_image = f\"data:image/jpeg;base64,{encode_openai_image(file)}\"\n",
    "        data = [\n",
    "            {\n",
    "                \"role\": \"user\",\n",
    "                # \"filename\": file,\n",
    "                 \"content\": [\n",
    "                    {\n",
    "                    \"type\": \"image_url\",\n",
    "                    \"image_url\": base64_image\n",
    "                    },\n",
    "                    {\n",
    "                    \"type\": \"text\",\n",
    "                    \"text\": text\n",
    "                    }\n",
    "                ]\n",
    "            }\n",
    "        ]\n",
    "        \n",
    "        output.extend(data)\n",
    "        \n",
    "    return output\n",
    "\n",
    "\n",
    "def process_openai(data):\n",
    "    output = []\n",
    "\n",
    "    for record in data:\n",
    "        response = client.chat.completions.create(\n",
    "            model=\"gpt-4-vision-preview\",\n",
    "            messages=[record],\n",
    "            max_tokens=1000,\n",
    "        )\n",
    "\n",
    "        output.append(response.choices[0])\n",
    "\n",
    "    return output"
   ]
  },
  {
   "cell_type": "markdown",
   "id": "4ef2f7e3-42cb-46c9-9ade-b88e544685ed",
   "metadata": {
    "jp-MarkdownHeadingCollapsed": true
   },
   "source": [
    "## Basic captioning"
   ]
  },
  {
   "cell_type": "markdown",
   "id": "15eb46c8-dbaa-480e-bb9b-e5dbc8453cb0",
   "metadata": {},
   "source": [
    "### SceneXplain"
   ]
  },
  {
   "cell_type": "code",
   "execution_count": null,
   "id": "aabfedcd-8df9-4b4e-b392-da43c703e6b8",
   "metadata": {},
   "outputs": [],
   "source": [
    "scenex_data = generate_scenex_data(image_files)"
   ]
  },
  {
   "cell_type": "code",
   "execution_count": null,
   "id": "103b2820-2393-448c-9247-84b7af67d2b8",
   "metadata": {},
   "outputs": [],
   "source": [
    "scenex_response = process_scenex(scenex_data)"
   ]
  },
  {
   "cell_type": "code",
   "execution_count": null,
   "id": "599146aa-57cb-419f-8afc-e718ca6d248d",
   "metadata": {},
   "outputs": [],
   "source": [
    "scenex_response"
   ]
  },
  {
   "cell_type": "markdown",
   "id": "869556e5-10db-4c65-bd0b-516e85863866",
   "metadata": {},
   "source": [
    "### OpenAI"
   ]
  },
  {
   "cell_type": "code",
   "execution_count": null,
   "id": "4fb5faa4-5753-4628-a41d-b60faf7442e3",
   "metadata": {},
   "outputs": [],
   "source": [
    "openai_data = generate_openai_data(image_files, \"what is in this image?\")"
   ]
  },
  {
   "cell_type": "code",
   "execution_count": null,
   "id": "286be171-bdf7-4e5c-b16f-695109bea6d0",
   "metadata": {},
   "outputs": [],
   "source": [
    "openai_response = process_openai(openai_data)"
   ]
  },
  {
   "cell_type": "code",
   "execution_count": null,
   "id": "714d5d20-981d-4c01-8887-7d68837b6f2a",
   "metadata": {},
   "outputs": [],
   "source": [
    "openai_response"
   ]
  },
  {
   "cell_type": "markdown",
   "id": "31df646e-0784-4d59-8705-63e29329a975",
   "metadata": {
    "jp-MarkdownHeadingCollapsed": true
   },
   "source": [
    "## Visual question answering"
   ]
  },
  {
   "cell_type": "code",
   "execution_count": null,
   "id": "ba35725b-f587-4222-9e48-a461fc11da6b",
   "metadata": {},
   "outputs": [],
   "source": [
    "question = 'what does the text say in this image?'"
   ]
  },
  {
   "cell_type": "markdown",
   "id": "7885bd69-b20b-4a91-ac64-519995141843",
   "metadata": {},
   "source": [
    "### SceneXplain"
   ]
  },
  {
   "cell_type": "code",
   "execution_count": null,
   "id": "83ef268f-1fc6-4dd3-a277-92310569ee00",
   "metadata": {},
   "outputs": [],
   "source": [
    "features = ['question_answer']"
   ]
  },
  {
   "cell_type": "code",
   "execution_count": null,
   "id": "ae18ec38-cc56-46b2-9bd8-ad31363601e6",
   "metadata": {},
   "outputs": [],
   "source": [
    "scenex_data = generate_scenex_data(image_files, question=question, features=features)"
   ]
  },
  {
   "cell_type": "code",
   "execution_count": null,
   "id": "46c34f9b-c7c3-4608-96ad-0fa6e0090456",
   "metadata": {},
   "outputs": [],
   "source": [
    "scenex_response = process_scenex(scenex_data)"
   ]
  },
  {
   "cell_type": "code",
   "execution_count": null,
   "id": "99537e4d-ae3d-4cd6-95c8-eb8cb97db335",
   "metadata": {},
   "outputs": [],
   "source": [
    "scenex_response"
   ]
  },
  {
   "cell_type": "markdown",
   "id": "ed72dd62-d4d1-4be4-8001-b92459a78ce6",
   "metadata": {},
   "source": [
    "### OpenAI"
   ]
  },
  {
   "cell_type": "code",
   "execution_count": null,
   "id": "7fe5cf36-87f8-45f1-8cd2-1c1d2549e376",
   "metadata": {},
   "outputs": [],
   "source": [
    "openai_data = generate_openai_data(image_files, question)"
   ]
  },
  {
   "cell_type": "code",
   "execution_count": null,
   "id": "91dccc86-b93a-4ad8-bb84-4ae037dd1c8a",
   "metadata": {
    "scrolled": true
   },
   "outputs": [],
   "source": [
    "openai_response = process_openai(openai_data)"
   ]
  },
  {
   "cell_type": "code",
   "execution_count": null,
   "id": "0791a6ef-f2aa-431d-9da9-fbb9d531b04e",
   "metadata": {},
   "outputs": [],
   "source": [
    "openai_response"
   ]
  },
  {
   "cell_type": "markdown",
   "id": "d4337351-0307-4388-a5f0-a13d76c4f47b",
   "metadata": {},
   "source": [
    "## Extract JSON from image\n",
    "\n",
    "We'll use SceneXplain's \"Extract JSON from Image\" feature to extract each text string and output to JSON that fits a strict schema.\n",
    "\n",
    "We'll also try a klugy way to do this with OpenAI, in the interests of fairness."
   ]
  },
  {
   "cell_type": "code",
   "execution_count": 11,
   "id": "021121c2-9f5a-425f-b57a-868ed9fc96fa",
   "metadata": {},
   "outputs": [],
   "source": [
    "json_schema = {\n",
    "  \"type\": \"object\",\n",
    "  \"properties\": {\n",
    "    \"text_strings\": {\n",
    "      \"type\": \"array\",\n",
    "      \"description\": \"Every text string contained in the image. Consider all languages\"\n",
    "    }\n",
    "  }\n",
    "}"
   ]
  },
  {
   "cell_type": "markdown",
   "id": "f378ef9a-336f-41b4-8e74-caa63df82f10",
   "metadata": {},
   "source": [
    "### SceneX"
   ]
  },
  {
   "cell_type": "code",
   "execution_count": 9,
   "id": "5e4cc3fa-0792-4ba4-96c2-e287fb7c790f",
   "metadata": {},
   "outputs": [],
   "source": [
    "features = [\n",
    "    \"json\",\n",
    "]"
   ]
  },
  {
   "cell_type": "code",
   "execution_count": 92,
   "id": "78393558-5a7e-44ed-9c01-e271263a034e",
   "metadata": {},
   "outputs": [],
   "source": [
    "scenex_data = generate_scenex_data(image_files, json_schema=json.dumps(json_schema), features=features)"
   ]
  },
  {
   "cell_type": "code",
   "execution_count": 93,
   "id": "36f45bf1-5b39-43f1-9afb-3899daf22783",
   "metadata": {},
   "outputs": [],
   "source": [
    "scenex_response = process_scenex(scenex_data)"
   ]
  },
  {
   "cell_type": "markdown",
   "id": "ae0aff10-0363-438f-96ee-4848b99194ff",
   "metadata": {},
   "source": [
    "### OpenAI\n",
    "\n",
    "We have to kluge it a bit by asking for JSON output as part of the question. This may not always provide reliably strict output."
   ]
  },
  {
   "cell_type": "code",
   "execution_count": 95,
   "id": "d2b62a39-0649-4fa9-bf34-40fe4b2a039e",
   "metadata": {},
   "outputs": [],
   "source": [
    "question = f\"Extract the text strings from this image and populate a JSON that follows this schema:\\n\\n{str(json_schema)}. Return just the output JSON. Do not put it in a code block\""
   ]
  },
  {
   "cell_type": "code",
   "execution_count": 96,
   "id": "057fe81a-cfd1-484a-babe-64bfbad4a029",
   "metadata": {},
   "outputs": [],
   "source": [
    "openai_data = generate_openai_data(image_files, question)"
   ]
  },
  {
   "cell_type": "code",
   "execution_count": 97,
   "id": "6cc46cfe-c570-4f60-80e4-f4a60d32cbc5",
   "metadata": {},
   "outputs": [],
   "source": [
    "openai_response = process_openai(openai_data)"
   ]
  },
  {
   "cell_type": "markdown",
   "id": "baecfc6c-3513-4421-ae67-e5a0777aaba8",
   "metadata": {},
   "source": [
    "### Compare results"
   ]
  },
  {
   "cell_type": "code",
   "execution_count": 98,
   "id": "d924534b-185f-4c5b-9a1a-4763d4f39651",
   "metadata": {},
   "outputs": [
    {
     "name": "stdout",
     "output_type": "stream",
     "text": [
      "./images/ko/pexels-photo-5051602.jpeg\n",
      "SceneXplain: \t{'text_strings': ['삼부식육점', '号号 号, 番号 7▲ 1.244-3800', '15']}\n",
      "OpenAI:\t\t{'text_strings': ['삼부', '전구', '디오', '문구', '생활용품', '금구', '도매', '1244-3800']}\n",
      "----------\n",
      "./images/ko/pexels-photo-6314649.jpeg\n",
      "SceneXplain: \t{'text_strings': ['|야', '좋은 날에 만나', '단이 방', '50', '좋은 나를 만나']}\n",
      "OpenAI:\t\t{'text_strings': ['삶은 날에 만나', '삶은 나를 만나', '닷이 발다']}\n",
      "----------\n",
      "./images/cn/pexels-photo-704379.jpeg\n",
      "SceneXplain: \t{'text_strings': ['饒河街觀光夜市', 'Raohe St. Night Market', '歡', '光', '健', '媽祖廟口', '服務台', '金瑞刊', '康']}\n",
      "OpenAI:\t\t{'text_strings': ['饒河街觀光夜市', 'Raohe St. Night Market', 'GOOD', '綜合果汁', '招牌麵線', 'QQ', '臭豆腐']}\n",
      "----------\n",
      "./images/cn/pexels-photo-5765624.jpeg\n",
      "SceneXplain: \t{'text_strings': ['宇', '川']}\n",
      "OpenAI:\t\t{'text_strings': ['京都嵐山']}\n",
      "----------\n",
      "./images/cn/pexels-photo-2670327.jpeg\n",
      "SceneXplain: \t{'text_strings': ['金钱肚20元', '旺角牛筋腩20元', '旺角牛杂18元']}\n",
      "OpenAI:\t\t{'text_strings': ['魚丸湯', '20元', '貢丸', '20元', '丸仔湯', '18元']}\n",
      "----------\n",
      "./images/cn/pexels-photo-2599543.jpeg\n",
      "SceneXplain: \t{'text_strings': ['為人演說不取於相如如', '持讀誦為人演說其福勝', '此經乃至四句', '『無量阿僧祗世界七', '不生活相發菩提', '句法應不是', '阿熊多羅二', '言法相酱如', '是見如是信解']}\n",
      "OpenAI:\t\t{'text_strings': ['博爱之门深处的暗号', '此日又是罗家祭日', '今日天朗气清且晴又好', '兄弟群赴西域长安道上', '任凭那风吹雨打不误前行', '多谢路过相知之士加持', '出门前听闻杜牧诗句贴门口', '嘱咐无论如何来路', '莫将他语与讲真假', '因为我们只信赏善罚恶', '冥冥中自有旨意', '命中注定会相会', '又岂在朝朝暮暮']}\n",
      "----------\n",
      "./images/cn/pexels-photo-3603453.jpeg\n",
      "SceneXplain: \t{'text_strings': ['老门框卤煮店', '老门框廣為心明', '王', '1', '卤']}\n",
      "OpenAI:\t\t{'text_strings': ['老门框炸酱面', '牛肉', '炒肝', '面食', '小吃']}\n",
      "----------\n",
      "./images/ja/free-photo-of-prohibition-sign-in-japanese.jpeg\n",
      "SceneXplain: \t{'text_strings': ['No Smoking', '禁止吸烟', '路上喫煙禁止区域']}\n",
      "OpenAI:\t\t{'text_strings': ['ポイ捨てご遠慮ください', 'LITTERING', '禁煙', 'NO SMOKING']}\n",
      "----------\n",
      "./images/ja/free-photo-of-illuminated-lantern-in-the-street.jpeg\n",
      "SceneXplain: \t{'text_strings': ['キリンラカー', 'こてつ象', '美子専門店']}\n",
      "OpenAI:\t\t{'text_strings': ['串カツ田中', 'もんじゃ', 'お好み焼き', '鉄板焼き']}\n",
      "----------\n",
      "./images/ja/pexels-photo-8366393.jpeg\n",
      "SceneXplain: \t{'text_strings': ['のれ', '味', '日']}\n",
      "OpenAI:\t\t{'text_strings': ['本日の日替わり']}\n",
      "----------\n",
      "./images/ar/pexels-photo-11127113.jpeg\n",
      "SceneXplain: \t{'text_strings': ['كذب الرجال', 'ولومر قوا ..']}\n",
      "OpenAI:\t\t{'text_strings': ['كريم أسامة', 'ترنيمة أيلول', 'في الحُب والحياة']}\n",
      "----------\n",
      "./images/ar/free-photo-of-signs-around-entrance-on-seashore.jpeg\n",
      "SceneXplain: \t{'text_strings': ['lucky', 'الشرح كدانوالصَّامياة', 'love']}\n",
      "OpenAI:\t\t{'text_strings': ['على بابك', 'انتظار', 'حظ', 'حلم', 'أمل', 'صبر', 'توكل', 'سعادة', 'حب']}\n",
      "----------\n",
      "./images/ar/pexels-photo-14900332.jpeg\n",
      "SceneXplain: \t{'text_strings': ['Capresse', 'Macchiato']}\n",
      "OpenAI:\t\t{'text_strings': ['جب زمین پر برف کی سفید چادر', 'تن دیتی ہے، تو ہم بھی برف بن جاتے ہیں،', 'لفظ اسپریسو']}\n",
      "----------\n"
     ]
    }
   ],
   "source": [
    "for file, sx_record, oa_record in zip(image_files, scenex_response, openai_response):\n",
    "    print(file)\n",
    "    sx_answer = json.loads(sx_record['i18n']['en'])\n",
    "    oa_answer = json.loads(oa_record.message.content)\n",
    "\n",
    "    print(f\"SceneXplain: \\t{sx_answer}\")\n",
    "    print(f\"OpenAI:\\t\\t{oa_answer}\")\n",
    "    print(\"-\"*10)"
   ]
  },
  {
   "cell_type": "markdown",
   "id": "4c3a476b-7c78-407e-a103-a199cbad5005",
   "metadata": {},
   "source": [
    "## Extract more complex JSON\n",
    "\n",
    "Now we'll extract:\n",
    "\n",
    "- A general description of the scene\n",
    "- All text objects. Each object will contain:\n",
    "    - The text string itself\n",
    "    - The (human-readable) language of the string\n",
    "    - The ISO 639-1 language code (e.g. `en-US`)\n",
    "    - An English translation of the string"
   ]
  },
  {
   "cell_type": "code",
   "execution_count": 13,
   "id": "e709ca09-0b32-4bd4-9697-015795c4a211",
   "metadata": {},
   "outputs": [],
   "source": [
    "json_schema = {\n",
    "  \"type\": \"object\",\n",
    "  \"properties\": {\n",
    "    \"alt_tag\": {\n",
    "      \"type\": \"string\",\n",
    "      \"description\": \"a short and concise alt-tag for the image, so visually-impaired users can know what they're looking at\"\n",
    "    },\n",
    "    \"long_description\": {\n",
    "      \"type\": \"string\",\n",
    "      \"description\": \"description of the image. Up to 20 words.\"\n",
    "    },\n",
    "    \"text_strings\": {\n",
    "      \"type\": \"array\",\n",
    "      \"description\": \"list of all text strings in the image\"\n",
    "    },\n",
    "    \"languages\": {\n",
    "      \"type\": \"array\",\n",
    "      \"description\": \"all the languages used in the image\"\n",
    "    },\n",
    "    \"iso_codes\": {\n",
    "      \"type\": \"array\",\n",
    "      \"description\": \"the iso-639-1 code for the language of every string in the image\"\n",
    "    }\n",
    "  }\n",
    "}"
   ]
  },
  {
   "cell_type": "markdown",
   "id": "7927fddc-fbfa-4386-ac79-4a5a184dc2b7",
   "metadata": {},
   "source": [
    "### SceneX"
   ]
  },
  {
   "cell_type": "code",
   "execution_count": 40,
   "id": "87e57983-a775-4733-a6d5-9ab711675bed",
   "metadata": {},
   "outputs": [],
   "source": [
    "scenex_data = generate_scenex_data(image_files, json_schema=json.dumps(json_schema), features=features)"
   ]
  },
  {
   "cell_type": "code",
   "execution_count": 41,
   "id": "c7794f16-5cd8-4ee8-99ea-7884adba4809",
   "metadata": {},
   "outputs": [],
   "source": [
    "scenex_response = process_scenex(scenex_data)"
   ]
  },
  {
   "cell_type": "code",
   "execution_count": null,
   "id": "e440fbf6-8f72-4f20-ba66-bd205cda31c3",
   "metadata": {},
   "outputs": [],
   "source": [
    "for file, sx_record in zip(image_files, scenex_response):\n",
    "    print(file)\n",
    "    try:\n",
    "        sx_answer = json.loads(sx_record['i18n']['en'])\n",
    "\n",
    "        \n",
    "        pprint(sx_answer)\n",
    "        print(\"-\"*10)\n",
    "    except:\n",
    "        pass"
   ]
  },
  {
   "cell_type": "markdown",
   "id": "bc359a40-3721-4408-a327-c0b74411e80f",
   "metadata": {},
   "source": [
    "### OpenAI\n",
    "\n",
    "We have to kluge it a bit by asking for JSON output as part of the question. This may not always provide reliably strict output."
   ]
  },
  {
   "cell_type": "code",
   "execution_count": 42,
   "id": "a04ddc63-1ae0-4c81-bdd7-c7d6d57bd67d",
   "metadata": {},
   "outputs": [],
   "source": [
    "question = f\"Extract the text strings from this image and populate a JSON that follows this schema:\\n\\n{str(json_schema)}. Return just the output JSON. Do not put it in a code block\""
   ]
  },
  {
   "cell_type": "code",
   "execution_count": 43,
   "id": "63639668-87c2-43e3-860a-bd57d9f1f8cc",
   "metadata": {},
   "outputs": [],
   "source": [
    "openai_data = generate_openai_data(image_files, question)"
   ]
  },
  {
   "cell_type": "code",
   "execution_count": 44,
   "id": "48007907-4859-4c05-a215-eda31a941eca",
   "metadata": {},
   "outputs": [],
   "source": [
    "openai_response = process_openai(openai_data)"
   ]
  },
  {
   "cell_type": "markdown",
   "id": "97e2a19b-00da-4ef6-b400-b3be3957ac0b",
   "metadata": {},
   "source": [
    "### Compare results"
   ]
  },
  {
   "cell_type": "code",
   "execution_count": 45,
   "id": "32180368-2f3a-4662-93ee-9d6b108560c6",
   "metadata": {},
   "outputs": [
    {
     "name": "stdout",
     "output_type": "stream",
     "text": [
      "./images/he/s-l400-3959857765.jpg\n",
      "SceneXplain\n",
      "{'alt_tag': 'Old SOYA COFFEE advertisement',\n",
      " 'iso_codes': ['en', 'he'],\n",
      " 'languages': ['English', 'Hebrew'],\n",
      " 'long_description': 'An old piece of advertisement for SOYA COFFEE, featuring '\n",
      "                     'a sketch and text in English and Hebrew.',\n",
      " 'text_strings': ['SOYA', 'COFFEE', 'QU & MOKAF']}\n",
      "\n",
      "\n",
      "OpenAI\n",
      "{'alt_tag': 'Vintage advertisement for SOVA coffee.',\n",
      " 'iso_codes': ['en', 'he'],\n",
      " 'languages': ['English', 'Hebrew'],\n",
      " 'long_description': 'Old-fashioned print advertisement for SOVA Coffee and '\n",
      "                     'Mokar Products.',\n",
      " 'text_strings': ['SOVA',\n",
      "                  'COFFEE',\n",
      "                  'פילטר',\n",
      "                  'מוקר',\n",
      "                  'בטעם קפה ערב',\n",
      "                  'חוליט כפרי']}\n",
      "----------\n",
      "./images/hi/dabur-sarso-avala-hair-oil-ad-dainik-bhaskar-jaipur-12-12-2017.jpg\n",
      "SceneXplain\n",
      "{'alt_tag': 'Hair oil advertisement with a woman and two bottles',\n",
      " 'iso_codes': ['hi', 'en'],\n",
      " 'languages': ['Hindi', 'English'],\n",
      " 'long_description': 'Advertisement for Swadesi Shikhar hair oil brand, '\n",
      "                     'featuring a woman and two bottles of hair oil against a '\n",
      "                     'yellow background.',\n",
      " 'text_strings': ['सरसों आँवला',\n",
      "                  'केश तेल',\n",
      "                  'सरसों और आँवला',\n",
      "                  'का पोषण बिना',\n",
      "                  'चिपचिपाहट',\n",
      "                  'में',\n",
      "                  'नया',\n",
      "                  'पैक',\n",
      "                  '₹9/-',\n",
      "                  'सरसों आँवला',\n",
      "                  '40ml',\n",
      "                  'DABUR CARES: CALL OR WRITE',\n",
      "                  '+ TOLL FREE 1800-103-1644']}\n",
      "\n",
      "\n",
      "OpenAI\n",
      "{'alt_tag': 'Advertisement for hair oil with woman and product images',\n",
      " 'iso_codes': ['hi', 'en'],\n",
      " 'languages': ['Hindi', 'English'],\n",
      " 'long_description': 'A woman smiling, two bottles of hair oil, and '\n",
      "                     'promotional text.',\n",
      " 'text_strings': ['सच्चा आमला',\n",
      "                  'केश तेल',\n",
      "                  'सरसों और आमला का पावर विना चिपचिपाहट',\n",
      "                  'सिर्फ़ ₹x9* में',\n",
      "                  'नया वैक',\n",
      "                  '40ml',\n",
      "                  'BABUR CARES: CALL NOW OR WRITE',\n",
      "                  'ई ज़ोन कोलकाता PIN 700107',\n",
      "                  'EMAIL: daborcares.feedback@dabur',\n",
      "                  'www.dabur.com',\n",
      "                  'TOLL FREE 1800-103-1644']}\n",
      "----------\n",
      "./images/ka/393644331_708375714670258_5034910646992091937_n.jpg\n",
      "SceneXplain\n",
      "{'alt_tag': 'Autumn harvest-themed thanksgiving scene with an orange '\n",
      "            'background and fruits and vegetables on a table',\n",
      " 'iso_codes': ['en', 'ka'],\n",
      " 'languages': ['English', 'Georgian'],\n",
      " 'long_description': 'Autumn harvest scene with corn, pumpkins, apples, grapes '\n",
      "                     'arranged on a white table with text in the background.',\n",
      " 'text_strings': ['Happy Thanksgiving', 'თანხმდებს სამმარის ჟადრი']}\n",
      "\n",
      "\n",
      "OpenAI\n",
      "{'alt_tag': 'A variety of autumnal produce including pumpkins and corn with a '\n",
      "            'yellow background and non-English text',\n",
      " 'iso_codes': ['ka'],\n",
      " 'languages': ['Georgian'],\n",
      " 'long_description': 'Assorted fall harvest crops and an urn, with non-English '\n",
      "                     'script floating above on a yellow backdrop.',\n",
      " 'text_strings': ['თბილებული დაგეგმეტ']}\n",
      "----------\n",
      "./images/iu/image.jpg\n",
      "SceneXplain\n",
      "{'alt_tag': 'List of job postings from the Government of Nunavut, Department '\n",
      "            'of Human Resources in Nuvuntu language',\n",
      " 'iso_codes': ['N/A', 'en', 'nsk'],\n",
      " 'languages': ['Nuvuntu', 'English', 'Naskapi'],\n",
      " 'long_description': 'Job postings list in Nuvuntu with roles such as Manager, '\n",
      "                     'Labourer and Data Entry Clerk. Salaries, postal '\n",
      "                     'addresses and website link are provided.',\n",
      " 'text_strings': ['Building Nunavut Together',\n",
      "                  'Batir le Memavut ensemble',\n",
      "                  'Acbba Abb4 (b Der Ab 66, 00',\n",
      "                  'DO 4º: $20,891',\n",
      "                  'DO STANU: $22,042',\n",
      "                  'Department of Human Resources, Government of Nunavut',\n",
      "                  'P.O. Box 2375, Cambridge Bay, Nunavut XOB OCO',\n",
      "                  'P.O. Box 899, Rankin Inlet, Nunavut XOC OGO.',\n",
      "                  'www.gov.nu.ca/iu/public-jobs']}\n",
      "\n",
      "\n",
      "OpenAI\n",
      "{'alt_tag': 'Job listings with contact information and logos',\n",
      " 'iso_codes': ['en', 'iu', 'fr'],\n",
      " 'languages': ['English', 'Inuktitut', 'French'],\n",
      " 'long_description': 'An image showcasing various job listings with salary '\n",
      "                     'information and contact details.',\n",
      " 'text_strings': ['Nunavut',\n",
      "                  'Building Nunavut Together',\n",
      "                  'Nunavuiliuqatigiingniq',\n",
      "                  'Batir le Nunavut ensemble',\n",
      "                  '$20,891',\n",
      "                  '$86,093',\n",
      "                  '#: 10-508020',\n",
      "                  '10, 2023',\n",
      "                  '$69,745 - $79,165',\n",
      "                  '#: 10-508066',\n",
      "                  '17, 2023',\n",
      "                  '$22,042',\n",
      "                  '$117,746',\n",
      "                  '#: 09-508042',\n",
      "                  '17, 2023',\n",
      "                  '$89,483 - $101,569',\n",
      "                  '#: 05-508050',\n",
      "                  '17, 2023',\n",
      "                  '$26,943',\n",
      "                  '$99,359',\n",
      "                  '#: 14-508030',\n",
      "                  '17, 2023',\n",
      "                  'Department of Human Resources, Government of Nunavut',\n",
      "                  'P.O. Box 2375, Cambridge Bay, Nunavut X0B 0C0',\n",
      "                  '(867) 983-4061',\n",
      "                  '(867) 983-4058',\n",
      "                  '1-866-667-6624',\n",
      "                  'hrkitikmeot@gov.nu.ca',\n",
      "                  '$18,517',\n",
      "                  '$100,780 - $114,378',\n",
      "                  '#: 05-508043',\n",
      "                  '10, 2023',\n",
      "                  'P.O. Box 899, Rankin Inlet, Nunavut X0C 0G0',\n",
      "                  '(867) 645-8097',\n",
      "                  '(867) 645-8065',\n",
      "                  '1-800-933-3072',\n",
      "                  'kivalliqhr@gov.nu.ca',\n",
      "                  'www.gov.nu.ca/iu/public-jobs']}\n",
      "----------\n",
      "./images/th/maggi-fusian-thailand-3740487815.jpg\n",
      "SceneXplain\n",
      "{'alt_tag': 'Two cups of noodles on a wooden surface with Thai characters and '\n",
      "            'a fire effect in the background and a 7-11 logo.',\n",
      " 'iso_codes': ['th', 'en'],\n",
      " 'languages': ['Thai', 'English'],\n",
      " 'long_description': 'Two cups of spicy noodles, one chicken and one shrimp, '\n",
      "                     'resting on a wooden table against a black and fiery '\n",
      "                     'background. Thai characters and a 7-11 logo are also '\n",
      "                     'visible.',\n",
      " 'text_strings': []}\n",
      "\n",
      "\n",
      "OpenAI\n",
      "{'alt_tag': 'Promotional image of two cups of instant noodles with Thai text.',\n",
      " 'iso_codes': ['th', 'en'],\n",
      " 'languages': ['Thai', 'English'],\n",
      " 'long_description': 'Two cups of instant noodles are featured against a fiery '\n",
      "                     'background with Thai script and a logo.',\n",
      " 'text_strings': ['รสชาต',\n",
      "                  'ทนากกา',\n",
      "                  'ชาติไทย',\n",
      "                  'ไม่ทิ้งความ',\n",
      "                  'รสชาติ',\n",
      "                  'มาม่า',\n",
      "                  'รสมีทอง',\n",
      "                  'Dare To Try',\n",
      "                  'Russian Taste']}\n",
      "----------\n",
      "./images/ar/artworks-000043896167-z3x71u-t500x500.jpg\n",
      "SceneXplain\n",
      "{'alt_tag': 'Advertisement for 4G LTE services featuring two men in a playful '\n",
      "            'scene',\n",
      " 'iso_codes': ['ar', 'en'],\n",
      " 'languages': ['Arabic', 'English'],\n",
      " 'long_description': 'Image for 4G LTE services. Captures two men, one in '\n",
      "                     'western and the other in Omani clothing, in a playful '\n",
      "                     'scene with various objects. Text present in Arabic and '\n",
      "                     'English.',\n",
      " 'text_strings': ['الحياة صارت أكثر سرعة', 'EAG', 'LTE']}\n",
      "\n",
      "\n",
      "OpenAI\n",
      "{'alt_tag': 'Two men with exaggerated expressions holding objects related to '\n",
      "            'speed and communication',\n",
      " 'iso_codes': ['ar'],\n",
      " 'languages': ['Arabic'],\n",
      " 'long_description': 'Illustrative advertisement with two men, one in '\n",
      "                     'traditional attire with digital devices, the other with '\n",
      "                     'a twig.',\n",
      " 'text_strings': ['الحياة طرات أكثر سرعة', '4G LTE']}\n",
      "----------\n",
      "./images/ar/0a6b502ffc7c748cc918cbb80d73f960.jpg\n",
      "SceneXplain\n",
      "{'alt_tag': 'Arabic advertisement for Kit Kat candy bars with two hands '\n",
      "            'reaching towards them',\n",
      " 'iso_codes': ['ar', 'en'],\n",
      " 'languages': ['Arabic', 'English'],\n",
      " 'long_description': 'Arabic and English advertisement for 25g Kit Kat candy '\n",
      "                     'bars, with two hands reaching to hold the candy. The '\n",
      "                     \"text on the advertisement includes 'كيت كات', 'بريَالَ \"\n",
      "                     \"وَاحِدْ', 'KitKat', '25gNET', 'WAFER FINGERS IN A', and \"\n",
      "                     \"'كيتكات'.\",\n",
      " 'text_strings': ['كيت كات',\n",
      "                  'بريَالَ وَاحِدْ',\n",
      "                  'KitKat',\n",
      "                  '25gNET',\n",
      "                  'WAFER FINGERS IN A',\n",
      "                  'كيتكات']}\n",
      "\n",
      "\n",
      "OpenAI\n",
      "{'alt_tag': 'Hand holding a partially opened KitKat chocolate bar with Arabic '\n",
      "            'text',\n",
      " 'iso_codes': ['ar', 'en'],\n",
      " 'languages': ['Arabic', 'English'],\n",
      " 'long_description': 'An individual is holding a KitKat chocolate bar, which '\n",
      "                     'is partially unwrapped to show the chocolate.',\n",
      " 'text_strings': ['معمول بالشوگولاتة و الحليب الكامل الدسم',\n",
      "                  '2 finger fingers IN',\n",
      "                  'KitKat',\n",
      "                  'جديد كيت كات',\n",
      "                  'كامل الوزن الصافي']}\n",
      "----------\n",
      "./images/ar/d46l5mu-22863ee5-ff85-4f18-ac95-2a76e16e9f77.jpg\n",
      "SceneXplain\n",
      "{'alt_tag': 'Advertisement for Maatouk Arabic coffee with a coffee pitcher and '\n",
      "            'the year 1960',\n",
      " 'iso_codes': ['ar', 'en'],\n",
      " 'languages': ['Arabic', 'English'],\n",
      " 'long_description': 'An inviting Maatouk coffee advertisement featuring a '\n",
      "                     'pitcher of coffee, Arabic texts and the year 1960.',\n",
      " 'text_strings': ['معتوق',\n",
      "                  'MAATOUK',\n",
      "                  '1 9 6 0',\n",
      "                  'قهوة عربية',\n",
      "                  'حسب الأصول',\n",
      "                  'تحميص غامق',\n",
      "                  'بن مطحون ١٠٠٪ أرابيكا',\n",
      "                  'أصالة المذاق وسهولة التحضير',\n",
      "                  'لطالما اشتهر العرب عبر ماضي الزمان بتحضير القهوة العربية في '\n",
      "                  'منازلهم، والتي تعد من أحد رموز الكرم والضيافة',\n",
      "                  'العربية. من هنا انطلقت مصانع معتوق لتقديم القهوة العربية '\n",
      "                  'السهلة التحضير ذات الرائحة المميزة والطعم الأصيل.',\n",
      "                  'القهوة العربية معتوق ١٩٦٠، قهوة عربية حسب الأصول.']}\n",
      "\n",
      "\n",
      "OpenAI\n",
      "{'alt_tag': 'Advertisement for Maatouk coffee with a golden dallah and cups',\n",
      " 'iso_codes': ['ar'],\n",
      " 'languages': ['Arabic'],\n",
      " 'long_description': 'An advertisement for traditional Arabic coffee featuring '\n",
      "                     'a gold dallah and cups.',\n",
      " 'text_strings': ['معتوق',\n",
      "                  'معتوق 1960',\n",
      "                  'خصوصية عربية حسب الأصول',\n",
      "                  'معلومات وسادة التميز',\n",
      "                  '+971-6-5022202',\n",
      "                  'info@matoukfactories.com']}\n",
      "----------\n",
      "./images/ko/pexels-photo-6314649.jpeg\n",
      "SceneXplain\n",
      "{'alt_tag': 'Wooden table with teapot, cups, bottles, and a neon sign that '\n",
      "            \"reads 'I love you' in Korean\",\n",
      " 'iso_codes': ['ko', 'ko', 'ko', 'ko', 'ko'],\n",
      " 'languages': ['Korean', 'Korean', 'Korean', 'Korean', 'Korean'],\n",
      " 'long_description': 'Image of a dimly lit room with a wooden table set with a '\n",
      "                     'teapot, cups, bottles, and a neon sign in Korean.',\n",
      " 'text_strings': ['|야', '좋은 날에 만나', '단이 방', '50', '좋은 나를 만나']}\n",
      "\n",
      "\n",
      "OpenAI\n",
      "{'alt_tag': 'An indoor setting with neon signs in Korean and a table with '\n",
      "            'bowls and bottles',\n",
      " 'iso_codes': ['ko'],\n",
      " 'languages': ['Korean'],\n",
      " 'long_description': 'A table set for dining in a room with glowing neon '\n",
      "                     'Korean text on the wall.',\n",
      " 'text_strings': ['술도 너에게 만나 담이 밤희', '술은 나를 만나']}\n",
      "----------\n",
      "./images/cn/pexels-photo-2670327.jpeg\n",
      "SceneXplain\n",
      "{'alt_tag': 'Men working in a food stall at an Asian night market',\n",
      " 'iso_codes': ['zh'],\n",
      " 'languages': ['Chinese'],\n",
      " 'long_description': 'Two men are preparing food at a food stall. There is '\n",
      "                     'signage in Chinese detailing food prices.',\n",
      " 'text_strings': ['金钱肚20元', '旺角牛筋腩20元', '旺角牛杂18元']}\n",
      "\n",
      "\n",
      "OpenAI\n",
      "{'alt_tag': 'Street food stall with cooks preparing food',\n",
      " 'iso_codes': ['zh'],\n",
      " 'languages': ['Chinese'],\n",
      " 'long_description': 'Street food stall with two cooks, steam, and signs '\n",
      "                     'showing food prices in Chinese.',\n",
      " 'text_strings': ['竹筴魚', '20元', '甜甜圈', '20元', '甜甜仙貝', '18元']}\n",
      "----------\n",
      "./images/cn/pexels-photo-3603453.jpeg\n",
      "SceneXplain\n",
      "{'alt_tag': 'Elderly Chinese man preparing food inside old-fashioned '\n",
      "            'restaurant',\n",
      " 'iso_codes': ['zh', 'zh', 'n/a', 'zh'],\n",
      " 'languages': ['Chinese', 'Chinese', 'Numeric', 'Chinese'],\n",
      " 'long_description': 'Elderly Chinese man in a white shirt and gloves '\n",
      "                     'preparing food inside a traditional Chinese restaurant. '\n",
      "                     'Chinese characters can be seen.',\n",
      " 'text_strings': ['老门框廣為心明', '王', '1', '卤']}\n",
      "\n",
      "\n",
      "OpenAI\n",
      "{'alt_tag': 'Chef preparing food in a steamy restaurant kitchen seen through a '\n",
      "            'window with Chinese text',\n",
      " 'iso_codes': ['zh'],\n",
      " 'languages': ['Chinese'],\n",
      " 'long_description': 'A chef is working in a kitchen visible through a '\n",
      "                     'fogged-up window with Chinese lettering.',\n",
      " 'text_strings': ['拉面', '热干面', '牛肉面', '牛筋面']}\n",
      "----------\n",
      "./images/th/119143302-2914108.jpeg\n",
      "SceneXplain\n",
      "{'alt_tag': 'Advertisement for Lolli laundry detergent',\n",
      " 'iso_codes': ['en', 'th'],\n",
      " 'languages': ['English', 'Thai'],\n",
      " 'long_description': 'Advertisement for Lolli laundry detergent featuring a '\n",
      "                     'white shirt in bubbly water surrounded by graphics and '\n",
      "                     'text',\n",
      " 'text_strings': ['1.',\n",
      "                  '2.',\n",
      "                  '30',\n",
      "                  '900 nšu',\n",
      "                  'ในอุณหภูมิ 30-40 ซม.',\n",
      "                  '2 ลิตร ครึ่งตัวล้าง']}\n",
      "\n",
      "\n",
      "OpenAI\n",
      "{'alt_tag': 'Laundry detergent advertisement with graphics and text',\n",
      " 'iso_codes': ['th'],\n",
      " 'languages': ['Thai'],\n",
      " 'long_description': 'Advertisement showing a white shirt being washed with '\n",
      "                     'text and laundry detergent packaging.',\n",
      " 'text_strings': ['เอ๊าะ',\n",
      "                  '1. ใยคลื่นสลับ 1 ชั้นยืดพุ่ง สะอาดเกินบรรยา',\n",
      "                  '30°',\n",
      "                  'สรุปคราบหมดเขต บนเสื้อเบาๆ',\n",
      "                  '2. น้ำเงินที่บริสุทธิ์',\n",
      "                  'เอ๊าะ 900กรัม ซักฟอก 3 IN 1']}\n",
      "----------\n",
      "./images/ar/pexels-photo-11127113.jpeg\n",
      "SceneXplain\n",
      "{'alt_tag': 'Person wearing hijab reading Arabic book.',\n",
      " 'iso_codes': ['ar', 'ar'],\n",
      " 'languages': ['Arabic', 'Arabic'],\n",
      " 'long_description': 'An individual with a hijab engaged in reading an Arabic '\n",
      "                     'book against a blue background.',\n",
      " 'text_strings': ['كذب الرجال', 'ولومر قوا ..']}\n",
      "\n",
      "\n",
      "OpenAI\n",
      "{'alt_tag': 'Person holding a book with Arabic text and a portrait on the '\n",
      "            'cover',\n",
      " 'iso_codes': ['ar'],\n",
      " 'languages': ['Arabic'],\n",
      " 'long_description': 'A person is holding a book with text in the Arabic '\n",
      "                     'script and a female portrait on the cover.',\n",
      " 'text_strings': ['كتبت احلام', 'مستغانمى', 'فى قلبى أنثى عبرية']}\n",
      "----------\n",
      "./images/klingon/illustration-digital-art-minimalism-text-logo-Star-Trek-vector-art-brand-Klingon-font-163176-4241574032.png\n",
      "SceneXplain\n",
      "{'alt_tag': 'Red wallpaper with black stripe and symbolic design',\n",
      " 'iso_codes': ['Unclear due to OCR readings limitations'],\n",
      " 'languages': ['Could be multiple, unable to confirm'],\n",
      " 'long_description': 'Image of a red wallpaper with a black stripe on the '\n",
      "                     'left. Features a mixed symbol of a circle, triangle, and '\n",
      "                     \"'V' or 'M'. Some text in black below, language and exact \"\n",
      "                     'message unclear.',\n",
      " 'text_strings': ['Unknown due to OCR readings limitations']}\n",
      "\n",
      "\n",
      "OpenAI\n",
      "{'alt_tag': 'A stylized red and black flag with a central emblem and mirrored '\n",
      "            'script',\n",
      " 'iso_codes': ['bn'],\n",
      " 'languages': ['Bengali'],\n",
      " 'long_description': 'Red and black flag with a circular emblem and unique '\n",
      "                     'mirrored text',\n",
      " 'text_strings': ['পশ্চিম', 'মেরু দুতীয় প্রজাতন্ত্র']}\n",
      "----------\n",
      "./images/hi/hindi Z-hotstar(1).png\n",
      "SceneXplain\n",
      "{'alt_tag': 'Zomato food delivery advertisement featuring a delivery person on '\n",
      "            'a motorcycle',\n",
      " 'iso_codes': ['hi', 'hi', 'hi', 'hi', 'hi', 'hi'],\n",
      " 'languages': ['Hindi'],\n",
      " 'long_description': 'An Indian Zomato food delivery representative dressed in '\n",
      "                     'red on a motorcycle with a large red delivery bag. The '\n",
      "                     'background is a red and white cityscape',\n",
      " 'text_strings': ['फ़ूड डिलिवर करें और',\n",
      "                  'कमाएँ हर हफ़्ते',\n",
      "                  'omato',\n",
      "                  'zomalo',\n",
      "                  'zomato',\n",
      "                  'के साथ फूड डिलिवरी पार्टनर बनें']}\n",
      "\n",
      "\n",
      "OpenAI\n",
      "{'alt_tag': 'Delivery person with a motorcycle banner ad',\n",
      " 'iso_codes': ['hi'],\n",
      " 'languages': ['Hindi'],\n",
      " 'long_description': 'An advertisement featuring a person on a motorcycle '\n",
      "                     'representing food delivery service.',\n",
      " 'text_strings': ['फुल टाइमल करें और कमाएँ हर घण्टे',\n",
      "                  'zomato',\n",
      "                  'हो रहा है डिलीवरी पार्टनर बनें']}\n",
      "----------\n",
      "./images/nastalik/image.png\n",
      "SceneXplain\n",
      "{'alt_tag': 'Urdu calligraphy artwork in black and white discussing TTP',\n",
      " 'iso_codes': ['ur'],\n",
      " 'languages': ['Urdu'],\n",
      " 'long_description': 'Black and white print of Urdu calligraphy art in a '\n",
      "                     'newspaper clipping discussing the TTP organization, '\n",
      "                     'emphasizing adherence to constitutional and legal '\n",
      "                     'adherence.',\n",
      " 'text_strings': ['TTP', 'باكستان ش ت ایک کو چيفة كاكها']}\n",
      "\n",
      "\n",
      "OpenAI\n",
      "{'alt_tag': 'Detailed Urdu text displayed on an image',\n",
      " 'iso_codes': ['ur'],\n",
      " 'languages': ['Urdu'],\n",
      " 'long_description': 'An image predominantly consisting of Urdu text in a '\n",
      "                     'decorative script.',\n",
      " 'text_strings': ['جنوبی وزیرستان میں سیکورٹی فورسز کا آپریشن، 60 دہشت گرد '\n",
      "                  'ہلاک',\n",
      "                  'تحریک طالبان پاکستان کے متعدد کمانڈرز بھی مارے گئے',\n",
      "                  'مشترکہ',\n",
      "                  'آپریشن',\n",
      "                  'فیض الله',\n",
      "                  'عمر خالد خراسانی سمیت',\n",
      "                  'جی ٹی ٹی پی',\n",
      "                  'قبائلی',\n",
      "                  'جرگہ سے مطالبہ',\n",
      "                  'بجلی بحران، کراچی کے شہری پریشان',\n",
      "                  '15 ہزار سے زائد کے بجلی کے بل نے شہریوں کو چکرا کے رکھ دیا',\n",
      "                  'کے الیکٹرک کے بے تحاشہ بلوں کے خلاف شہریوں میں شدید غم و '\n",
      "                  'غصہ',\n",
      "                  'شہریوں کا بجلی اور پانی کی بلا تعطل فراہمی کیلئے صوبائی اور '\n",
      "                  'وفاقی حکومت سے مطالبہ',\n",
      "                  'پاکستان اور ترکی کے مشترکہ ثقافتی وارثت منصوبے کا آغاز، '\n",
      "                  'ثقافتی تعاون کو فروغ دینے کے مقاصد',\n",
      "                  'اقتصادی تعاون تنظیم ’ای سی او‘ کے فورم پر تعاونِ علاقائی کے '\n",
      "                  'نئے دور کا آغاز']}\n",
      "----------\n"
     ]
    }
   ],
   "source": [
    "for file, sx_record, oa_record in zip(image_files, scenex_response, openai_response):\n",
    "    try:\n",
    "        sx_answer = json.loads(sx_record['i18n']['en'])\n",
    "        oa_answer = json.loads(oa_record.message.content)\n",
    "        print(file)\n",
    "    \n",
    "        print(\"SceneXplain\")\n",
    "        pprint(sx_answer)\n",
    "    \n",
    "        print('\\n')\n",
    "    \n",
    "        print(\"OpenAI\")\n",
    "        pprint(oa_answer)\n",
    "    except:\n",
    "        print(f\"{file} failed\")\n",
    "        \n",
    "    print(\"-\"*10)"
   ]
  },
  {
   "cell_type": "code",
   "execution_count": 46,
   "id": "730cdc0c-8e67-4da1-a62b-272aafec3e35",
   "metadata": {},
   "outputs": [
    {
     "name": "stdout",
     "output_type": "stream",
     "text": [
      "./images/he/s-l400-3959857765.jpg\n",
      "SceneXplain:\t['SOYA', 'COFFEE', 'QU & MOKAF']\n",
      "OpenAI:\t\t['SOVA', 'COFFEE', 'פילטר', 'מוקר', 'בטעם קפה ערב', 'חוליט כפרי']\n",
      "----------\n",
      "./images/hi/dabur-sarso-avala-hair-oil-ad-dainik-bhaskar-jaipur-12-12-2017.jpg\n",
      "SceneXplain:\t['सरसों आँवला', 'केश तेल', 'सरसों और आँवला', 'का पोषण बिना', 'चिपचिपाहट', 'में', 'नया', 'पैक', '₹9/-', 'सरसों आँवला', '40ml', 'DABUR CARES: CALL OR WRITE', '+ TOLL FREE 1800-103-1644']\n",
      "OpenAI:\t\t['सच्चा आमला', 'केश तेल', 'सरसों और आमला का पावर विना चिपचिपाहट', 'सिर्फ़ ₹x9* में', 'नया वैक', '40ml', 'BABUR CARES: CALL NOW OR WRITE', 'ई ज़ोन कोलकाता PIN 700107', 'EMAIL: daborcares.feedback@dabur', 'www.dabur.com', 'TOLL FREE 1800-103-1644']\n",
      "----------\n",
      "./images/ka/393644331_708375714670258_5034910646992091937_n.jpg\n",
      "SceneXplain:\t['Happy Thanksgiving', 'თანხმდებს სამმარის ჟადრი']\n",
      "OpenAI:\t\t['თბილებული დაგეგმეტ']\n",
      "----------\n",
      "./images/iu/image.jpg\n",
      "SceneXplain:\t['Building Nunavut Together', 'Batir le Memavut ensemble', 'Acbba Abb4 (b Der Ab 66, 00', 'DO 4º: $20,891', 'DO STANU: $22,042', 'Department of Human Resources, Government of Nunavut', 'P.O. Box 2375, Cambridge Bay, Nunavut XOB OCO', 'P.O. Box 899, Rankin Inlet, Nunavut XOC OGO.', 'www.gov.nu.ca/iu/public-jobs']\n",
      "OpenAI:\t\t['Nunavut', 'Building Nunavut Together', 'Nunavuiliuqatigiingniq', 'Batir le Nunavut ensemble', '$20,891', '$86,093', '#: 10-508020', '10, 2023', '$69,745 - $79,165', '#: 10-508066', '17, 2023', '$22,042', '$117,746', '#: 09-508042', '17, 2023', '$89,483 - $101,569', '#: 05-508050', '17, 2023', '$26,943', '$99,359', '#: 14-508030', '17, 2023', 'Department of Human Resources, Government of Nunavut', 'P.O. Box 2375, Cambridge Bay, Nunavut X0B 0C0', '(867) 983-4061', '(867) 983-4058', '1-866-667-6624', 'hrkitikmeot@gov.nu.ca', '$18,517', '$100,780 - $114,378', '#: 05-508043', '10, 2023', 'P.O. Box 899, Rankin Inlet, Nunavut X0C 0G0', '(867) 645-8097', '(867) 645-8065', '1-800-933-3072', 'kivalliqhr@gov.nu.ca', 'www.gov.nu.ca/iu/public-jobs']\n",
      "----------\n",
      "./images/th/maggi-fusian-thailand-3740487815.jpg\n",
      "SceneXplain:\t[]\n",
      "OpenAI:\t\t['รสชาต', 'ทนากกา', 'ชาติไทย', 'ไม่ทิ้งความ', 'รสชาติ', 'มาม่า', 'รสมีทอง', 'Dare To Try', 'Russian Taste']\n",
      "----------\n",
      "./images/ar/artworks-000043896167-z3x71u-t500x500.jpg\n",
      "SceneXplain:\t['الحياة صارت أكثر سرعة', 'EAG', 'LTE']\n",
      "OpenAI:\t\t['الحياة طرات أكثر سرعة', '4G LTE']\n",
      "----------\n",
      "./images/ar/0a6b502ffc7c748cc918cbb80d73f960.jpg\n",
      "SceneXplain:\t['كيت كات', 'بريَالَ وَاحِدْ', 'KitKat', '25gNET', 'WAFER FINGERS IN A', 'كيتكات']\n",
      "OpenAI:\t\t['معمول بالشوگولاتة و الحليب الكامل الدسم', '2 finger fingers IN', 'KitKat', 'جديد كيت كات', 'كامل الوزن الصافي']\n",
      "----------\n",
      "./images/ar/d46l5mu-22863ee5-ff85-4f18-ac95-2a76e16e9f77.jpg\n",
      "SceneXplain:\t['معتوق', 'MAATOUK', '1 9 6 0', 'قهوة عربية', 'حسب الأصول', 'تحميص غامق', 'بن مطحون ١٠٠٪ أرابيكا', 'أصالة المذاق وسهولة التحضير', 'لطالما اشتهر العرب عبر ماضي الزمان بتحضير القهوة العربية في منازلهم، والتي تعد من أحد رموز الكرم والضيافة', 'العربية. من هنا انطلقت مصانع معتوق لتقديم القهوة العربية السهلة التحضير ذات الرائحة المميزة والطعم الأصيل.', 'القهوة العربية معتوق ١٩٦٠، قهوة عربية حسب الأصول.']\n",
      "OpenAI:\t\t['معتوق', 'معتوق 1960', 'خصوصية عربية حسب الأصول', 'معلومات وسادة التميز', '+971-6-5022202', 'info@matoukfactories.com']\n",
      "----------\n",
      "./images/ko/pexels-photo-6314649.jpeg\n",
      "SceneXplain:\t['|야', '좋은 날에 만나', '단이 방', '50', '좋은 나를 만나']\n",
      "OpenAI:\t\t['술도 너에게 만나 담이 밤희', '술은 나를 만나']\n",
      "----------\n",
      "./images/cn/pexels-photo-2670327.jpeg\n",
      "SceneXplain:\t['金钱肚20元', '旺角牛筋腩20元', '旺角牛杂18元']\n",
      "OpenAI:\t\t['竹筴魚', '20元', '甜甜圈', '20元', '甜甜仙貝', '18元']\n",
      "----------\n",
      "./images/cn/pexels-photo-3603453.jpeg\n",
      "SceneXplain:\t['老门框廣為心明', '王', '1', '卤']\n",
      "OpenAI:\t\t['拉面', '热干面', '牛肉面', '牛筋面']\n",
      "----------\n",
      "./images/th/119143302-2914108.jpeg\n",
      "SceneXplain:\t['1.', '2.', '30', '900 nšu', 'ในอุณหภูมิ 30-40 ซม.', '2 ลิตร ครึ่งตัวล้าง']\n",
      "OpenAI:\t\t['เอ๊าะ', '1. ใยคลื่นสลับ 1 ชั้นยืดพุ่ง สะอาดเกินบรรยา', '30°', 'สรุปคราบหมดเขต บนเสื้อเบาๆ', '2. น้ำเงินที่บริสุทธิ์', 'เอ๊าะ 900กรัม ซักฟอก 3 IN 1']\n",
      "----------\n",
      "./images/ar/pexels-photo-11127113.jpeg\n",
      "SceneXplain:\t['كذب الرجال', 'ولومر قوا ..']\n",
      "OpenAI:\t\t['كتبت احلام', 'مستغانمى', 'فى قلبى أنثى عبرية']\n",
      "----------\n",
      "./images/klingon/illustration-digital-art-minimalism-text-logo-Star-Trek-vector-art-brand-Klingon-font-163176-4241574032.png\n",
      "SceneXplain:\t['Unknown due to OCR readings limitations']\n",
      "OpenAI:\t\t['পশ্চিম', 'মেরু দুতীয় প্রজাতন্ত্র']\n",
      "----------\n",
      "./images/hi/hindi Z-hotstar(1).png\n",
      "SceneXplain:\t['फ़ूड डिलिवर करें और', 'कमाएँ हर हफ़्ते', 'omato', 'zomalo', 'zomato', 'के साथ फूड डिलिवरी पार्टनर बनें']\n",
      "OpenAI:\t\t['फुल टाइमल करें और कमाएँ हर घण्टे', 'zomato', 'हो रहा है डिलीवरी पार्टनर बनें']\n",
      "----------\n",
      "./images/nastalik/image.png\n",
      "SceneXplain:\t['TTP', 'باكستان ش ت ایک کو چيفة كاكها']\n",
      "OpenAI:\t\t['جنوبی وزیرستان میں سیکورٹی فورسز کا آپریشن، 60 دہشت گرد ہلاک', 'تحریک طالبان پاکستان کے متعدد کمانڈرز بھی مارے گئے', 'مشترکہ', 'آپریشن', 'فیض الله', 'عمر خالد خراسانی سمیت', 'جی ٹی ٹی پی', 'قبائلی', 'جرگہ سے مطالبہ', 'بجلی بحران، کراچی کے شہری پریشان', '15 ہزار سے زائد کے بجلی کے بل نے شہریوں کو چکرا کے رکھ دیا', 'کے الیکٹرک کے بے تحاشہ بلوں کے خلاف شہریوں میں شدید غم و غصہ', 'شہریوں کا بجلی اور پانی کی بلا تعطل فراہمی کیلئے صوبائی اور وفاقی حکومت سے مطالبہ', 'پاکستان اور ترکی کے مشترکہ ثقافتی وارثت منصوبے کا آغاز، ثقافتی تعاون کو فروغ دینے کے مقاصد', 'اقتصادی تعاون تنظیم ’ای سی او‘ کے فورم پر تعاونِ علاقائی کے نئے دور کا آغاز']\n",
      "----------\n"
     ]
    }
   ],
   "source": [
    "for file, sx_record, oa_record in zip(image_files, scenex_response, openai_response):\n",
    "    try:\n",
    "        sx_answer = json.loads(sx_record['i18n']['en'])['text_strings']\n",
    "        oa_answer = json.loads(oa_record.message.content)['text_strings']\n",
    "        print(file)\n",
    "    \n",
    "        print(f\"SceneXplain:\\t{sx_answer}\")    \n",
    "        print(f\"OpenAI:\\t\\t{oa_answer}\")\n",
    "    except:\n",
    "        print(f\"{file} failed\")\n",
    "        \n",
    "    print(\"-\"*10)"
   ]
  },
  {
   "cell_type": "code",
   "execution_count": null,
   "id": "cddfb702-2807-4c0b-b4ae-fa9f963aad47",
   "metadata": {},
   "outputs": [],
   "source": []
  }
 ],
 "metadata": {
  "kernelspec": {
   "display_name": "Python 3 (ipykernel)",
   "language": "python",
   "name": "python3"
  },
  "language_info": {
   "codemirror_mode": {
    "name": "ipython",
    "version": 3
   },
   "file_extension": ".py",
   "mimetype": "text/x-python",
   "name": "python",
   "nbconvert_exporter": "python",
   "pygments_lexer": "ipython3",
   "version": "3.11.5"
  }
 },
 "nbformat": 4,
 "nbformat_minor": 5
}
