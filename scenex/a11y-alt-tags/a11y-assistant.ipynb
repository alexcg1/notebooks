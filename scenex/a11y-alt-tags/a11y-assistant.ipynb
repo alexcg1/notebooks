{
 "cells": [
  {
   "cell_type": "markdown",
   "id": "fcbf9ef6-954e-4bce-92e9-f34f75ce8e2d",
   "metadata": {},
   "source": [
    "# SceneXplain: Accessibility Assistant\n",
    "\n",
    "In this notebook we will use Jina AI's [SceneXplain](https://scenex.jina.ai) to cycle through a list of images and for each one:\n",
    "\n",
    "- Generate an alt-tag\n",
    "- Assess whether it is color-blind safe\n",
    "- Assess whether it offers enough contrast for visually impaired users\n",
    "- Offer advice on how to improve its accessibility\n",
    "\n",
    "We will cycle through several different lists of images:\n",
    "\n",
    "- \"Standard\" photographs\n",
    "- Infographics and similar\n",
    "- Color-blind unsafe images\n",
    "- Low-contrast images"
   ]
  },
  {
   "cell_type": "markdown",
   "id": "7fdeacbd-7778-4577-9cb1-a415f4543020",
   "metadata": {},
   "source": [
    "## Basic setup\n",
    "\n",
    "Functions to send generate image lists, populate the data to send to SceneXplain, send that data, then pretty-print the output."
   ]
  },
  {
   "cell_type": "code",
   "execution_count": 9,
   "id": "6853e921-c017-4c69-9cfa-ac24946c01e5",
   "metadata": {},
   "outputs": [],
   "source": [
    "from dotenv import load_dotenv\n",
    "import os\n",
    "import json\n",
    "import base64\n",
    "import http.client\n",
    "from pprint import pprint\n",
    "from glob import glob"
   ]
  },
  {
   "cell_type": "code",
   "execution_count": 2,
   "id": "8150c5c4-f17b-4cb8-9334-0ccc201dafe2",
   "metadata": {},
   "outputs": [
    {
     "name": "stdout",
     "output_type": "stream",
     "text": [
      "Environment variables loaded from .env\n"
     ]
    }
   ],
   "source": [
    "try:\n",
    "    from dotenv import load_dotenv\n",
    "    load_dotenv()\n",
    "    print(\"Environment variables loaded from .env\")\n",
    "except ImportError:\n",
    "    os.environ['OPENAI_API_KEY'] = \"<your OpenAI key>\"\n",
    "    os.environ['SCENEX_SECRET'] = \"<your SceneXplain key>\""
   ]
  },
  {
   "cell_type": "code",
   "execution_count": 129,
   "id": "932c4556-c56b-4689-9e81-93e22457e9ea",
   "metadata": {},
   "outputs": [],
   "source": [
    "def generate_image_list(subfolder, max_count=100, root_folder='./images'):\n",
    "    file_path = os.path.join(root_folder, subfolder)\n",
    "    filetypes = ['jpg', 'jpeg', 'png']\n",
    "    image_files = []\n",
    "    \n",
    "    for filetype in filetypes:\n",
    "        image_files.extend(glob(f'{file_path}/*.{filetype}'))\n",
    "\n",
    "    return image_files[:max_count]"
   ]
  },
  {
   "cell_type": "code",
   "execution_count": 115,
   "id": "edb3ed91-eb28-4542-929e-d6308ac31ab8",
   "metadata": {},
   "outputs": [],
   "source": [
    "# SceneX setup and functions\n",
    "\n",
    "SCENEX_SECRET=os.getenv('SCENEX_SECRET')\n",
    "features = [\"json\"]\n",
    "\n",
    "scenex_headers = {\n",
    "    \"x-api-key\": f\"token {SCENEX_SECRET}\",\n",
    "    \"content-type\": \"application/json\",\n",
    "}\n",
    "\n",
    "ALGO = \"GPT4V\"\n",
    "\n",
    "def image_to_data_uri(file_path):\n",
    "    with open(file_path, \"rb\") as image_file:\n",
    "        encoded_image = base64.b64encode(image_file.read()).decode(\"utf-8\")\n",
    "        return f\"data:image/png;base64,{encoded_image}\"\n",
    "        \n",
    "def generate_scenex_data(image_files, json_schema=None, question=None, features=[]):\n",
    "    data = {}\n",
    "    data['data'] = []\n",
    "\n",
    "    for file in image_files:\n",
    "        cid = file.split('/')[-1]\n",
    "        row = {\n",
    "            \"image\": image_to_data_uri(file),\n",
    "            \"features\": features,\n",
    "            \"algorithm\": ALGO,\n",
    "            \"cid\": cid\n",
    "        }\n",
    "\n",
    "        if question:\n",
    "            row[\"question\"] = question\n",
    "\n",
    "        if json_schema:\n",
    "            row[\"json_schema\"] = json_schema\n",
    "\n",
    "        data['data'].append(row)\n",
    "\n",
    "    return data\n",
    "\n",
    "def process_scenex(data):\n",
    "    connection = http.client.HTTPSConnection(\"api.scenex.jina.ai\")\n",
    "    connection.request(\"POST\", \"/v1/describe\", json.dumps(data), scenex_headers)\n",
    "    response = connection.getresponse()\n",
    "    response_data = response.read().decode(\"utf-8\")\n",
    "    \n",
    "    connection.close()\n",
    "\n",
    "    return json.loads(response_data)['result']"
   ]
  },
  {
   "cell_type": "code",
   "execution_count": 136,
   "id": "cb6861c4-73a7-4b9b-ad97-386c881aee1e",
   "metadata": {},
   "outputs": [],
   "source": [
    "def print_output(image_files, sx_response):\n",
    "    for file, sx_record in zip(image_files, sx_response):\n",
    "        try:\n",
    "            sx_answer = json.loads(sx_record['i18n']['en'])\n",
    "            print(file)\n",
    "        \n",
    "            pprint(sx_answer)    \n",
    "        except:\n",
    "            print(f\"{file} failed\")\n",
    "            pprint(sx_record)\n",
    "            \n",
    "        print(\"-\"*10)"
   ]
  },
  {
   "cell_type": "markdown",
   "id": "82af8566-d99f-4069-a43a-2a7d72d42ab8",
   "metadata": {},
   "source": [
    "## Schema definition\n",
    "\n",
    "The schema defines the information we want from SceneXplain and the JSON output format we desire"
   ]
  },
  {
   "cell_type": "code",
   "execution_count": 108,
   "id": "5d9a5495-1544-43e8-bf2e-65bf6c93d451",
   "metadata": {},
   "outputs": [],
   "source": [
    "schema = {\n",
    "  \"type\": \"object\",\n",
    "  \"properties\": {\n",
    "    \"alt_tag\": {\n",
    "      \"type\": \"string\",\n",
    "      \"description\": \"the most concise description possible of the image’s purpose. If the image is purely decorative (e.g. part of the website's design, not content), leave empty. Do not include text like 'this image contains' or 'image depicts'\"\n",
    "    },\n",
    "    # \"caption_transcript\": {\n",
    "    #   \"type\": \"string\",\n",
    "    #   \"description\": \"if the image conveying significant information (like an infographic) provide captions or transcripts for images. Otherwise leave empty\"\n",
    "    # },\n",
    "    \"color_blind_safe\": {\n",
    "      \"type\": \"boolean\",\n",
    "      \"description\": \"Can a color-blind person tell what is in this image?\"\n",
    "    },\n",
    "    \"good_contrast\": {\n",
    "        \"type\": \"boolean\",\n",
    "        \"description\": \"Given the image's color contrast, could a visually-impaired person easily understand what is in the image\"\n",
    "    },\n",
    "    \"a11y_recs\": {\n",
    "        \"type\": \"array\",\n",
    "        \"description\": \"A list of recommendations to improve the accessibility of this image\"\n",
    "    }\n",
    "  }\n",
    "}\n"
   ]
  },
  {
   "cell_type": "markdown",
   "id": "e74c9280-150c-43d8-a875-27e279489228",
   "metadata": {},
   "source": [
    "## Putting SceneXplain to the A11y test"
   ]
  },
  {
   "cell_type": "markdown",
   "id": "d1ae2396-129d-412b-b8f3-4deec9c47baa",
   "metadata": {},
   "source": [
    "### Standard photos\n",
    "\n",
    "Taken from pexels.com"
   ]
  },
  {
   "cell_type": "code",
   "execution_count": 121,
   "id": "962298f0-f5be-4e9c-8c9a-fdf13d81ecfd",
   "metadata": {},
   "outputs": [],
   "source": [
    "image_files = generate_image_list('photos')"
   ]
  },
  {
   "cell_type": "code",
   "execution_count": 122,
   "id": "a53ada49-1345-46c5-bef9-b9c5f397fb51",
   "metadata": {},
   "outputs": [],
   "source": [
    "scenex_data = generate_scenex_data(image_files, json_schema=json.dumps(schema), features=features)"
   ]
  },
  {
   "cell_type": "code",
   "execution_count": 123,
   "id": "674e0c55-3740-425f-8502-1ad9f551754c",
   "metadata": {},
   "outputs": [],
   "source": [
    "scenex_response = process_scenex(scenex_data)"
   ]
  },
  {
   "cell_type": "code",
   "execution_count": 124,
   "id": "d6f015b4-a70a-4fdb-9458-543fd765d892",
   "metadata": {},
   "outputs": [
    {
     "name": "stdout",
     "output_type": "stream",
     "text": [
      "./images/photos/free-photo-of-leaves-on-the-branch.jpeg\n",
      "{'a11y_recs': ['Use higher contrast between the leaves and the background for '\n",
      "               'better definition.',\n",
      "               'Add descriptive text for the image that explains the seasonal '\n",
      "               'changes represented by the leaf colors.'],\n",
      " 'alt_tag': 'Close-up of deciduous tree leaves transitioning from green to '\n",
      "            'yellow and brown, amidst ferns',\n",
      " 'color_blind_safe': False,\n",
      " 'good_contrast': True}\n",
      "----------\n",
      "./images/photos/free-photo-of-a-bowl-of-granola-with-fruit-and-nuts-on-a-wooden-cutting-board.jpeg\n",
      "{'a11y_recs': [],\n",
      " 'alt_tag': 'Bowl of granola with pomegranate seeds and strawberry slices on a '\n",
      "            'bamboo board',\n",
      " 'color_blind_safe': True,\n",
      " 'good_contrast': True}\n",
      "----------\n",
      "./images/photos/free-photo-of-pose-woman-dress-in-the-desert-gold-light-curly-hair.jpeg\n",
      "{'a11y_recs': ['Increase contrast between subject and background',\n",
      "               'Provide detailed description for screen readers'],\n",
      " 'alt_tag': 'Person with curly hair in sunlight',\n",
      " 'color_blind_safe': True,\n",
      " 'good_contrast': False}\n",
      "----------\n"
     ]
    }
   ],
   "source": [
    "print_output(image_files, scenex_response)"
   ]
  },
  {
   "cell_type": "markdown",
   "id": "f5422817-f259-40d2-b422-1a61af8c553d",
   "metadata": {},
   "source": [
    "### Color blindness tests\n",
    "\n",
    "Several [Ishihara tests](https://en.wikipedia.org/wiki/Ishihara_test) scraped from the web."
   ]
  },
  {
   "cell_type": "code",
   "execution_count": 130,
   "id": "765a11c6-eb34-437b-b6ab-972a849941fd",
   "metadata": {},
   "outputs": [],
   "source": [
    "image_files = generate_image_list('color-blind')"
   ]
  },
  {
   "cell_type": "code",
   "execution_count": 131,
   "id": "594f60a3-d90a-4baf-94ec-552cc6c90f96",
   "metadata": {},
   "outputs": [],
   "source": [
    "scenex_data = generate_scenex_data(image_files, json_schema=json.dumps(schema), features=features)"
   ]
  },
  {
   "cell_type": "code",
   "execution_count": 138,
   "id": "26ebc647-10ce-48a9-8cdc-de2c15dc4d3a",
   "metadata": {},
   "outputs": [],
   "source": [
    "scenex_response = process_scenex(scenex_data)"
   ]
  },
  {
   "cell_type": "code",
   "execution_count": 139,
   "id": "6d92b84f-eb7d-4610-94b7-06e985cd0050",
   "metadata": {
    "scrolled": true
   },
   "outputs": [
    {
     "name": "stdout",
     "output_type": "stream",
     "text": [
      "./images/color-blind/ColorBlindness_share.jpg failed\n",
      "{'error': {'message': 'Internal error', 'status': 'INTERNAL'}}\n",
      "----------\n",
      "./images/color-blind/images.jpg failed\n",
      "{'error': {'message': 'Internal error', 'status': 'INTERNAL'}}\n",
      "----------\n",
      "./images/color-blind/pexels-photo-1400172.jpeg failed\n",
      "{'error': {'message': 'Internal error', 'status': 'INTERNAL'}}\n",
      "----------\n",
      "./images/color-blind/pexels-photo-531910.jpeg failed\n",
      "{'error': {'message': 'Internal error', 'status': 'INTERNAL'}}\n",
      "----------\n",
      "./images/color-blind/pexels-photo-5529540.png failed\n",
      "{'error': {'message': 'Internal error', 'status': 'INTERNAL'}}\n",
      "----------\n",
      "./images/color-blind/Ishihara_9.svg.png failed\n",
      "{'error': {'message': 'Internal error', 'status': 'INTERNAL'}}\n",
      "----------\n",
      "./images/color-blind/ishihara-color-plate-test.png failed\n",
      "{'error': {'message': 'Internal error', 'status': 'INTERNAL'}}\n",
      "----------\n"
     ]
    }
   ],
   "source": [
    "print_output(image_files, scenex_response)"
   ]
  },
  {
   "cell_type": "markdown",
   "id": "e31f3046-796e-4b22-be89-f670abcb0c85",
   "metadata": {},
   "source": [
    "### Low contrast tests\n",
    "\n",
    "Mostly edited versions of the photos from pexels.com"
   ]
  },
  {
   "cell_type": "code",
   "execution_count": 116,
   "id": "3e24cebe-3c57-4392-b612-55986fa3ba0b",
   "metadata": {},
   "outputs": [],
   "source": [
    "image_files = generate_image_list('low-contrast', 3)"
   ]
  },
  {
   "cell_type": "code",
   "execution_count": 117,
   "id": "51fbe8c9-0c9b-42fc-8353-d13ab1052a24",
   "metadata": {},
   "outputs": [
    {
     "data": {
      "text/plain": [
       "['./images/low-contrast/free-photo-of-a-bowl-of-granola-with-fruit-and-nuts-on-a-wooden-cutting-board.jpeg',\n",
       " './images/low-contrast/free-photo-of-pose-woman-dress-in-the-desert-gold-light-curly-hair.jpeg',\n",
       " './images/low-contrast/free-photo-of-holida-christmas-party-drinks-ornaments.jpeg']"
      ]
     },
     "execution_count": 117,
     "metadata": {},
     "output_type": "execute_result"
    }
   ],
   "source": [
    "image_files"
   ]
  },
  {
   "cell_type": "code",
   "execution_count": 118,
   "id": "bde725bb-cf9f-4806-9b02-4821fe1e2010",
   "metadata": {},
   "outputs": [],
   "source": [
    "scenex_data = generate_scenex_data(image_files, json_schema=json.dumps(schema), features=features)"
   ]
  },
  {
   "cell_type": "code",
   "execution_count": 119,
   "id": "c8f0c503-c869-4f54-b732-6dc52fdbc714",
   "metadata": {},
   "outputs": [],
   "source": [
    "scenex_response = process_scenex(scenex_data)"
   ]
  },
  {
   "cell_type": "code",
   "execution_count": 120,
   "id": "48eb9fed-c3b9-4ee4-9278-550ed1babd6f",
   "metadata": {
    "scrolled": true
   },
   "outputs": [
    {
     "name": "stdout",
     "output_type": "stream",
     "text": [
      "./images/low-contrast/free-photo-of-a-bowl-of-granola-with-fruit-and-nuts-on-a-wooden-cutting-board.jpeg\n",
      "{'a11y_recs': ['Increase overall image contrast to help visually-impaired '\n",
      "               'individuals better distinguish the details',\n",
      "               'Add a clear label or caption to describe the content for those '\n",
      "               'who cannot see the image'],\n",
      " 'alt_tag': 'Bowl of granola with pomegranate seeds and sliced strawberries',\n",
      " 'color_blind_safe': True,\n",
      " 'good_contrast': False}\n",
      "----------\n",
      "./images/low-contrast/free-photo-of-pose-woman-dress-in-the-desert-gold-light-curly-hair.jpeg\n",
      "{'a11y_recs': ['Increase image contrast to make the features more '\n",
      "               'distinguishable',\n",
      "               'Provide descriptive alternative text that conveys contextual '\n",
      "               'information'],\n",
      " 'alt_tag': 'Person with curly hair partially obscuring their face, wearing a '\n",
      "            'beige coat',\n",
      " 'color_blind_safe': True,\n",
      " 'good_contrast': False}\n",
      "----------\n",
      "./images/low-contrast/free-photo-of-holida-christmas-party-drinks-ornaments.jpeg failed\n",
      "----------\n"
     ]
    }
   ],
   "source": [
    "print_output(image_files, scenex_response)"
   ]
  },
  {
   "cell_type": "code",
   "execution_count": null,
   "id": "fa999ab4-27cb-43df-97a8-4ad99811d4ea",
   "metadata": {},
   "outputs": [],
   "source": []
  }
 ],
 "metadata": {
  "kernelspec": {
   "display_name": "Python 3 (ipykernel)",
   "language": "python",
   "name": "python3"
  },
  "language_info": {
   "codemirror_mode": {
    "name": "ipython",
    "version": 3
   },
   "file_extension": ".py",
   "mimetype": "text/x-python",
   "name": "python",
   "nbconvert_exporter": "python",
   "pygments_lexer": "ipython3",
   "version": "3.11.5"
  }
 },
 "nbformat": 4,
 "nbformat_minor": 5
}
