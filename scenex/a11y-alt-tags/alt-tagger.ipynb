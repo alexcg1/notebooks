{
 "cells": [
  {
   "cell_type": "markdown",
   "id": "fcbf9ef6-954e-4bce-92e9-f34f75ce8e2d",
   "metadata": {},
   "source": [
    "# SceneXplain: Alt-text generator\n",
    "\n",
    "In this notebook we will use Jina AI's [SceneXplain](https://scenex.jina.ai) to cycle through a zip file of images and generate an alt-text for each one. The output will be stored in a CSV file then re-zipped with the images.\n",
    "\n",
    "For example, if we send the image file: `free-photo-of-red.jpeg`:\n",
    "\n",
    "![](https://github.com/alexcg1/notebooks/blob/main/scenex/a11y-alt-tags/example/free-photo-of-red.jpeg?raw=true)\n",
    "\n",
    "We get the output:\n",
    "\n",
    "```json\n",
    "{\n",
    "  \"alt_text\": \"Rear view of a red classic 'Malibu Classic' car focusing on tail light and chrome bumper\"\n",
    "}\n",
    "```\n",
    "\n",
    "We will:\n",
    "\n",
    "- Unzip the images\n",
    "- Send them to SceneXplain to get alt-texts\n",
    "- Write the alt-texts to a CSV file, along with the image filenames\n",
    "- Re-zip the file\n",
    "\n",
    "Before proceeding, please sign up for [SceneXplain](https://scenex.jina.ai), create an [API key](https://scenex.jina.ai/api), and paste it below:"
   ]
  },
  {
   "cell_type": "code",
   "execution_count": 25,
   "id": "47d74d44-847f-4beb-a0c1-eab4548e139c",
   "metadata": {},
   "outputs": [],
   "source": [
    "SCENEX_SECRET = \"52vxFUyvkMw8Gj0mANeI:945e07e84e19b98953e85654a49d096ec49416da321e9b91f50171cbc75b03b0\""
   ]
  },
  {
   "cell_type": "markdown",
   "id": "882df444-b844-41e4-b224-6a9c44b3eb90",
   "metadata": {},
   "source": [
    "## Notes\n",
    "\n",
    "### File structure\n",
    "\n",
    "The zip file must have a flat structure. That is, all image files must be at the top level of the file, e.g:\n",
    "\n",
    "```\n",
    "images.zip\n",
    "├── free-photo-of-a-bowl-of-granola-with-fruit-and-nuts-on-a-wooden-cutting-board.jpeg\n",
    "├── free-photo-of-alexandrine-parakeet-in-side-view.png\n",
    "├── free-photo-of-holida-christmas-party-drinks-ornaments.jpeg\n",
    "├── free-photo-of-leaves-on-the-branch.jpeg\n",
    "├── free-photo-of-pose-woman-dress-in-the-desert-gold-light-curly-hair.jpeg\n",
    "├── free-photo-of-red.jpeg\n",
    "└── pexels-photo-12015253.png\n",
    "```\n",
    "\n",
    "### Free plan limitations\n",
    "\n",
    "Many users of this notebook may be using the free SceneXplain plan, which is limited to eight images per batch. For the sake of this example, we suggest you use [this zipfile of seven images](https://github.com/alexcg1/notebooks/raw/main/scenex/a11y-alt-tags/images.zip). For more complex needs, you may need to either refactor the code in this notebook or switch to a [paid plain](https://scenex.jina.ai/#pricing).\n",
    "\n",
    "## SceneXplain JSON Store\n",
    "\n",
    "We'll use SceneXplain's JSON Store to pull a predefined schema that is specialized for generating alt-texts. This is just a simple use case for the JSON Store, so be sure to browse and explore what else you can do with it!\n",
    "\n",
    "Our JSON Schema looks something like this:\n",
    "\n",
    "```json\n",
    "{\n",
    "  \"type\": \"object\",\n",
    "  \"properties\": {\n",
    "    \"alt_text\": {\n",
    "      \"type\": \"string\",\n",
    "      \"description\": \"the most concise description possible of the image’s purpose. If the image is purely decorative (e.g. part of the website's design, not content), leave empty. Do not include text like 'this image contains' or 'image depicts'\"\n",
    "    }\n",
    "  }\n",
    "}\n",
    "```\n",
    "\n",
    "Below we've defined two JSON Schema IDs, one for general alt-texts, and one specifically targeted for screenshot alt-texts."
   ]
  },
  {
   "cell_type": "code",
   "execution_count": 26,
   "id": "210b1403-bf2f-4d1b-969a-e9e9baf2c16c",
   "metadata": {},
   "outputs": [],
   "source": [
    "json_schema = \"z2qaOJPkkR7k8wr2OV1q\"  # generic alt-texts\n",
    "# json_schema = \"WJ84ezfnag0zWxgkmDJY\"  # screenshot alt-texts"
   ]
  },
  {
   "cell_type": "markdown",
   "id": "cf61105a-0a3c-47e1-bc58-358a3f7891ab",
   "metadata": {},
   "source": [
    "## User options\n",
    "\n",
    "Some basic options about input/output/CSV filenames."
   ]
  },
  {
   "cell_type": "code",
   "execution_count": 27,
   "id": "1f9278cf-f458-4fd3-9f0c-a31bbe32bc25",
   "metadata": {},
   "outputs": [],
   "source": [
    "# filenames\n",
    "zip_input = \"images.zip\"\n",
    "zip_output = \"images_with_alt_texts.zip\"\n",
    "csv_filename = \"alt_texts.csv\""
   ]
  },
  {
   "cell_type": "markdown",
   "id": "7fdeacbd-7778-4577-9cb1-a415f4543020",
   "metadata": {},
   "source": [
    "## Basic setup\n",
    "\n",
    "Functions to send generate image lists, populate the data to send to SceneXplain, send that data."
   ]
  },
  {
   "cell_type": "code",
   "execution_count": 28,
   "id": "6853e921-c017-4c69-9cfa-ac24946c01e5",
   "metadata": {},
   "outputs": [],
   "source": [
    "import os\n",
    "import json\n",
    "import base64\n",
    "import http.client\n",
    "from pprint import pprint\n",
    "from glob import glob\n",
    "import csv\n",
    "import tempfile"
   ]
  },
  {
   "cell_type": "code",
   "execution_count": 29,
   "id": "561aabb3-ad11-407c-ac53-94cc789566ce",
   "metadata": {},
   "outputs": [],
   "source": [
    "def extract_zip(zip_file):\n",
    "    temp_dir = tempfile.mkdtemp()\n",
    "    with zipfile.ZipFile(zip_input, 'r') as zip_ref:\n",
    "        zip_ref.extractall(temp_dir)\n",
    "\n",
    "        return temp_dir"
   ]
  },
  {
   "cell_type": "code",
   "execution_count": 30,
   "id": "932c4556-c56b-4689-9e81-93e22457e9ea",
   "metadata": {},
   "outputs": [],
   "source": [
    "def generate_image_list(folder_name, max_count=100):\n",
    "    filetypes = ['jpg', 'jpeg', 'png']\n",
    "    image_files = []\n",
    "    \n",
    "    for filetype in filetypes:\n",
    "        image_files.extend(glob(f'{folder_name}/*.{filetype}'))\n",
    "\n",
    "    return image_files[:max_count]"
   ]
  },
  {
   "cell_type": "code",
   "execution_count": 31,
   "id": "edb3ed91-eb28-4542-929e-d6308ac31ab8",
   "metadata": {},
   "outputs": [],
   "source": [
    "# SceneX setup and functions\n",
    "\n",
    "scenex_headers = {\n",
    "    \"x-api-key\": f\"token {SCENEX_SECRET}\",\n",
    "    \"content-type\": \"application/json\",\n",
    "}\n",
    "\n",
    "def image_to_data_uri(file_path):\n",
    "    with open(file_path, \"rb\") as image_file:\n",
    "        encoded_image = base64.b64encode(image_file.read()).decode(\"utf-8\")\n",
    "        return f\"data:image/png;base64,{encoded_image}\"\n",
    "        \n",
    "def generate_scenex_data(image_files):\n",
    "    data = {}\n",
    "    data['data'] = []\n",
    "\n",
    "    for file in image_files:\n",
    "        cid = file.split('/')[-1]\n",
    "        row = {\n",
    "            \"image\": image_to_data_uri(file),\n",
    "            \"features\": [\"json\"],\n",
    "            \"json_schema_id\": json_schema\n",
    "        }\n",
    "\n",
    "        data['data'].append(row)\n",
    "\n",
    "    return data\n",
    "\n",
    "def process_scenex(data):\n",
    "    connection = http.client.HTTPSConnection(\"api.scenex.jina.ai\")\n",
    "    connection.request(\"POST\", \"/v1/describe\", json.dumps(data), scenex_headers)\n",
    "    response = connection.getresponse()\n",
    "    response_data = response.read().decode(\"utf-8\")\n",
    "    \n",
    "    connection.close()\n",
    "\n",
    "    return json.loads(response_data)['result']"
   ]
  },
  {
   "attachments": {},
   "cell_type": "markdown",
   "id": "4f406d09-efbd-4105-8c13-cca24c6d79db",
   "metadata": {},
   "source": [
    "## Creating our alt-texts\n",
    "\n",
    "### Unzip images\n",
    "\n",
    "Unzip the images into a temporary directory which we'll clean up later. For this notebook we'll use an example zipfile of images."
   ]
  },
  {
   "cell_type": "code",
   "execution_count": 32,
   "id": "305b4c39-5582-4ae3-815e-121b33b3769b",
   "metadata": {},
   "outputs": [],
   "source": [
    "if not os.path.isfile(zip_input):\n",
    "    print(\"Downloading images.zip\")\n",
    "    os.system(\"wget -q https://github.com/alexcg1/notebooks/raw/main/scenex/a11y-alt-tags/images.zip\")"
   ]
  },
  {
   "cell_type": "code",
   "execution_count": 33,
   "id": "7a9edf13-6cb2-4911-a0f7-375b422eff4e",
   "metadata": {},
   "outputs": [],
   "source": [
    "import zipfile"
   ]
  },
  {
   "cell_type": "code",
   "execution_count": 34,
   "id": "46ac6c70-1338-4ffc-9601-ebd98a9d8910",
   "metadata": {},
   "outputs": [],
   "source": [
    "temp_dir = extract_zip(zip_input)"
   ]
  },
  {
   "cell_type": "markdown",
   "id": "f97abdea-b617-4659-98cd-a265eb4ab53f",
   "metadata": {},
   "source": [
    "### Generate data\n",
    "\n",
    "Let's take the image list and add our SceneXplain options (e.g. JSON Schema ID, image data URI, etc)."
   ]
  },
  {
   "cell_type": "code",
   "execution_count": 35,
   "id": "962298f0-f5be-4e9c-8c9a-fdf13d81ecfd",
   "metadata": {},
   "outputs": [],
   "source": [
    "image_files = generate_image_list(temp_dir)"
   ]
  },
  {
   "cell_type": "code",
   "execution_count": 36,
   "id": "a53ada49-1345-46c5-bef9-b9c5f397fb51",
   "metadata": {},
   "outputs": [],
   "source": [
    "scenex_data = generate_scenex_data(image_files)"
   ]
  },
  {
   "cell_type": "markdown",
   "id": "3f905fd0-bf95-4f13-a609-e42e842efbb1",
   "metadata": {},
   "source": [
    "### Send data to SceneXplain"
   ]
  },
  {
   "cell_type": "code",
   "execution_count": 37,
   "id": "674e0c55-3740-425f-8502-1ad9f551754c",
   "metadata": {},
   "outputs": [],
   "source": [
    "scenex_response = process_scenex(scenex_data)"
   ]
  },
  {
   "cell_type": "markdown",
   "id": "3c8b2612-0d7e-463f-ba86-0dc9d69a9bea",
   "metadata": {},
   "source": [
    "### Write to CSV"
   ]
  },
  {
   "cell_type": "code",
   "execution_count": 38,
   "id": "c4d06309-d7d7-45cc-8497-e764f9980ebb",
   "metadata": {},
   "outputs": [],
   "source": [
    "headers = [\"filename\", \"alt-text\"]"
   ]
  },
  {
   "cell_type": "code",
   "execution_count": 39,
   "id": "43374d5c-d4b4-41dd-bdc1-3cc5e51e3812",
   "metadata": {},
   "outputs": [],
   "source": [
    "def generate_csv(csv_filename, image_files, scenex_response):\n",
    "    with open(csv_filename, mode='w', newline='') as file:\n",
    "        writer = csv.writer(file)\n",
    "        writer.writerow(headers)\n",
    "        for filename, row in zip(image_files, scenex_response):\n",
    "            alt_text = json.loads(row['i18n']['en'])['alt_text']\n",
    "            row = [filename, alt_text]\n",
    "            writer.writerow(row)"
   ]
  },
  {
   "cell_type": "code",
   "execution_count": 40,
   "id": "46ce7a36-d3d1-4a21-b5d3-97e6a87df3cc",
   "metadata": {},
   "outputs": [],
   "source": [
    "generate_csv(csv_filename, image_files, scenex_response)"
   ]
  },
  {
   "cell_type": "markdown",
   "id": "1bb2a09d-88ea-41ef-a489-aa9f5feceadf",
   "metadata": {},
   "source": [
    "### View results\n",
    "\n",
    "Let's see how SceneXplain's alt-texts look:"
   ]
  },
  {
   "cell_type": "code",
   "execution_count": 41,
   "id": "baf12368-eb52-4ff7-850b-95d78586c92f",
   "metadata": {},
   "outputs": [
    {
     "name": "stdout",
     "output_type": "stream",
     "text": [
      "filename,alt-text\n",
      "/tmp/tmpwg57y6yw/free-photo-of-red.jpeg,A close-up of a red Malibu Classic car parked with focus on the rear badge.\n",
      "/tmp/tmpwg57y6yw/free-photo-of-pose-woman-dress-in-the-desert-gold-light-curly-hair.jpeg,Woman with curly hair in a brown coat and black top standing on a beach during sunset.\n",
      "/tmp/tmpwg57y6yw/free-photo-of-leaves-on-the-branch.jpeg,\"Close-up of a branch with green and yellow leaves against a backdrop of green plants, indicating the arrival of autumn.\"\n",
      "/tmp/tmpwg57y6yw/free-photo-of-holida-christmas-party-drinks-ornaments.jpeg,\"Festive Christmas setup with red tablecloth, green velvet curtain, two empty crystal glasses, and decorations including candy canes and golden ornaments.\"\n",
      "/tmp/tmpwg57y6yw/free-photo-of-a-bowl-of-granola-with-fruit-and-nuts-on-a-wooden-cutting-board.jpeg,Bowl of granola with pomegranate seeds and sliced strawberries on a wooden cutting board against a dark background\n",
      "/tmp/tmpwg57y6yw/pexels-photo-12015253.png,\"An old-fashioned, red and white gas pump labelled 'Benzin'. The pump features multiple inscriptions and is located on an urban street, projecting a vintage atmosphere.\"\n",
      "/tmp/tmpwg57y6yw/free-photo-of-alexandrine-parakeet-in-side-view.png,Close-up of a green parrot with red beak looking towards right with a blurred green background\n"
     ]
    }
   ],
   "source": [
    "!cat alt_texts.csv"
   ]
  },
  {
   "cell_type": "markdown",
   "id": "814c4341-af73-4dc6-a7ea-6a542c0ced0f",
   "metadata": {},
   "source": [
    "### Re-zip the files"
   ]
  },
  {
   "cell_type": "code",
   "execution_count": 42,
   "id": "daf076f2-c743-47f1-90b4-d8df8bb5c93c",
   "metadata": {},
   "outputs": [],
   "source": [
    "with zipfile.ZipFile(zip_output, 'w', zipfile.ZIP_DEFLATED) as zipf:\n",
    "    zipf.write(csv_filename)\n",
    "\n",
    "    for foldername, subfolders, filenames in os.walk(temp_dir):\n",
    "        for filename in filenames:\n",
    "            file_path = os.path.join(foldername, filename)\n",
    "            zipf.write(file_path, os.path.relpath(file_path, temp_dir))"
   ]
  },
  {
   "cell_type": "markdown",
   "id": "a778bb62-9b68-4363-a7e6-f4f51f8eb0bc",
   "metadata": {},
   "source": [
    "If you're using Colab you can now right-click the zip file in your sidebar to download it."
   ]
  },
  {
   "cell_type": "markdown",
   "id": "19e5ec54-ff7c-414a-acee-ead9d90c8e6c",
   "metadata": {},
   "source": [
    "### Clean up"
   ]
  },
  {
   "cell_type": "code",
   "execution_count": 43,
   "id": "04c64c4f-71c8-4268-89fc-4bf5f101baf4",
   "metadata": {},
   "outputs": [],
   "source": [
    "import shutil\n",
    "os.remove(csv_filename)\n",
    "shutil.rmtree(temp_dir)"
   ]
  }
 ],
 "metadata": {
  "kernelspec": {
   "display_name": "Python 3 (ipykernel)",
   "language": "python",
   "name": "python3"
  },
  "language_info": {
   "codemirror_mode": {
    "name": "ipython",
    "version": 3
   },
   "file_extension": ".py",
   "mimetype": "text/x-python",
   "name": "python",
   "nbconvert_exporter": "python",
   "pygments_lexer": "ipython3",
   "version": "3.11.5"
  }
 },
 "nbformat": 4,
 "nbformat_minor": 5
}
