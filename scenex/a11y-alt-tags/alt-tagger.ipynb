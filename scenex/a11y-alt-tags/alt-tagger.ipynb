{
 "cells": [
  {
   "cell_type": "markdown",
   "id": "fcbf9ef6-954e-4bce-92e9-f34f75ce8e2d",
   "metadata": {},
   "source": [
    "# SceneXplain: Alt-tagger\n",
    "\n",
    "In this notebook we will use Jina AI's [SceneXplain](https://scenex.jina.ai) to cycle through a zip file of images and generate an alt-tag for each one. The output will be stored in a CSV file then re-zipped with the images.\n",
    "\n",
    "We will assume that the images are in a zip file. We will:\n",
    "\n",
    "- Unzip the images\n",
    "- Send them to SceneXplain to get alt-tags\n",
    "- Write the alt-tags to a CSV file, along with the image filenames\n",
    "- Re-zip the file\n",
    "\n",
    "## SceneXplain JSON Store\n",
    "\n",
    "We will use SceneXplain's JSON Store to pull a predefined schema that is specialized for generating alt-tags. This is just a simple use case for the JSON Store, so be sure to browse and explore what else you can do with it!\n",
    "\n",
    "Our JSON Schema looks something like this:\n",
    "\n",
    "```json\n",
    "{\n",
    "  \"type\": \"object\",\n",
    "  \"properties\": {\n",
    "    \"alt_tag\": {\n",
    "      \"type\": \"string\",\n",
    "      \"description\": \"the most concise description possible of the image’s purpose. If the image is purely decorative (e.g. part of the website's design, not content), leave empty. Do not include text like 'this image contains' or 'image depicts'\"\n",
    "    }\n",
    "  }\n",
    "}\n",
    "```\n",
    "\n",
    "Below we've defined two JSON Schema IDs, one for general alt-tagging, and one specifically targeted for alt-tagging screenshots."
   ]
  },
  {
   "cell_type": "code",
   "execution_count": 114,
   "id": "210b1403-bf2f-4d1b-969a-e9e9baf2c16c",
   "metadata": {},
   "outputs": [],
   "source": [
    "# json_schema = \"43IxSufD5tpWYCPkMOj8\"  # generic alt-tagger\n",
    "json_schema = \"WJ84ezfnag0zWxgkmDJY\"  # screenshot alt-tagger"
   ]
  },
  {
   "cell_type": "markdown",
   "id": "cf61105a-0a3c-47e1-bc58-358a3f7891ab",
   "metadata": {},
   "source": [
    "## User options"
   ]
  },
  {
   "cell_type": "code",
   "execution_count": 115,
   "id": "1f9278cf-f458-4fd3-9f0c-a31bbe32bc25",
   "metadata": {},
   "outputs": [],
   "source": [
    "# filenames\n",
    "zip_input = \"images.zip\"\n",
    "zip_output = \"images_with_alt_tags.zip\"\n",
    "csv_filename = \"alt_tags.csv\""
   ]
  },
  {
   "cell_type": "markdown",
   "id": "7fdeacbd-7778-4577-9cb1-a415f4543020",
   "metadata": {
    "jp-MarkdownHeadingCollapsed": true
   },
   "source": [
    "## Basic setup\n",
    "\n",
    "Functions to send generate image lists, populate the data to send to SceneXplain, send that data."
   ]
  },
  {
   "cell_type": "code",
   "execution_count": 87,
   "id": "6853e921-c017-4c69-9cfa-ac24946c01e5",
   "metadata": {},
   "outputs": [],
   "source": [
    "import os\n",
    "import json\n",
    "import base64\n",
    "import http.client\n",
    "from pprint import pprint\n",
    "from glob import glob\n",
    "import csv\n",
    "import tempfile"
   ]
  },
  {
   "cell_type": "code",
   "execution_count": 7,
   "id": "8150c5c4-f17b-4cb8-9334-0ccc201dafe2",
   "metadata": {},
   "outputs": [
    {
     "name": "stdout",
     "output_type": "stream",
     "text": [
      "Environment variables loaded from .env\n"
     ]
    }
   ],
   "source": [
    "try:\n",
    "    from dotenv import load_dotenv\n",
    "    load_dotenv()\n",
    "    print(\"Environment variables loaded from .env\")\n",
    "except ImportError:\n",
    "    os.environ['SCENEX_SECRET'] = \"<your SceneXplain key>\""
   ]
  },
  {
   "cell_type": "code",
   "execution_count": 98,
   "id": "561aabb3-ad11-407c-ac53-94cc789566ce",
   "metadata": {},
   "outputs": [],
   "source": [
    "def extract_zip(zip_file):\n",
    "    temp_dir = tempfile.mkdtemp()\n",
    "    with zipfile.ZipFile(zip_input, 'r') as zip_ref:\n",
    "        zip_ref.extractall(temp_dir)\n",
    "\n",
    "        return temp_dir"
   ]
  },
  {
   "cell_type": "code",
   "execution_count": 29,
   "id": "932c4556-c56b-4689-9e81-93e22457e9ea",
   "metadata": {},
   "outputs": [],
   "source": [
    "def generate_image_list(folder_name, max_count=100):\n",
    "    filetypes = ['jpg', 'jpeg', 'png']\n",
    "    image_files = []\n",
    "    \n",
    "    for filetype in filetypes:\n",
    "        image_files.extend(glob(f'{folder_name}/*.{filetype}'))\n",
    "\n",
    "    return image_files[:max_count]"
   ]
  },
  {
   "cell_type": "code",
   "execution_count": 113,
   "id": "edb3ed91-eb28-4542-929e-d6308ac31ab8",
   "metadata": {},
   "outputs": [],
   "source": [
    "# SceneX setup and functions\n",
    "\n",
    "SCENEX_SECRET=os.getenv('SCENEX_SECRET')\n",
    "features = [\"json\"]\n",
    "\n",
    "scenex_headers = {\n",
    "    \"x-api-key\": f\"token {SCENEX_SECRET}\",\n",
    "    \"content-type\": \"application/json\",\n",
    "}\n",
    "\n",
    "def image_to_data_uri(file_path):\n",
    "    with open(file_path, \"rb\") as image_file:\n",
    "        encoded_image = base64.b64encode(image_file.read()).decode(\"utf-8\")\n",
    "        return f\"data:image/png;base64,{encoded_image}\"\n",
    "        \n",
    "def generate_scenex_data(image_files, json_schema=None, question=None, features=[]):\n",
    "    data = {}\n",
    "    data['data'] = []\n",
    "\n",
    "    for file in image_files:\n",
    "        cid = file.split('/')[-1]\n",
    "        row = {\n",
    "            \"image\": image_to_data_uri(file),\n",
    "            \"features\": [\"json\"],\n",
    "            \"cid\": cid,\n",
    "            \"json_schema_id\": json_schema\n",
    "        }\n",
    "\n",
    "        if question:\n",
    "            row[\"question\"] = question\n",
    "\n",
    "        if json_schema:\n",
    "            row[\"json_schema\"] = json_schema\n",
    "\n",
    "        data['data'].append(row)\n",
    "\n",
    "    return data\n",
    "\n",
    "def process_scenex(data):\n",
    "    connection = http.client.HTTPSConnection(\"api.scenex.jina.ai\")\n",
    "    connection.request(\"POST\", \"/v1/describe\", json.dumps(data), scenex_headers)\n",
    "    response = connection.getresponse()\n",
    "    response_data = response.read().decode(\"utf-8\")\n",
    "    \n",
    "    connection.close()\n",
    "\n",
    "    return json.loads(response_data)['result']"
   ]
  },
  {
   "attachments": {},
   "cell_type": "markdown",
   "id": "4f406d09-efbd-4105-8c13-cca24c6d79db",
   "metadata": {},
   "source": [
    "## Creating our alt-tags\n",
    "\n",
    "### Unzip images\n",
    "\n",
    "Unzip the images into a temporary directory which we'll clean up later."
   ]
  },
  {
   "cell_type": "code",
   "execution_count": 109,
   "id": "7a9edf13-6cb2-4911-a0f7-375b422eff4e",
   "metadata": {},
   "outputs": [],
   "source": [
    "import zipfile"
   ]
  },
  {
   "cell_type": "code",
   "execution_count": 110,
   "id": "46ac6c70-1338-4ffc-9601-ebd98a9d8910",
   "metadata": {},
   "outputs": [],
   "source": [
    "temp_dir = extract_zip(zip_input)"
   ]
  },
  {
   "cell_type": "markdown",
   "id": "f97abdea-b617-4659-98cd-a265eb4ab53f",
   "metadata": {},
   "source": [
    "### Generate data\n",
    "\n",
    "Let's take the image list and add our SceneXplain options (e.g. JSON Schema ID, image data URI, etc)."
   ]
  },
  {
   "cell_type": "code",
   "execution_count": 111,
   "id": "962298f0-f5be-4e9c-8c9a-fdf13d81ecfd",
   "metadata": {},
   "outputs": [],
   "source": [
    "image_files = generate_image_list(temp_dir)"
   ]
  },
  {
   "cell_type": "code",
   "execution_count": 112,
   "id": "a53ada49-1345-46c5-bef9-b9c5f397fb51",
   "metadata": {},
   "outputs": [],
   "source": [
    "scenex_data = generate_scenex_data(image_files, json_schema=json.dumps(schema), features=features)"
   ]
  },
  {
   "cell_type": "markdown",
   "id": "3f905fd0-bf95-4f13-a609-e42e842efbb1",
   "metadata": {},
   "source": [
    "### Send data to SceneXplain"
   ]
  },
  {
   "cell_type": "code",
   "execution_count": 14,
   "id": "674e0c55-3740-425f-8502-1ad9f551754c",
   "metadata": {},
   "outputs": [],
   "source": [
    "scenex_response = process_scenex(scenex_data)"
   ]
  },
  {
   "cell_type": "markdown",
   "id": "3c8b2612-0d7e-463f-ba86-0dc9d69a9bea",
   "metadata": {},
   "source": [
    "### Write to CSV"
   ]
  },
  {
   "cell_type": "code",
   "execution_count": 34,
   "id": "c4d06309-d7d7-45cc-8497-e764f9980ebb",
   "metadata": {},
   "outputs": [],
   "source": [
    "headers = [\"filename\", \"alt-tag\"]"
   ]
  },
  {
   "cell_type": "code",
   "execution_count": 104,
   "id": "43374d5c-d4b4-41dd-bdc1-3cc5e51e3812",
   "metadata": {},
   "outputs": [],
   "source": [
    "def generate_csv(csv_filename, image_files, scenex_response):\n",
    "    with open(csv_filename, mode='w', newline='') as file:\n",
    "        writer = csv.writer(file)\n",
    "        writer.writerow(headers)\n",
    "        for filename, row in zip(image_files, scenex_response):\n",
    "            # print(row)\n",
    "            alt_tag = json.loads(row['i18n']['en'])['alt_tag']\n",
    "            row = [filename, alt_tag]\n",
    "            writer.writerow(row)"
   ]
  },
  {
   "cell_type": "code",
   "execution_count": 72,
   "id": "46ce7a36-d3d1-4a21-b5d3-97e6a87df3cc",
   "metadata": {},
   "outputs": [],
   "source": [
    "generate_csv(csv_filename, image_files, scenex_response)"
   ]
  },
  {
   "cell_type": "markdown",
   "id": "814c4341-af73-4dc6-a7ea-6a542c0ced0f",
   "metadata": {},
   "source": [
    "### Re-zip the files"
   ]
  },
  {
   "cell_type": "code",
   "execution_count": 107,
   "id": "daf076f2-c743-47f1-90b4-d8df8bb5c93c",
   "metadata": {},
   "outputs": [],
   "source": [
    "with zipfile.ZipFile(zip_output, 'w', zipfile.ZIP_DEFLATED) as zipf:\n",
    "    zipf.write(csv_filename)\n",
    "\n",
    "    for foldername, subfolders, filenames in os.walk(folder_name):\n",
    "        for filename in filenames:\n",
    "            file_path = os.path.join(foldername, filename)\n",
    "            zipf.write(file_path, os.path.relpath(file_path, folder_name))"
   ]
  },
  {
   "cell_type": "markdown",
   "id": "19e5ec54-ff7c-414a-acee-ead9d90c8e6c",
   "metadata": {},
   "source": [
    "### Clean up"
   ]
  },
  {
   "cell_type": "code",
   "execution_count": 103,
   "id": "04c64c4f-71c8-4268-89fc-4bf5f101baf4",
   "metadata": {},
   "outputs": [],
   "source": [
    "import shutil\n",
    "shutil.rmtree(temp_dir)"
   ]
  }
 ],
 "metadata": {
  "kernelspec": {
   "display_name": "Python 3 (ipykernel)",
   "language": "python",
   "name": "python3"
  },
  "language_info": {
   "codemirror_mode": {
    "name": "ipython",
    "version": 3
   },
   "file_extension": ".py",
   "mimetype": "text/x-python",
   "name": "python",
   "nbconvert_exporter": "python",
   "pygments_lexer": "ipython3",
   "version": "3.11.5"
  }
 },
 "nbformat": 4,
 "nbformat_minor": 5
}
