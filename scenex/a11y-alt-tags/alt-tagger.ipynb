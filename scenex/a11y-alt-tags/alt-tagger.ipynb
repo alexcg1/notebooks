{
 "cells": [
  {
   "cell_type": "markdown",
   "id": "fcbf9ef6-954e-4bce-92e9-f34f75ce8e2d",
   "metadata": {},
   "source": [
    "# SceneXplain: Alt-tagger\n",
    "\n",
    "In this notebook we will use Jina AI's [SceneXplain](https://scenex.jina.ai) to cycle through a zip file of images and generate an alt-tag for each one. The output will be stored in a CSV file then re-zipped with the images.\n",
    "\n",
    "For example, if we send the image file: `free-photo-of-red.jpeg`:\n",
    "\n",
    "![](https://github.com/alexcg1/notebooks/blob/main/scenex/a11y-alt-tags/example/free-photo-of-red.jpeg?raw=true)\n",
    "\n",
    "We get the output:\n",
    "\n",
    "```json\n",
    "{\n",
    "  \"alt_tag\": \"Rear view of a red classic 'Malibu Classic' car focusing on tail light and chrome bumper\"\n",
    "}\n",
    "```\n",
    "\n",
    "We will:\n",
    "\n",
    "- Unzip the images\n",
    "- Send them to SceneXplain to get alt-tags\n",
    "- Write the alt-tags to a CSV file, along with the image filenames\n",
    "- Re-zip the file\n",
    "\n",
    "Before proceeding, please sign up for [SceneXplain](https://scenex.jina.ai), create an [API key](https://scenex.jina.ai/api), and paste it below:"
   ]
  },
  {
   "cell_type": "code",
   "execution_count": 21,
   "id": "47d74d44-847f-4beb-a0c1-eab4548e139c",
   "metadata": {},
   "outputs": [],
   "source": [
    "SCENEX_SECRET = \"<your secret>\""
   ]
  },
  {
   "cell_type": "markdown",
   "id": "882df444-b844-41e4-b224-6a9c44b3eb90",
   "metadata": {},
   "source": [
    "## Notes\n",
    "\n",
    "### File structure\n",
    "\n",
    "The zip file must have a flat structure. That is, all image files must be at the top level of the file, e.g:\n",
    "\n",
    "```\n",
    "images.zip\n",
    "├── free-photo-of-a-bowl-of-granola-with-fruit-and-nuts-on-a-wooden-cutting-board.jpeg\n",
    "├── free-photo-of-alexandrine-parakeet-in-side-view.png\n",
    "├── free-photo-of-holida-christmas-party-drinks-ornaments.jpeg\n",
    "├── free-photo-of-leaves-on-the-branch.jpeg\n",
    "├── free-photo-of-pose-woman-dress-in-the-desert-gold-light-curly-hair.jpeg\n",
    "├── free-photo-of-red.jpeg\n",
    "└── pexels-photo-12015253.png\n",
    "```\n",
    "\n",
    "### Free plan limitations\n",
    "\n",
    "Many users of this notebook may be using the free SceneXplain plan, which is limited to eight images per batch. For the sake of this example, we suggest you use [this zipfile of seven images](https://github.com/alexcg1/notebooks/raw/main/scenex/a11y-alt-tags/images.zip). For more complex needs, you may need to either refactor the code in this notebook or switch to a [paid plain](https://scenex.jina.ai/#pricing).\n",
    "\n",
    "## SceneXplain JSON Store\n",
    "\n",
    "We will use SceneXplain's JSON Store to pull a predefined schema that is specialized for generating alt-tags. This is just a simple use case for the JSON Store, so be sure to browse and explore what else you can do with it!\n",
    "\n",
    "Our JSON Schema looks something like this:\n",
    "\n",
    "```json\n",
    "{\n",
    "  \"type\": \"object\",\n",
    "  \"properties\": {\n",
    "    \"alt_tag\": {\n",
    "      \"type\": \"string\",\n",
    "      \"description\": \"the most concise description possible of the image’s purpose. If the image is purely decorative (e.g. part of the website's design, not content), leave empty. Do not include text like 'this image contains' or 'image depicts'\"\n",
    "    }\n",
    "  }\n",
    "}\n",
    "```\n",
    "\n",
    "Below we've defined two JSON Schema IDs, one for general alt-tagging, and one specifically targeted for alt-tagging screenshots."
   ]
  },
  {
   "cell_type": "code",
   "execution_count": 1,
   "id": "210b1403-bf2f-4d1b-969a-e9e9baf2c16c",
   "metadata": {},
   "outputs": [],
   "source": [
    "# json_schema = \"43IxSufD5tpWYCPkMOj8\"  # generic alt-tagger\n",
    "json_schema = \"WJ84ezfnag0zWxgkmDJY\"  # screenshot alt-tagger"
   ]
  },
  {
   "cell_type": "markdown",
   "id": "cf61105a-0a3c-47e1-bc58-358a3f7891ab",
   "metadata": {},
   "source": [
    "## User options\n",
    "\n",
    "Some basic options about input/output/CSV filenames."
   ]
  },
  {
   "cell_type": "code",
   "execution_count": 20,
   "id": "1f9278cf-f458-4fd3-9f0c-a31bbe32bc25",
   "metadata": {},
   "outputs": [],
   "source": [
    "# filenames\n",
    "zip_input = \"images.zip\"\n",
    "zip_output = \"images_with_alt_tags.zip\"\n",
    "csv_filename = \"alt_tags.csv\""
   ]
  },
  {
   "cell_type": "markdown",
   "id": "7fdeacbd-7778-4577-9cb1-a415f4543020",
   "metadata": {},
   "source": [
    "## Basic setup\n",
    "\n",
    "Functions to send generate image lists, populate the data to send to SceneXplain, send that data."
   ]
  },
  {
   "cell_type": "code",
   "execution_count": 3,
   "id": "6853e921-c017-4c69-9cfa-ac24946c01e5",
   "metadata": {},
   "outputs": [],
   "source": [
    "import os\n",
    "import json\n",
    "import base64\n",
    "import http.client\n",
    "from pprint import pprint\n",
    "from glob import glob\n",
    "import csv\n",
    "import tempfile"
   ]
  },
  {
   "cell_type": "code",
   "execution_count": 22,
   "id": "8150c5c4-f17b-4cb8-9334-0ccc201dafe2",
   "metadata": {},
   "outputs": [],
   "source": [
    "# Uncomment this if you use dotenv for secrets\n",
    "\n",
    "# try:\n",
    "#     from dotenv import load_dotenv\n",
    "#     load_dotenv()\n",
    "#     print(\"Environment variables loaded from .env\")\n",
    "# except ImportError:\n",
    "#     os.environ['SCENEX_SECRET'] = SCENEX_SECRET"
   ]
  },
  {
   "cell_type": "code",
   "execution_count": 5,
   "id": "561aabb3-ad11-407c-ac53-94cc789566ce",
   "metadata": {},
   "outputs": [],
   "source": [
    "def extract_zip(zip_file):\n",
    "    temp_dir = tempfile.mkdtemp()\n",
    "    with zipfile.ZipFile(zip_input, 'r') as zip_ref:\n",
    "        zip_ref.extractall(temp_dir)\n",
    "\n",
    "        return temp_dir"
   ]
  },
  {
   "cell_type": "code",
   "execution_count": 6,
   "id": "932c4556-c56b-4689-9e81-93e22457e9ea",
   "metadata": {},
   "outputs": [],
   "source": [
    "def generate_image_list(folder_name, max_count=100):\n",
    "    filetypes = ['jpg', 'jpeg', 'png']\n",
    "    image_files = []\n",
    "    \n",
    "    for filetype in filetypes:\n",
    "        image_files.extend(glob(f'{folder_name}/*.{filetype}'))\n",
    "\n",
    "    return image_files[:max_count]"
   ]
  },
  {
   "cell_type": "code",
   "execution_count": 14,
   "id": "edb3ed91-eb28-4542-929e-d6308ac31ab8",
   "metadata": {},
   "outputs": [],
   "source": [
    "# SceneX setup and functions\n",
    "\n",
    "SCENEX_SECRET=os.getenv('SCENEX_SECRET')\n",
    "features = [\"json\"]\n",
    "\n",
    "scenex_headers = {\n",
    "    \"x-api-key\": f\"token {SCENEX_SECRET}\",\n",
    "    \"content-type\": \"application/json\",\n",
    "}\n",
    "\n",
    "def image_to_data_uri(file_path):\n",
    "    with open(file_path, \"rb\") as image_file:\n",
    "        encoded_image = base64.b64encode(image_file.read()).decode(\"utf-8\")\n",
    "        return f\"data:image/png;base64,{encoded_image}\"\n",
    "        \n",
    "def generate_scenex_data(image_files):\n",
    "    data = {}\n",
    "    data['data'] = []\n",
    "\n",
    "    for file in image_files:\n",
    "        cid = file.split('/')[-1]\n",
    "        row = {\n",
    "            \"image\": image_to_data_uri(file),\n",
    "            \"features\": [\"json\"],\n",
    "            \"cid\": cid,\n",
    "            \"json_schema_id\": json_schema\n",
    "        }\n",
    "\n",
    "        data['data'].append(row)\n",
    "\n",
    "    return data\n",
    "\n",
    "def process_scenex(data):\n",
    "    connection = http.client.HTTPSConnection(\"api.scenex.jina.ai\")\n",
    "    connection.request(\"POST\", \"/v1/describe\", json.dumps(data), scenex_headers)\n",
    "    response = connection.getresponse()\n",
    "    response_data = response.read().decode(\"utf-8\")\n",
    "    \n",
    "    connection.close()\n",
    "\n",
    "    return json.loads(response_data)['result']"
   ]
  },
  {
   "attachments": {},
   "cell_type": "markdown",
   "id": "4f406d09-efbd-4105-8c13-cca24c6d79db",
   "metadata": {},
   "source": [
    "## Creating our alt-tags\n",
    "\n",
    "### Unzip images\n",
    "\n",
    "Unzip the images into a temporary directory which we'll clean up later. For this notebook we'll use an example zipfile of images."
   ]
  },
  {
   "cell_type": "code",
   "execution_count": 19,
   "id": "305b4c39-5582-4ae3-815e-121b33b3769b",
   "metadata": {},
   "outputs": [
    {
     "name": "stdout",
     "output_type": "stream",
     "text": [
      "Downloading images.zip\n"
     ]
    },
    {
     "name": "stderr",
     "output_type": "stream",
     "text": [
      "--2023-11-22 15:47:15--  https://github.com/alexcg1/notebooks/raw/main/scenex/a11y-alt-tags/images.zip\n",
      "Loaded CA certificate '/etc/ssl/certs/ca-certificates.crt'\n",
      "Resolving github.com (github.com)... 140.82.121.3\n",
      "Connecting to github.com (github.com)|140.82.121.3|:443... connected.\n",
      "HTTP request sent, awaiting response... 302 Found\n",
      "Location: https://raw.githubusercontent.com/alexcg1/notebooks/main/scenex/a11y-alt-tags/images.zip [following]\n",
      "--2023-11-22 15:47:15--  https://raw.githubusercontent.com/alexcg1/notebooks/main/scenex/a11y-alt-tags/images.zip\n",
      "Resolving raw.githubusercontent.com (raw.githubusercontent.com)... 185.199.110.133, 185.199.109.133, 185.199.108.133, ...\n",
      "Connecting to raw.githubusercontent.com (raw.githubusercontent.com)|185.199.110.133|:443... connected.\n",
      "HTTP request sent, awaiting response... 200 OK\n",
      "Length: 4903908 (4.7M) [application/zip]\n",
      "Saving to: ‘images.zip’\n",
      "\n",
      "     0K .......... .......... .......... .......... ..........  1% 1.70M 3s\n",
      "    50K .......... .......... .......... .......... ..........  2% 1.43M 3s\n",
      "   100K .......... .......... .......... .......... ..........  3% 6.71M 2s\n",
      "   150K .......... .......... .......... .......... ..........  4% 3.53M 2s\n",
      "   200K .......... .......... .......... .......... ..........  5% 10.1M 2s\n",
      "   250K .......... .......... .......... .......... ..........  6% 6.33M 1s\n",
      "   300K .......... .......... .......... .......... ..........  7% 3.49M 1s\n",
      "   350K .......... .......... .......... .......... ..........  8% 4.92M 1s\n",
      "   400K .......... .......... .......... .......... ..........  9% 5.60M 1s\n",
      "   450K .......... .......... .......... .......... .......... 10% 3.18M 1s\n",
      "   500K .......... .......... .......... .......... .......... 11% 2.87M 1s\n",
      "   550K .......... .......... .......... .......... .......... 12% 12.5M 1s\n",
      "   600K .......... .......... .......... .......... .......... 13% 3.99M 1s\n",
      "   650K .......... .......... .......... .......... .......... 14% 2.21M 1s\n",
      "   700K .......... .......... .......... .......... .......... 15% 3.78M 1s\n",
      "   750K .......... .......... .......... .......... .......... 16% 5.95M 1s\n",
      "   800K .......... .......... .......... .......... .......... 17% 16.8M 1s\n",
      "   850K .......... .......... .......... .......... .......... 18% 8.02M 1s\n",
      "   900K .......... .......... .......... .......... .......... 19% 2.21M 1s\n",
      "   950K .......... .......... .......... .......... .......... 20% 7.86M 1s\n",
      "  1000K .......... .......... .......... .......... .......... 21% 4.47M 1s\n",
      "  1050K .......... .......... .......... .......... .......... 22% 8.20M 1s\n",
      "  1100K .......... .......... .......... .......... .......... 24% 8.67M 1s\n",
      "  1150K .......... .......... .......... .......... .......... 25% 5.17M 1s\n",
      "  1200K .......... .......... .......... .......... .......... 26% 2.64M 1s\n",
      "  1250K .......... .......... .......... .......... .......... 27% 69.8M 1s\n",
      "  1300K .......... .......... .......... .......... .......... 28% 3.16M 1s\n",
      "  1350K .......... .......... .......... .......... .......... 29% 47.4M 1s\n",
      "  1400K .......... .......... .......... .......... .......... 30% 7.32M 1s\n",
      "  1450K .......... .......... .......... .......... .......... 31% 5.39M 1s\n",
      "  1500K .......... .......... .......... .......... .......... 32% 9.99M 1s\n",
      "  1550K .......... .......... .......... .......... .......... 33% 5.16M 1s\n",
      "  1600K .......... .......... .......... .......... .......... 34% 16.3M 1s\n",
      "  1650K .......... .......... .......... .......... .......... 35% 5.90M 1s\n",
      "  1700K .......... .......... .......... .......... .......... 36% 6.67M 1s\n",
      "  1750K .......... .......... .......... .......... .......... 37% 8.18M 1s\n",
      "  1800K .......... .......... .......... .......... .......... 38% 3.88M 1s\n",
      "  1850K .......... .......... .......... .......... .......... 39% 12.6M 1s\n",
      "  1900K .......... .......... .......... .......... .......... 40% 7.25M 1s\n",
      "  1950K .......... .......... .......... .......... .......... 41% 11.9M 1s\n",
      "  2000K .......... .......... .......... .......... .......... 42% 2.46M 1s\n",
      "  2050K .......... .......... .......... .......... .......... 43% 5.60M 1s\n",
      "  2100K .......... .......... .......... .......... .......... 44% 12.4M 1s\n",
      "  2150K .......... .......... .......... .......... .......... 45% 8.19M 1s\n",
      "  2200K .......... .......... .......... .......... .......... 46% 10.0M 1s\n",
      "  2250K .......... .......... .......... .......... .......... 48% 3.83M 1s\n",
      "  2300K .......... .......... .......... .......... .......... 49% 5.97M 0s\n",
      "  2350K .......... .......... .......... .......... .......... 50% 15.0M 0s\n",
      "  2400K .......... .......... .......... .......... .......... 51% 16.6M 0s\n",
      "  2450K .......... .......... .......... .......... .......... 52% 9.46M 0s\n",
      "  2500K .......... .......... .......... .......... .......... 53% 2.14M 0s\n",
      "  2550K .......... .......... .......... .......... .......... 54% 13.7M 0s\n",
      "  2600K .......... .......... .......... .......... .......... 55% 2.24M 0s\n",
      "  2650K .......... .......... .......... .......... .......... 56% 12.5M 0s\n",
      "  2700K .......... .......... .......... .......... .......... 57% 9.88M 0s\n",
      "  2750K .......... .......... .......... .......... .......... 58% 9.43M 0s\n",
      "  2800K .......... .......... .......... .......... .......... 59% 12.9M 0s\n",
      "  2850K .......... .......... .......... .......... .......... 60% 5.42M 0s\n",
      "  2900K .......... .......... .......... .......... .......... 61% 6.31M 0s\n",
      "  2950K .......... .......... .......... .......... .......... 62% 6.83M 0s\n",
      "  3000K .......... .......... .......... .......... .......... 63% 6.49M 0s\n",
      "  3050K .......... .......... .......... .......... .......... 64% 7.64M 0s\n",
      "  3100K .......... .......... .......... .......... .......... 65% 7.04M 0s\n",
      "  3150K .......... .......... .......... .......... .......... 66% 10.4M 0s\n",
      "  3200K .......... .......... .......... .......... .......... 67% 13.9M 0s\n",
      "  3250K .......... .......... .......... .......... .......... 68% 4.30M 0s\n",
      "  3300K .......... .......... .......... .......... .......... 69% 21.9M 0s\n",
      "  3350K .......... .......... .......... .......... .......... 70% 10.7M 0s\n",
      "  3400K .......... .......... .......... .......... .......... 72% 9.76M 0s\n",
      "  3450K .......... .......... .......... .......... .......... 73% 5.45M 0s\n",
      "  3500K .......... .......... .......... .......... .......... 74% 3.74M 0s\n",
      "  3550K .......... .......... .......... .......... .......... 75% 2.21M 0s\n",
      "  3600K .......... .......... .......... .......... .......... 76% 12.3M 0s\n",
      "  3650K .......... .......... .......... .......... .......... 77% 8.16M 0s\n",
      "  3700K .......... .......... .......... .......... .......... 78% 9.31M 0s\n",
      "  3750K .......... .......... .......... .......... .......... 79% 13.0M 0s\n",
      "  3800K .......... .......... .......... .......... .......... 80% 3.60M 0s\n",
      "  3850K .......... .......... .......... .......... .......... 81% 20.5M 0s\n",
      "  3900K .......... .......... .......... .......... .......... 82% 8.93M 0s\n",
      "  3950K .......... .......... .......... .......... .......... 83% 8.06M 0s\n",
      "  4000K .......... .......... .......... .......... .......... 84% 7.17M 0s\n",
      "  4050K .......... .......... .......... .......... .......... 85% 17.4M 0s\n",
      "  4100K .......... .......... .......... .......... .......... 86% 4.41M 0s\n",
      "  4150K .......... .......... .......... .......... .......... 87% 63.5M 0s\n",
      "  4200K .......... .......... .......... .......... .......... 88% 7.99M 0s\n",
      "  4250K .......... .......... .......... .......... .......... 89% 12.0M 0s\n",
      "  4300K .......... .......... .......... .......... .......... 90% 10.7M 0s\n",
      "  4350K .......... .......... .......... .......... .......... 91% 14.7M 0s\n",
      "  4400K .......... .......... .......... .......... .......... 92% 19.5M 0s\n",
      "  4450K .......... .......... .......... .......... .......... 93% 12.9M 0s\n",
      "  4500K .......... .......... .......... .......... .......... 95% 7.33M 0s\n",
      "  4550K .......... .......... .......... .......... .......... 96% 13.3M 0s\n",
      "  4600K .......... .......... .......... .......... .......... 97% 10.3M 0s\n",
      "  4650K .......... .......... .......... .......... .......... 98% 14.7M 0s\n",
      "  4700K .......... .......... .......... .......... .......... 99% 7.81M 0s\n",
      "  4750K .......... .......... .......... ........             100% 6.34M=0.8s\n",
      "\n",
      "2023-11-22 15:47:16 (5.90 MB/s) - ‘images.zip’ saved [4903908/4903908]\n",
      "\n"
     ]
    }
   ],
   "source": [
    "if not os.path.isfile(zip_input):\n",
    "    print(\"Downloading images.zip\")\n",
    "    os.system(\"wget https://github.com/alexcg1/notebooks/raw/main/scenex/a11y-alt-tags/images.zip\")"
   ]
  },
  {
   "cell_type": "code",
   "execution_count": 8,
   "id": "7a9edf13-6cb2-4911-a0f7-375b422eff4e",
   "metadata": {},
   "outputs": [],
   "source": [
    "import zipfile"
   ]
  },
  {
   "cell_type": "code",
   "execution_count": 9,
   "id": "46ac6c70-1338-4ffc-9601-ebd98a9d8910",
   "metadata": {},
   "outputs": [],
   "source": [
    "temp_dir = extract_zip(zip_input)"
   ]
  },
  {
   "cell_type": "markdown",
   "id": "f97abdea-b617-4659-98cd-a265eb4ab53f",
   "metadata": {},
   "source": [
    "### Generate data\n",
    "\n",
    "Let's take the image list and add our SceneXplain options (e.g. JSON Schema ID, image data URI, etc)."
   ]
  },
  {
   "cell_type": "code",
   "execution_count": 10,
   "id": "962298f0-f5be-4e9c-8c9a-fdf13d81ecfd",
   "metadata": {},
   "outputs": [],
   "source": [
    "image_files = generate_image_list(temp_dir)"
   ]
  },
  {
   "cell_type": "code",
   "execution_count": 15,
   "id": "a53ada49-1345-46c5-bef9-b9c5f397fb51",
   "metadata": {},
   "outputs": [],
   "source": [
    "scenex_data = generate_scenex_data(image_files)"
   ]
  },
  {
   "cell_type": "markdown",
   "id": "3f905fd0-bf95-4f13-a609-e42e842efbb1",
   "metadata": {},
   "source": [
    "### Send data to SceneXplain"
   ]
  },
  {
   "cell_type": "code",
   "execution_count": null,
   "id": "674e0c55-3740-425f-8502-1ad9f551754c",
   "metadata": {},
   "outputs": [],
   "source": [
    "scenex_response = process_scenex(scenex_data)"
   ]
  },
  {
   "cell_type": "markdown",
   "id": "3c8b2612-0d7e-463f-ba86-0dc9d69a9bea",
   "metadata": {},
   "source": [
    "### Write to CSV"
   ]
  },
  {
   "cell_type": "code",
   "execution_count": null,
   "id": "c4d06309-d7d7-45cc-8497-e764f9980ebb",
   "metadata": {},
   "outputs": [],
   "source": [
    "headers = [\"filename\", \"alt-tag\"]"
   ]
  },
  {
   "cell_type": "code",
   "execution_count": null,
   "id": "43374d5c-d4b4-41dd-bdc1-3cc5e51e3812",
   "metadata": {},
   "outputs": [],
   "source": [
    "def generate_csv(csv_filename, image_files, scenex_response):\n",
    "    with open(csv_filename, mode='w', newline='') as file:\n",
    "        writer = csv.writer(file)\n",
    "        writer.writerow(headers)\n",
    "        for filename, row in zip(image_files, scenex_response):\n",
    "            alt_tag = json.loads(row['i18n']['en'])['alt_tag']\n",
    "            row = [filename, alt_tag]\n",
    "            writer.writerow(row)"
   ]
  },
  {
   "cell_type": "code",
   "execution_count": null,
   "id": "46ce7a36-d3d1-4a21-b5d3-97e6a87df3cc",
   "metadata": {},
   "outputs": [],
   "source": [
    "generate_csv(csv_filename, image_files, scenex_response)"
   ]
  },
  {
   "cell_type": "markdown",
   "id": "1bb2a09d-88ea-41ef-a489-aa9f5feceadf",
   "metadata": {},
   "source": [
    "### View results\n",
    "\n",
    "Let's see how SceneXplain alt-tagged our images:"
   ]
  },
  {
   "cell_type": "code",
   "execution_count": 23,
   "id": "baf12368-eb52-4ff7-850b-95d78586c92f",
   "metadata": {},
   "outputs": [
    {
     "name": "stdout",
     "output_type": "stream",
     "text": [
      "filename,alt-tag\n",
      "./images/free-photo-of-leaves-on-the-branch.jpeg,Close-up of tree branch with mix of green and yellow leaves against a background of lush greenery\n",
      "./images/free-photo-of-a-bowl-of-granola-with-fruit-and-nuts-on-a-wooden-cutting-board.jpeg,Bowl of granola with strawberries and pomegranate seeds on wooden board\n",
      "./images/free-photo-of-pose-woman-dress-in-the-desert-gold-light-curly-hair.jpeg,Woman with curly hair standing on a beach during sunset or dawn\n",
      "./images/free-photo-of-holida-christmas-party-drinks-ornaments.jpeg,\"Festive Christmas table setting with red tablecloth, two crystal glasses, candy canes, golden ornaments, set against a pink wall and a green curtain\"\n",
      "./images/free-photo-of-red.jpeg,Close-up view of the rear end of a red Malibu Classic car\n",
      "./images/pexels-photo-12015253.png,Vintage red and white gas pump labeled 'Benzin' on a sidewalk in an urban scene\n",
      "./images/free-photo-of-alexandrine-parakeet-in-side-view.png,Close-up of green parrot with red beak on tree branch\n"
     ]
    }
   ],
   "source": [
    "!cat alt_tags.csv"
   ]
  },
  {
   "cell_type": "markdown",
   "id": "814c4341-af73-4dc6-a7ea-6a542c0ced0f",
   "metadata": {},
   "source": [
    "### Re-zip the files"
   ]
  },
  {
   "cell_type": "code",
   "execution_count": null,
   "id": "daf076f2-c743-47f1-90b4-d8df8bb5c93c",
   "metadata": {},
   "outputs": [],
   "source": [
    "with zipfile.ZipFile(zip_output, 'w', zipfile.ZIP_DEFLATED) as zipf:\n",
    "    zipf.write(csv_filename)\n",
    "\n",
    "    for foldername, subfolders, filenames in os.walk(temp_dir):\n",
    "        for filename in filenames:\n",
    "            file_path = os.path.join(foldername, filename)\n",
    "            zipf.write(file_path, os.path.relpath(file_path, folder_name))"
   ]
  },
  {
   "cell_type": "markdown",
   "id": "a778bb62-9b68-4363-a7e6-f4f51f8eb0bc",
   "metadata": {},
   "source": [
    "If you're using Colab you can now right "
   ]
  },
  {
   "cell_type": "markdown",
   "id": "19e5ec54-ff7c-414a-acee-ead9d90c8e6c",
   "metadata": {},
   "source": [
    "### Clean up"
   ]
  },
  {
   "cell_type": "code",
   "execution_count": null,
   "id": "04c64c4f-71c8-4268-89fc-4bf5f101baf4",
   "metadata": {},
   "outputs": [],
   "source": [
    "import shutil\n",
    "os.remove(csv_filename)\n",
    "shutil.rmtree(temp_dir)"
   ]
  }
 ],
 "metadata": {
  "kernelspec": {
   "display_name": "Python 3 (ipykernel)",
   "language": "python",
   "name": "python3"
  },
  "language_info": {
   "codemirror_mode": {
    "name": "ipython",
    "version": 3
   },
   "file_extension": ".py",
   "mimetype": "text/x-python",
   "name": "python",
   "nbconvert_exporter": "python",
   "pygments_lexer": "ipython3",
   "version": "3.11.5"
  }
 },
 "nbformat": 4,
 "nbformat_minor": 5
}
