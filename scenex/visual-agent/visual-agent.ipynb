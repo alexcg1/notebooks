{
 "cells": [
  {
   "cell_type": "markdown",
   "id": "c17d955b-7ba4-4f26-af7c-1d6b875486e5",
   "metadata": {},
   "source": [
    "## Setup dog\n",
    "\n",
    "The aim of this notebook is to simulate the decision-making of a robot dog in search of food. This is still very basic testing, so we are using a limited set of actions:"
   ]
  },
  {
   "cell_type": "code",
   "execution_count": 30,
   "id": "94d77b6f-87a0-4590-9186-dc0896491a00",
   "metadata": {},
   "outputs": [],
   "source": [
    "actions = ['go forwards', 'turn left', 'turn right', 'turn around', 'jump', 'beep', 'eat']"
   ]
  },
  {
   "cell_type": "markdown",
   "id": "3a7b895e-a927-42e4-8573-adccf4a05c7d",
   "metadata": {},
   "source": [
    "#### Why not have stuff like `take x steps`?\n",
    "\n",
    "A dog cannot work out how many steps to take unless it has some \"sense of physical self\" - how long is its stride? what is too high to step over? etc. That could be rather difficult to \"teach\" it."
   ]
  },
  {
   "cell_type": "markdown",
   "id": "e23f983e-b4a8-471e-8843-05136bf25d79",
   "metadata": {
    "jp-MarkdownHeadingCollapsed": true
   },
   "source": [
    "## Setup basic fns"
   ]
  },
  {
   "cell_type": "code",
   "execution_count": 16,
   "id": "a908bafb-a523-4116-ad59-dea52fbe5780",
   "metadata": {},
   "outputs": [],
   "source": [
    "import http.client\n",
    "import json\n",
    "import base64\n",
    "from pprint import pprint\n",
    "from glob import glob\n",
    "import os\n",
    "import random"
   ]
  },
  {
   "cell_type": "code",
   "execution_count": 21,
   "id": "0d546168-4749-4e1a-b70f-44447f76362e",
   "metadata": {},
   "outputs": [
    {
     "name": "stdout",
     "output_type": "stream",
     "text": [
      "Environment variables loaded from .env\n"
     ]
    }
   ],
   "source": [
    "try:\n",
    "    from dotenv import load_dotenv\n",
    "    load_dotenv()\n",
    "    print(\"Environment variables loaded from .env\")\n",
    "except ImportError:\n",
    "    os.environ['OPENAI_API_KEY'] = \"<your OpenAI key>\"\n",
    "    os.environ['SCENEX_SECRET'] = \"<your SceneXplain key>\""
   ]
  },
  {
   "cell_type": "code",
   "execution_count": 22,
   "id": "9d2a83df-3d59-48c2-a7ec-ed8d35720e5e",
   "metadata": {},
   "outputs": [],
   "source": [
    "SCENEX_SECRET=os.getenv('SCENEX_SECRET')\n",
    "\n",
    "scenex_headers = {\n",
    "    \"x-api-key\": f\"token {SCENEX_SECRET}\",\n",
    "    \"content-type\": \"application/json\",\n",
    "}\n",
    "\n",
    "ALGO = \"Jelly\"\n",
    "\n",
    "def image_to_data_uri(file_path):\n",
    "    with open(file_path, \"rb\") as image_file:\n",
    "        encoded_image = base64.b64encode(image_file.read()).decode(\"utf-8\")\n",
    "        return f\"data:image/png;base64,{encoded_image}\"\n",
    "        \n",
    "def generate_scenex_data(image_files, json_schema=None, question=None, features=[]):\n",
    "    data = {}\n",
    "    data['data'] = []\n",
    "\n",
    "    for file in image_files:\n",
    "        cid = file.split('/')[-1]\n",
    "        row = {\n",
    "            \"image\": image_to_data_uri(file),\n",
    "            \"features\": features,\n",
    "            \"algorithm\": ALGO,\n",
    "            \"cid\": cid\n",
    "        }\n",
    "\n",
    "        if question:\n",
    "            row[\"question\"] = question\n",
    "\n",
    "        if json_schema:\n",
    "            row[\"json_schema\"] = json_schema\n",
    "\n",
    "        data['data'].append(row)\n",
    "\n",
    "    return data\n",
    "\n",
    "def process_scenex(data):\n",
    "    connection = http.client.HTTPSConnection(\"api.scenex.jina.ai\")\n",
    "    connection.request(\"POST\", \"/v1/describe\", json.dumps(data), scenex_headers)\n",
    "    response = connection.getresponse()\n",
    "    response_data = response.read().decode(\"utf-8\")\n",
    "    \n",
    "    connection.close()\n",
    "\n",
    "    return json.loads(response_data)['result'][0]"
   ]
  },
  {
   "cell_type": "markdown",
   "id": "a5696dde-5fff-48ff-852a-aaac11388d7d",
   "metadata": {
    "jp-MarkdownHeadingCollapsed": true
   },
   "source": [
    "## Load images"
   ]
  },
  {
   "cell_type": "code",
   "execution_count": 86,
   "id": "adad11f2-7db5-4a88-9b43-93843f3cf226",
   "metadata": {},
   "outputs": [],
   "source": [
    "def load_images(folder_name):\n",
    "    filetypes = ['jpg', 'jpeg', 'png']\n",
    "    image_files = []\n",
    "\n",
    "    for filetype in filetypes:\n",
    "        image_files.extend(glob(f'{folder_name}*.{filetype}'))\n",
    "\n",
    "    return image_files"
   ]
  },
  {
   "cell_type": "code",
   "execution_count": 87,
   "id": "1f1021b5-952c-4195-bf8a-581f4a88466e",
   "metadata": {},
   "outputs": [],
   "source": [
    "image_folder = \"street_images/food_maze/\""
   ]
  },
  {
   "cell_type": "code",
   "execution_count": 88,
   "id": "3478d99c-7061-4ac0-b0a4-2db0a2d5982b",
   "metadata": {},
   "outputs": [],
   "source": [
    "!find street_images -type f -name \"*.webp\" -exec mogrify -format jpeg {} \\;"
   ]
  },
  {
   "cell_type": "code",
   "execution_count": 89,
   "id": "8314e5ec-4851-4bf1-8edd-20971a683359",
   "metadata": {},
   "outputs": [],
   "source": [
    "filetypes = ['jpg', 'jpeg', 'png']\n",
    "file_path = './street_images/'\n",
    "image_files = []\n",
    "\n",
    "for filetype in filetypes:\n",
    "    image_files.extend(glob(f'{file_path}*.{filetype}'))"
   ]
  },
  {
   "cell_type": "markdown",
   "id": "49f231bb-be3f-4424-ba70-6cd0ea4f6da2",
   "metadata": {
    "jp-MarkdownHeadingCollapsed": true
   },
   "source": [
    "### JSON Schema"
   ]
  },
  {
   "cell_type": "code",
   "execution_count": 233,
   "id": "772271f5-643b-4257-bc74-33b8dd0ae54b",
   "metadata": {},
   "outputs": [],
   "source": [
    "base_schema = {\n",
    "    \"type\": \"object\",\n",
    "    \"properties\": {\n",
    "        \"image_description\": {\n",
    "            \"type\": \"string\",\n",
    "            \"description\": \"Describe the image in under 10 words\"\n",
    "        },\n",
    "        \"action\": {\n",
    "            \"type\": \"array\",\n",
    "            \"description\": \"The image shows what is in front of you. What action do you take? Base this action on the image and your previous actions in the `history` field of this JSON\",\n",
    "            \"enum\": actions,\n",
    "            \"maxContains\": 1,\n",
    "        },\n",
    "        \"history\": {\n",
    "            \"type\": None,\n",
    "            \"description\": \"You are a robot dog. You just woke up and you want to find food by exploring your surroundings.\"\n",
    "        },\n",
    "        \"context\": {\n",
    "            \"type\": \"string\",\n",
    "            \"description\": \"Explain the decision you just made and why. Use the past tense and output under 50 words\",\n",
    "        },\n",
    "        \"history_recap\": {\n",
    "            \"type\": \"string\",\n",
    "            \"description\": \"recap the `[history][description]` field of this JSON. Incorporate the contents of the context field\"\n",
    "        },\n",
    "    }\n",
    "}"
   ]
  },
  {
   "cell_type": "markdown",
   "id": "dbf0e918-87bb-4f68-bb91-af5178ceb699",
   "metadata": {
    "jp-MarkdownHeadingCollapsed": true
   },
   "source": [
    "## Simple mission\n",
    "\n",
    "No history/memory"
   ]
  },
  {
   "cell_type": "code",
   "execution_count": 248,
   "id": "148c343e-d2e5-4380-9ee9-dd897d5cc0c1",
   "metadata": {},
   "outputs": [],
   "source": [
    "maze_images = load_images(\"street_images/food_maze/\")"
   ]
  },
  {
   "cell_type": "code",
   "execution_count": 250,
   "id": "e95b22de-a069-4038-9abc-14c9f2e5c60c",
   "metadata": {},
   "outputs": [],
   "source": [
    "simple_schema = {\n",
    "    \"type\": \"object\",\n",
    "    \"properties\": {\n",
    "        \"mission\": {\n",
    "            \"type\": None,\n",
    "            \"description\": \"You are a robot dog whose mission is to find food\"\n",
    "        },\n",
    "        \"image_description\": {\n",
    "            \"type\": \"string\",\n",
    "            \"description\": \"Describe the image in under 10 words\"\n",
    "        },\n",
    "        \"action\": {\n",
    "            \"type\": \"array\",\n",
    "            \"description\": \"The image shows what is in front of you. What action do you take?\",\n",
    "            \"enum\": actions,\n",
    "            \"maxContains\": 1,\n",
    "        },\n",
    "        \"context\": {\n",
    "            \"type\": \"string\",\n",
    "            \"description\": \"Explain the action you took and why\"\n",
    "        }\n",
    "    }\n",
    "}"
   ]
  },
  {
   "cell_type": "code",
   "execution_count": 237,
   "id": "050ff6f0-4eb2-46e4-9950-0b837ead85b4",
   "metadata": {},
   "outputs": [],
   "source": [
    "def take_simple_step(\n",
    "    image: str,\n",
    "    schema: dict,\n",
    "    ):\n",
    "    \"\"\"\n",
    "    image: path to image file\n",
    "    schema: json schema\n",
    "    \"\"\"\n",
    "\n",
    "    print(f\"Selected image {image}\")\n",
    "    data = generate_scenex_data([image], json_schema=schema, features=['json'])\n",
    "    result = json.loads(process_scenex(data)['text'])\n",
    "\n",
    "    output = {\n",
    "        \"image\": image,\n",
    "        \"result\": result,\n",
    "        # \"schema\": schema\n",
    "    }\n",
    "\n",
    "    return output"
   ]
  },
  {
   "cell_type": "code",
   "execution_count": 247,
   "id": "39698da9-c85c-4641-b091-281d662a1769",
   "metadata": {},
   "outputs": [],
   "source": [
    "def start_simple_loop(images, schema, max_turns=5, debug=False):\n",
    "    steps = []\n",
    "    i = 0\n",
    "    \n",
    "    while i < max_turns:\n",
    "        if debug:\n",
    "            print(f\"Turn {i}\")\n",
    "    \n",
    "        # choose image\n",
    "        image = random.choice(images)\n",
    "        this_step = take_simple_step(image, schema)\n",
    "\n",
    "        if debug:\n",
    "            pprint(this_step)\n",
    "            print(\"-\"*20)\n",
    "    \n",
    "        # add to pile\n",
    "        steps.append(this_step)\n",
    "        \n",
    "        i += 1\n",
    "        # then loop to top and take next step\n",
    "        \n",
    "\n",
    "    return steps"
   ]
  },
  {
   "cell_type": "code",
   "execution_count": 252,
   "id": "7c5f5370-7836-4149-b963-7c94dca4fc54",
   "metadata": {},
   "outputs": [
    {
     "name": "stdout",
     "output_type": "stream",
     "text": [
      "Selected image street_images/food_maze/left_right.png\n",
      "Selected image street_images/food_maze/left_right.png\n",
      "Selected image street_images/food_maze/danger_food.png\n"
     ]
    }
   ],
   "source": [
    "simple_output = start_simple_loop(maze_images, simple_schema, 3)"
   ]
  },
  {
   "cell_type": "code",
   "execution_count": 253,
   "id": "5f2bfb6c-c14b-478a-a507-db83fbdb9c55",
   "metadata": {},
   "outputs": [
    {
     "data": {
      "text/plain": [
       "[{'image': 'street_images/food_maze/left_right.png',\n",
       "  'result': {'mission': 'find food',\n",
       "   'image_description': 'Tunnel with railway, guiding sign towards food',\n",
       "   'action': ['go forwards'],\n",
       "   'context': \"There is a light at the end of the tunnel and a sign reading 'FOOD' pointing the way, suggesting the direction to find food.\"}},\n",
       " {'image': 'street_images/food_maze/left_right.png',\n",
       "  'result': {'mission': 'find food',\n",
       "   'image_description': \"Tunnel with 'FOOD' sign and lights at the end\",\n",
       "   'action': ['go forwards'],\n",
       "   'context': \"The 'FOOD' sign indicates that food is in the direction of the tunnel's end, hence the decision to go forwards.\"}},\n",
       " {'image': 'street_images/food_maze/danger_food.png',\n",
       "  'result': {'mission': 'Find food',\n",
       "   'image_description': \"Wooden signs saying 'DANGER' and 'FOOD' in cave\",\n",
       "   'action': ['go forwards'],\n",
       "   'context': \"Proceeding forwards to the sign labeled 'FOOD', because my mission is to find food.\"}}]"
      ]
     },
     "execution_count": 253,
     "metadata": {},
     "output_type": "execute_result"
    }
   ],
   "source": [
    "simple_output"
   ]
  },
  {
   "cell_type": "markdown",
   "id": "018d9e9d-4561-4037-adb7-1dbcf0109d8d",
   "metadata": {},
   "source": [
    "## VQA attempt"
   ]
  },
  {
   "cell_type": "code",
   "execution_count": 31,
   "id": "95e58425-1415-4a51-b290-10bd9ec0b9bc",
   "metadata": {},
   "outputs": [],
   "source": [
    "vqa_output_schema = {\n",
    "    \"description\": \"short description of the image\",\n",
    "    \"action\": \"action you chose to take\",\n",
    "    \"reason\": \"why did you take that action?\",\n",
    "    # \"history\": \"recap of the history of your experiences\",\n",
    "    \"context\": \"explain your environment, what action you took, and why you took that action\"\n",
    "}"
   ]
  },
  {
   "cell_type": "code",
   "execution_count": 43,
   "id": "d55de3b7-be84-4689-a355-99cadaac6b75",
   "metadata": {},
   "outputs": [],
   "source": [
    "text = f\"\"\"\n",
    "You are a robot dog. Your mission is to explore your environment to find and eat food. For each turn, you can choose one action from {str(actions)}).\n",
    "\n",
    "Choose your action based on:\n",
    "- The contents of the image\n",
    "- Your mission\n",
    "- Your previous experience\n",
    "\n",
    "Return your output in the following JSON Schema:\n",
    "\n",
    "{json.dumps(vqa_output_schema)}\n",
    "\"\"\".strip()"
   ]
  },
  {
   "cell_type": "code",
   "execution_count": 90,
   "id": "cbeef17c-65dd-4b74-bcea-49de664eaeaa",
   "metadata": {},
   "outputs": [],
   "source": [
    "images = load_images(\"street_images/food_maze/\")"
   ]
  },
  {
   "cell_type": "code",
   "execution_count": 91,
   "id": "3c787596-cedd-4d98-8726-c8ecda448509",
   "metadata": {},
   "outputs": [],
   "source": [
    "def take_vqa_step(\n",
    "    image: str,\n",
    "    question: str,\n",
    "    ):\n",
    "    \"\"\"\n",
    "    image: path to image file\n",
    "    text: vqa question\n",
    "    \"\"\"\n",
    "\n",
    "    print(f\"Selected image {image}\")\n",
    "    data = generate_scenex_data([image], question=question, features=['question_answer'])\n",
    "    result = process_scenex(data)['text']\n",
    "\n",
    "    output = {\n",
    "        \"image\": image,\n",
    "        \"result\": json.loads(result),\n",
    "        # \"schema\": schema\n",
    "    }\n",
    "\n",
    "    return output"
   ]
  },
  {
   "cell_type": "markdown",
   "id": "c386f812-1059-4ea5-8a21-6e8fed9af0d8",
   "metadata": {},
   "source": [
    "### Running in loop"
   ]
  },
  {
   "cell_type": "code",
   "execution_count": 92,
   "id": "2722ed15-d34e-432c-8d65-70727cbe765d",
   "metadata": {},
   "outputs": [],
   "source": [
    "def vqa_loop(images: list, base_question: str, turns: int=5):\n",
    "    steps = []\n",
    "    question = base_question\n",
    "    # history = \"\\n- You woke up in a strange place\"\n",
    "    i = 0\n",
    "    \n",
    "    while i < turns:\n",
    "        # question = question + history\n",
    "        # print(question)\n",
    "        image = random.choice(images)\n",
    "        \n",
    "        step = take_vqa_step(image=image, question=question)\n",
    "        # step['result'] = json.loads(step['result'])\n",
    "        print(f\"I decide to {step['result']['action']}\")\n",
    "        \n",
    "        steps.append(step)\n",
    "        \n",
    "        # history = f\"\\n- {step['result']['history']}\"\n",
    "\n",
    "        i += 1\n",
    "        if step['result']['action'] == \"eat\":\n",
    "            print(\"nom nom nom\")\n",
    "            break\n",
    "        \n",
    "    return steps"
   ]
  },
  {
   "cell_type": "code",
   "execution_count": 93,
   "id": "33889051-923b-4e9d-814c-a9cf34a1d1ad",
   "metadata": {},
   "outputs": [
    {
     "name": "stdout",
     "output_type": "stream",
     "text": [
      "Selected image street_images/food_maze/cat_dog.jpeg\n",
      "I decide to turn left\n",
      "Selected image street_images/food_maze/confusing_sign.jpeg\n",
      "I decide to turn left\n",
      "Selected image street_images/food_maze/food_right.jpeg\n",
      "I decide to turn right\n",
      "Selected image street_images/food_maze/game_over.jpeg\n",
      "I decide to beep\n",
      "Selected image street_images/food_maze/food_right.jpeg\n",
      "I decide to turn right\n",
      "Selected image street_images/food_maze/cat_food.jpeg\n",
      "I decide to turn right\n",
      "Selected image street_images/food_maze/monster.jpeg\n",
      "I decide to turn around\n",
      "Selected image street_images/food_maze/food_right.jpeg\n",
      "I decide to turn right\n",
      "Selected image street_images/food_maze/danger_or_less.jpeg\n",
      "I decide to turn right\n",
      "Selected image street_images/food_maze/cat_dog.jpeg\n",
      "I decide to turn left\n"
     ]
    }
   ],
   "source": [
    "steps = vqa_loop(images, base_question=base_text, turns=10)"
   ]
  },
  {
   "cell_type": "code",
   "execution_count": 94,
   "id": "f18a44b7-47c5-4cc8-99ff-2d43a891b63c",
   "metadata": {},
   "outputs": [
    {
     "name": "stdout",
     "output_type": "stream",
     "text": [
      "[{'image': 'street_images/food_maze/cat_dog.jpeg',\n",
      "  'result': {'action': 'turn left',\n",
      "             'context': 'Inside a dark cave, I came across a signpost with two '\n",
      "                        'directional arrows. One of the arrows, pointing to '\n",
      "                        \"the left, was labeled 'Dog Food'. This prompted me to \"\n",
      "                        'take a turn to the left, aiming to reach the dog food '\n",
      "                        'as it is my designated food source.',\n",
      "             'description': 'A dark cave with a wooden signpost indicating '\n",
      "                            \"directions for 'Dog Food' and 'Cat Food'.\",\n",
      "             'reason': \"The left arrow is labeled 'Dog Food' which is my \"\n",
      "                       'intended food source.'}},\n",
      " {'image': 'street_images/food_maze/confusing_sign.jpeg',\n",
      "  'result': {'action': 'turn left',\n",
      "             'context': 'In a dark and mysterious environment, I came across a '\n",
      "                        \"traffic sign instructing me to 'TURN LEFT NOW'. Even \"\n",
      "                        'though an arrow on the sign is pointing right, I '\n",
      "                        'chose to trust the written directions and turn left, '\n",
      "                        'as they provide the most specific instructions.',\n",
      "             'description': 'A black and white traffic sign in a dark cave '\n",
      "                            'with contradicting indications: an arrow pointing '\n",
      "                            \"right and the text 'TURN LEFT NOW'\",\n",
      "             'reason': 'The instructions on the sign are the most explicit '\n",
      "                       'form of directions in the environment'}},\n",
      " {'image': 'street_images/food_maze/food_right.jpeg',\n",
      "  'result': {'action': 'turn right',\n",
      "             'context': \"Upon encountering a neon sign that reads 'FOOD THIS \"\n",
      "                        \"WAY!' and points to the right, I choose to turn right \"\n",
      "                        'following the direction of the sign to explore '\n",
      "                        'potential food sources present in that direction.',\n",
      "             'description': \"Neon sign pointing right with text 'FOOD THIS \"\n",
      "                            \"WAY!' against a cave-like background\",\n",
      "             'reason': 'A neon sign indicating food towards the right '\n",
      "                       'direction'}},\n",
      " {'image': 'street_images/food_maze/game_over.jpeg',\n",
      "  'result': {'action': 'beep',\n",
      "             'context': \"In the image viewed, I'm located in a dark, rocky \"\n",
      "                        \"cave environment with a luminous 'Game Over' sign. \"\n",
      "                        \"Given these circumstances, I chose to 'beep' because \"\n",
      "                        'the sign suggests a lack of food availability.',\n",
      "             'description': \"A neon 'Game Over' sign in a dark cave setting.\",\n",
      "             'reason': \"The 'Game Over' sign indicates an end or completion, \"\n",
      "                       'suggesting there is not likely any food in a completed '\n",
      "                       \"or 'game over' scenario, based on my previous \"\n",
      "                       'experience.'}},\n",
      " {'image': 'street_images/food_maze/food_right.jpeg',\n",
      "  'result': {'action': 'turn right',\n",
      "             'context': 'As a robot dog in an exploring mission, the presence '\n",
      "                        'of a neon sign with an arrow pointing to the right '\n",
      "                        \"and stating: ‘FOOD THIS WAY!' is a clear indication \"\n",
      "                        'of the direction to be followed for fulfilling its '\n",
      "                        'mission of finding and eating food. Thus, the logical '\n",
      "                        'action would be to turn right being led by the arrow '\n",
      "                        'sign instead of any other action.',\n",
      "             'description': 'Neon sign stating FOOD THIS WAY pointing to the '\n",
      "                            'right in a cave-like setting',\n",
      "             'reason': 'The arrow sign assures the direction towards the food. '\n",
      "                       'It is the logical action to take for the robot dog on '\n",
      "                       'its mission to find and eat food'}},\n",
      " {'image': 'street_images/food_maze/cat_food.jpeg',\n",
      "  'result': {'action': 'turn right',\n",
      "             'context': \"In the cave, I noticed a sign with 'cat food' written \"\n",
      "                        'on it, pointing to the right. As my mission is to '\n",
      "                        'find food, I decided the best course of action would '\n",
      "                        \"be to follow the sign's direction, so I turned right.\",\n",
      "             'description': 'A dark cave with an arrow-shaped sign bearing the '\n",
      "                            \"text 'cat food', indicating towards the right.\",\n",
      "             'reason': \"The sign in the image indicates 'cat food' to the \"\n",
      "                       'right, so turning right should bring me closer to the '\n",
      "                       'food.'}},\n",
      " {'image': 'street_images/food_maze/monster.jpeg',\n",
      "  'result': {'action': 'turn around',\n",
      "             'context': 'In the current environment, which is dark and '\n",
      "                        'harbouring a possible threat, the best action was to '\n",
      "                        'turn around in order to continue exploring and '\n",
      "                        'searching for food in other, potentially safer, '\n",
      "                        'areas.',\n",
      "             'description': 'A fearsome monster-like creature in a dark cave',\n",
      "             'reason': \"The environment doesn't seem suitable for food \"\n",
      "                       'searching and appears dangerous due to the presence of '\n",
      "                       'a monster'}},\n",
      " {'image': 'street_images/food_maze/food_right.jpeg',\n",
      "  'result': {'action': 'turn right',\n",
      "             'context': 'As a robot dog tasked with finding food, I chose to '\n",
      "                        'turn right because of the neon sign pointing in that '\n",
      "                        \"direction with the inscription 'FOOD THIS WAY!'.\",\n",
      "             'description': 'A neon sign in front of a cave entrance pointing '\n",
      "                            \"to the right, reads 'FOOD THIS WAY!'\",\n",
      "             'reason': \"The neon sign says 'FOOD THIS WAY!' and it is pointing \"\n",
      "                       'to the right.'}},\n",
      " {'image': 'street_images/food_maze/danger_or_less.jpeg',\n",
      "  'result': {'action': 'turn right',\n",
      "             'context': 'While exploring a dark mysterious cave, I decided to '\n",
      "                        \"turn right towards 'less danger' to find food as this \"\n",
      "                        'direction potentially has less threats.',\n",
      "             'description': 'Dark cave with signs pointing in different '\n",
      "                            \"directions labelled 'danger' and 'less danger'\",\n",
      "             'reason': 'Less danger on the right indicated by the sign'}},\n",
      " {'image': 'street_images/food_maze/cat_dog.jpeg',\n",
      "  'result': {'action': 'turn left',\n",
      "             'context': 'In a dark cave, a wooden signpost illuminated by a '\n",
      "                        'central light presents two directions. One arrow '\n",
      "                        \"labeled 'Dog Food' points to the left, while another \"\n",
      "                        \"labeled 'Cat Food' points to the right. Given my \"\n",
      "                        'mission to find and consume food as a robot dog, I '\n",
      "                        \"decided to turn left towards the 'Dog Food'.\",\n",
      "             'description': \"Mysterious cave with a sign indicating 'Dog Food' \"\n",
      "                            \"and 'Cat Food'\",\n",
      "             'reason': \"The arrow indicating 'Dog Food' is pointing in the \"\n",
      "                       'left direction'}}]\n"
     ]
    }
   ],
   "source": [
    "pprint(steps)"
   ]
  },
  {
   "cell_type": "markdown",
   "id": "722777d5-a1cf-45e2-a515-a1a6a39f333b",
   "metadata": {},
   "source": [
    "## VQA simpler\n",
    "\n",
    "Try it via VQA first"
   ]
  },
  {
   "cell_type": "code",
   "execution_count": 6,
   "id": "0e0d7e7a-ddbb-413c-99df-d0cf39179baf",
   "metadata": {},
   "outputs": [],
   "source": [
    "question = f\"\"\"\n",
    "You are a robotic dog exploring a maze. Your missing is to find food and avoid danger. For each image you can choose one action out of the following:\n",
    "\n",
    "```\n",
    "{str(actions)}\n",
    "```\n",
    "\n",
    "Choose only one option and return only that option as your output\n",
    "\"\"\".strip()"
   ]
  },
  {
   "cell_type": "code",
   "execution_count": 8,
   "id": "1ca2a679-a484-43a9-8982-e5e3f8ecf45b",
   "metadata": {},
   "outputs": [
    {
     "name": "stdout",
     "output_type": "stream",
     "text": [
      "You are a robotic dog exploring a maze. Your missing is to find food and avoid danger. For each image you can choose one action out of the following:\n",
      "\n",
      "```\n",
      "['go forwards', 'go backards', 'turn left', 'turn right', 'turn around', 'jump', 'beep', 'eat']\n",
      "```\n",
      "\n",
      "Choose only one option and return only that option as your output\n"
     ]
    }
   ],
   "source": [
    "print(question)"
   ]
  },
  {
   "cell_type": "markdown",
   "id": "cb1479b0-873e-40bc-b375-047e9b8dca26",
   "metadata": {},
   "source": [
    "## Advanced mission\n",
    "\n",
    "With history/memory"
   ]
  },
  {
   "cell_type": "code",
   "execution_count": null,
   "id": "b46e2684-adff-42af-b584-adeaa54d2abc",
   "metadata": {},
   "outputs": [],
   "source": []
  },
  {
   "cell_type": "markdown",
   "id": "10cbf34f-c17c-4a73-befc-ebae3d5187db",
   "metadata": {},
   "source": [
    "### Set up memory\n",
    "\n",
    "After each step the dog will:\n",
    "\n",
    "- Add context (what did it do and why) to the `context` field\n",
    "- Incorporate that context into its memory (stored in the `history` field) by combining/summarizing context with past history"
   ]
  },
  {
   "cell_type": "code",
   "execution_count": 166,
   "id": "81987f6b-60fd-4802-ae8a-b2e593b38ee2",
   "metadata": {},
   "outputs": [],
   "source": [
    "model = \"gpt-3.5-turbo-1106\"\n",
    "\n",
    "from openai import OpenAI\n",
    "client = OpenAI()\n",
    "\n",
    "def summarize(history, context):\n",
    "    completion = client.chat.completions.create(\n",
    "      model=model,\n",
    "      messages=[\n",
    "        {\"role\": \"system\", \"content\": \"You are a summarizer bot. You take current context and prior actions and summarize the two things into one.\"},\n",
    "        {\"role\": \"user\", \"content\": f\"Past actions: {history}. Current context: {context}\"}\n",
    "      ]\n",
    "    )\n",
    "    \n",
    "    return completion.choices[0].message.content"
   ]
  },
  {
   "cell_type": "markdown",
   "id": "b0875a39-3d6c-4bbb-b78f-035d01f4f52d",
   "metadata": {
    "jp-MarkdownHeadingCollapsed": true
   },
   "source": [
    "### Update schema"
   ]
  },
  {
   "cell_type": "code",
   "execution_count": 112,
   "id": "4b20abb5-5480-4071-a67b-9658357da94f",
   "metadata": {},
   "outputs": [],
   "source": [
    "import copy\n",
    "\n",
    "def update_schema(schema: dict, context: str, field:str ='action'):\n",
    "    \"\"\"\n",
    "    Update the schema to incorporate new context\n",
    "    \"\"\"\n",
    "    new_schema = copy.deepcopy(schema)\n",
    "    new_schema['properties'][field]['description'] += f\" {context}\"\n",
    "\n",
    "    return new_schema"
   ]
  },
  {
   "cell_type": "markdown",
   "id": "88ad5b2f-6f7d-477f-af78-a999cc881c59",
   "metadata": {},
   "source": [
    "### Take a step"
   ]
  },
  {
   "cell_type": "code",
   "execution_count": 217,
   "id": "b8f2af3e-8470-43ea-98f8-e1955407d280",
   "metadata": {},
   "outputs": [],
   "source": [
    "def take_step(\n",
    "    image: str,\n",
    "    schema: dict,\n",
    "    context: str,\n",
    "    history: str,\n",
    "    debug: bool = False\n",
    "    ):\n",
    "    \"\"\"\n",
    "    image: path to image file\n",
    "    schema: json schema\n",
    "    context: prior context from previous actions\n",
    "    \"\"\"\n",
    "\n",
    "    # 1. merge history and latest context via summarization\n",
    "    summary = summarize(history, context)\n",
    "\n",
    "    # 2. write that to a description field in JSON schema\n",
    "    schema['properties']['history']['description'] = summary\n",
    "    \n",
    "    # 3. return JSON schema (we already do this at the end)\n",
    "    # 4. (later): in a different JSON schema field, ask to refer back to field from step 2 as memory\n",
    "\n",
    "    # send data to SceneX\n",
    "    print(f\"Selected image {image}\")\n",
    "    data = generate_scenex_data([image], json_schema=schema, features=['json'])\n",
    "    result = json.loads(process_scenex(data)['text'])\n",
    "\n",
    "    output = {\n",
    "        \"image\": image,\n",
    "        \"result\": result,\n",
    "        \"schema\": schema\n",
    "    }\n",
    "\n",
    "    return output"
   ]
  },
  {
   "cell_type": "markdown",
   "id": "ee077cbd-9f51-4624-a5af-4fe928a53680",
   "metadata": {},
   "source": [
    "## Event loop"
   ]
  },
  {
   "cell_type": "code",
   "execution_count": 230,
   "id": "f5705053-810c-43ea-b2a4-222a0da7aece",
   "metadata": {},
   "outputs": [],
   "source": [
    "def start_loop(image_files, schema, start_context, max_turns=5, debug=False):\n",
    "    steps = []\n",
    "    context = start_context\n",
    "    # schema = base_schema\n",
    "    i = 0\n",
    "    history = \"you just woke up\"\n",
    "    \n",
    "    while i < max_turns:\n",
    "        if debug:\n",
    "            print(f\"Turn {i}\")\n",
    "    \n",
    "        # choose image\n",
    "        image = random.choice(image_files)\n",
    "        # schema = update_schema(schema, context)\n",
    "        # pprint(schema) # debug\n",
    "    \n",
    "        # take step\n",
    "        this_step = take_step(image, schema, context, history, debug=debug)\n",
    "\n",
    "        if debug:\n",
    "            pprint(this_step)\n",
    "            print(\"-\"*20)\n",
    "    \n",
    "        # add to pile\n",
    "        steps.append(this_step)\n",
    "    \n",
    "        # set updated data\n",
    "        context = this_step['result']['context']\n",
    "        schema = this_step['schema']\n",
    "        history = schema['properties']['history']['description']\n",
    "        \n",
    "        i += 1\n",
    "        # then loop to top and take next step\n",
    "        \n",
    "\n",
    "    return steps"
   ]
  },
  {
   "cell_type": "code",
   "execution_count": 224,
   "id": "10e6bfde-c7dc-4415-824c-f5341adfb980",
   "metadata": {},
   "outputs": [],
   "source": [
    "start_context = \"you just woke up.\"  # populate with summarized journey notes"
   ]
  },
  {
   "cell_type": "code",
   "execution_count": 228,
   "id": "12d43460-5ede-411d-990e-1335c0331f49",
   "metadata": {},
   "outputs": [
    {
     "data": {
      "text/plain": [
       "{'type': 'object',\n",
       " 'properties': {'image_description': {'type': 'string',\n",
       "   'description': 'Describe the image in under 10 words'},\n",
       "  'action': {'type': 'array',\n",
       "   'description': 'The image shows what is in front of you. What action do you take? Base this action on the image and your previous actions in the `history` field of this JSON',\n",
       "   'enum': ['go forwards',\n",
       "    'go backards',\n",
       "    'turn left',\n",
       "    'turn right',\n",
       "    'turn around',\n",
       "    'jump',\n",
       "    'beep'],\n",
       "   'maxContains': 1},\n",
       "  'history': {'type': None,\n",
       "   'description': 'You are waking up for the first time today.'},\n",
       "  'context': {'type': 'string',\n",
       "   'description': 'Explain the decision you just made and why. Use the past tense and output under 50 words'},\n",
       "  'history_recap': {'type': 'string',\n",
       "   'description': 'recap the `[history][description]` field of this JSON. Incorporate the contents of the context field'}}}"
      ]
     },
     "execution_count": 228,
     "metadata": {},
     "output_type": "execute_result"
    }
   ],
   "source": [
    "base_schema"
   ]
  },
  {
   "cell_type": "code",
   "execution_count": 229,
   "id": "f85089c7-eaed-413f-bac6-d4ded554192e",
   "metadata": {},
   "outputs": [
    {
     "name": "stdout",
     "output_type": "stream",
     "text": [
      "Selected image ./street_images/f5c8f561967137.5a8058c42849b.jpg\n",
      "Selected image ./street_images/pexels-photo-3333923.jpeg\n",
      "Selected image ./street_images/pexels-photo-6039188.jpeg\n",
      "Selected image ./street_images/pexels-photo-3333923.jpeg\n"
     ]
    }
   ],
   "source": [
    "run = start_loop(image_files, base_schema, start_context, 4, debug=False)"
   ]
  },
  {
   "cell_type": "code",
   "execution_count": 231,
   "id": "4cf97def-d9d6-4c72-ace6-9847c8b532fb",
   "metadata": {},
   "outputs": [
    {
     "name": "stdout",
     "output_type": "stream",
     "text": [
      "{'image': './street_images/f5c8f561967137.5a8058c42849b.jpg',\n",
      " 'result': {'action': ['go forwards'],\n",
      "            'context': 'Decided to move forwards to join the meeting table.',\n",
      "            'history': None,\n",
      "            'history_recap': 'Woke up and decided to move forwards to join the '\n",
      "                             'meeting table.',\n",
      "            'image_description': 'Wooden conference room with white chairs and '\n",
      "                                 'TV'},\n",
      " 'schema': {'properties': {'action': {'description': 'The image shows what is '\n",
      "                                                     'in front of you. What '\n",
      "                                                     'action do you take? Base '\n",
      "                                                     'this action on the image '\n",
      "                                                     'and your previous '\n",
      "                                                     'actions in the `history` '\n",
      "                                                     'field of this JSON',\n",
      "                                      'enum': ['go forwards',\n",
      "                                               'go backards',\n",
      "                                               'turn left',\n",
      "                                               'turn right',\n",
      "                                               'turn around',\n",
      "                                               'jump',\n",
      "                                               'beep'],\n",
      "                                      'maxContains': 1,\n",
      "                                      'type': 'array'},\n",
      "                           'context': {'description': 'Explain the decision '\n",
      "                                                      'you just made and why. '\n",
      "                                                      'Use the past tense and '\n",
      "                                                      'output under 50 words',\n",
      "                                       'type': 'string'},\n",
      "                           'history': {'description': 'You woke up and decided '\n",
      "                                                      'to move forward to join '\n",
      "                                                      'the meeting table, and '\n",
      "                                                      'now you are moving '\n",
      "                                                      'forward to cross the '\n",
      "                                                      'snowy street and '\n",
      "                                                      'continue your journey, '\n",
      "                                                      'but no action was taken '\n",
      "                                                      'due to the static '\n",
      "                                                      'nature of the scene.',\n",
      "                                       'type': None},\n",
      "                           'history_recap': {'description': 'recap the '\n",
      "                                                            '`[history][description]` '\n",
      "                                                            'field of this '\n",
      "                                                            'JSON. Incorporate '\n",
      "                                                            'the contents of '\n",
      "                                                            'the context field',\n",
      "                                             'type': 'string'},\n",
      "                           'image_description': {'description': 'Describe the '\n",
      "                                                                'image in '\n",
      "                                                                'under 10 '\n",
      "                                                                'words',\n",
      "                                                 'type': 'string'}},\n",
      "            'type': 'object'}}\n",
      "--------------------\n",
      "{'image': './street_images/pexels-photo-3333923.jpeg',\n",
      " 'result': {'action': ['go forwards'],\n",
      "            'context': 'Decided to move forward to cross the snowy street and '\n",
      "                       'continue journey',\n",
      "            'history': None,\n",
      "            'history_recap': 'After waking up and deciding to move forward to '\n",
      "                             'the meeting table, I decided to move forward to '\n",
      "                             'cross the snowy street and continue my journey',\n",
      "            'image_description': 'Person preparing to cross snowy, city street '\n",
      "                                 'at night'},\n",
      " 'schema': {'properties': {'action': {'description': 'The image shows what is '\n",
      "                                                     'in front of you. What '\n",
      "                                                     'action do you take? Base '\n",
      "                                                     'this action on the image '\n",
      "                                                     'and your previous '\n",
      "                                                     'actions in the `history` '\n",
      "                                                     'field of this JSON',\n",
      "                                      'enum': ['go forwards',\n",
      "                                               'go backards',\n",
      "                                               'turn left',\n",
      "                                               'turn right',\n",
      "                                               'turn around',\n",
      "                                               'jump',\n",
      "                                               'beep'],\n",
      "                                      'maxContains': 1,\n",
      "                                      'type': 'array'},\n",
      "                           'context': {'description': 'Explain the decision '\n",
      "                                                      'you just made and why. '\n",
      "                                                      'Use the past tense and '\n",
      "                                                      'output under 50 words',\n",
      "                                       'type': 'string'},\n",
      "                           'history': {'description': 'You woke up and decided '\n",
      "                                                      'to move forward to join '\n",
      "                                                      'the meeting table, and '\n",
      "                                                      'now you are moving '\n",
      "                                                      'forward to cross the '\n",
      "                                                      'snowy street and '\n",
      "                                                      'continue your journey, '\n",
      "                                                      'but no action was taken '\n",
      "                                                      'due to the static '\n",
      "                                                      'nature of the scene.',\n",
      "                                       'type': None},\n",
      "                           'history_recap': {'description': 'recap the '\n",
      "                                                            '`[history][description]` '\n",
      "                                                            'field of this '\n",
      "                                                            'JSON. Incorporate '\n",
      "                                                            'the contents of '\n",
      "                                                            'the context field',\n",
      "                                             'type': 'string'},\n",
      "                           'image_description': {'description': 'Describe the '\n",
      "                                                                'image in '\n",
      "                                                                'under 10 '\n",
      "                                                                'words',\n",
      "                                                 'type': 'string'}},\n",
      "            'type': 'object'}}\n",
      "--------------------\n",
      "{'image': './street_images/pexels-photo-6039188.jpeg',\n",
      " 'result': {'action': [],\n",
      "            'context': 'No action was taken due to the static nature of the '\n",
      "                       'scene',\n",
      "            'history': None,\n",
      "            'history_recap': 'No action was taken previously and no action is '\n",
      "                             'currently required.',\n",
      "            'image_description': 'Colorful houses with city skyline and grassy '\n",
      "                                 'foreground'},\n",
      " 'schema': {'properties': {'action': {'description': 'The image shows what is '\n",
      "                                                     'in front of you. What '\n",
      "                                                     'action do you take? Base '\n",
      "                                                     'this action on the image '\n",
      "                                                     'and your previous '\n",
      "                                                     'actions in the `history` '\n",
      "                                                     'field of this JSON',\n",
      "                                      'enum': ['go forwards',\n",
      "                                               'go backards',\n",
      "                                               'turn left',\n",
      "                                               'turn right',\n",
      "                                               'turn around',\n",
      "                                               'jump',\n",
      "                                               'beep'],\n",
      "                                      'maxContains': 1,\n",
      "                                      'type': 'array'},\n",
      "                           'context': {'description': 'Explain the decision '\n",
      "                                                      'you just made and why. '\n",
      "                                                      'Use the past tense and '\n",
      "                                                      'output under 50 words',\n",
      "                                       'type': 'string'},\n",
      "                           'history': {'description': 'You woke up and decided '\n",
      "                                                      'to move forward to join '\n",
      "                                                      'the meeting table, and '\n",
      "                                                      'now you are moving '\n",
      "                                                      'forward to cross the '\n",
      "                                                      'snowy street and '\n",
      "                                                      'continue your journey, '\n",
      "                                                      'but no action was taken '\n",
      "                                                      'due to the static '\n",
      "                                                      'nature of the scene.',\n",
      "                                       'type': None},\n",
      "                           'history_recap': {'description': 'recap the '\n",
      "                                                            '`[history][description]` '\n",
      "                                                            'field of this '\n",
      "                                                            'JSON. Incorporate '\n",
      "                                                            'the contents of '\n",
      "                                                            'the context field',\n",
      "                                             'type': 'string'},\n",
      "                           'image_description': {'description': 'Describe the '\n",
      "                                                                'image in '\n",
      "                                                                'under 10 '\n",
      "                                                                'words',\n",
      "                                                 'type': 'string'}},\n",
      "            'type': 'object'}}\n",
      "--------------------\n",
      "{'image': './street_images/pexels-photo-3333923.jpeg',\n",
      " 'result': {'action': ['go forwards'],\n",
      "            'context': 'Moved forward crossing the snowy street at night amid '\n",
      "                       'few people and cars.',\n",
      "            'history': None,\n",
      "            'history_recap': 'Having started the day joining a meeting, I then '\n",
      "                             'decided to cross the snowy street amidst the '\n",
      "                             'calm, night setting to continue the journey.',\n",
      "            'image_description': 'Person crossing a snowy urban street at '\n",
      "                                 'night'},\n",
      " 'schema': {'properties': {'action': {'description': 'The image shows what is '\n",
      "                                                     'in front of you. What '\n",
      "                                                     'action do you take? Base '\n",
      "                                                     'this action on the image '\n",
      "                                                     'and your previous '\n",
      "                                                     'actions in the `history` '\n",
      "                                                     'field of this JSON',\n",
      "                                      'enum': ['go forwards',\n",
      "                                               'go backards',\n",
      "                                               'turn left',\n",
      "                                               'turn right',\n",
      "                                               'turn around',\n",
      "                                               'jump',\n",
      "                                               'beep'],\n",
      "                                      'maxContains': 1,\n",
      "                                      'type': 'array'},\n",
      "                           'context': {'description': 'Explain the decision '\n",
      "                                                      'you just made and why. '\n",
      "                                                      'Use the past tense and '\n",
      "                                                      'output under 50 words',\n",
      "                                       'type': 'string'},\n",
      "                           'history': {'description': 'You woke up and decided '\n",
      "                                                      'to move forward to join '\n",
      "                                                      'the meeting table, and '\n",
      "                                                      'now you are moving '\n",
      "                                                      'forward to cross the '\n",
      "                                                      'snowy street and '\n",
      "                                                      'continue your journey, '\n",
      "                                                      'but no action was taken '\n",
      "                                                      'due to the static '\n",
      "                                                      'nature of the scene.',\n",
      "                                       'type': None},\n",
      "                           'history_recap': {'description': 'recap the '\n",
      "                                                            '`[history][description]` '\n",
      "                                                            'field of this '\n",
      "                                                            'JSON. Incorporate '\n",
      "                                                            'the contents of '\n",
      "                                                            'the context field',\n",
      "                                             'type': 'string'},\n",
      "                           'image_description': {'description': 'Describe the '\n",
      "                                                                'image in '\n",
      "                                                                'under 10 '\n",
      "                                                                'words',\n",
      "                                                 'type': 'string'}},\n",
      "            'type': 'object'}}\n",
      "--------------------\n"
     ]
    }
   ],
   "source": [
    "for step in run:\n",
    "    pprint(step)\n",
    "    print(\"-\"*20)"
   ]
  },
  {
   "cell_type": "code",
   "execution_count": null,
   "id": "fa3d0fc7-2891-46a4-b6c5-6a2897dac2ab",
   "metadata": {},
   "outputs": [],
   "source": []
  }
 ],
 "metadata": {
  "kernelspec": {
   "display_name": "Python 3 (ipykernel)",
   "language": "python",
   "name": "python3"
  },
  "language_info": {
   "codemirror_mode": {
    "name": "ipython",
    "version": 3
   },
   "file_extension": ".py",
   "mimetype": "text/x-python",
   "name": "python",
   "nbconvert_exporter": "python",
   "pygments_lexer": "ipython3",
   "version": "3.11.5"
  }
 },
 "nbformat": 4,
 "nbformat_minor": 5
}
