{
 "cells": [
  {
   "cell_type": "markdown",
   "id": "c17d955b-7ba4-4f26-af7c-1d6b875486e5",
   "metadata": {},
   "source": [
    "## Setup dog"
   ]
  },
  {
   "cell_type": "code",
   "execution_count": 232,
   "id": "94d77b6f-87a0-4590-9186-dc0896491a00",
   "metadata": {},
   "outputs": [],
   "source": [
    "actions = ['go forwards', 'go backards', 'turn left', 'turn right', 'turn around', 'jump', 'beep', 'eat']"
   ]
  },
  {
   "cell_type": "code",
   "execution_count": 233,
   "id": "772271f5-643b-4257-bc74-33b8dd0ae54b",
   "metadata": {},
   "outputs": [],
   "source": [
    "base_schema = {\n",
    "    \"type\": \"object\",\n",
    "    \"properties\": {\n",
    "        \"image_description\": {\n",
    "            \"type\": \"string\",\n",
    "            \"description\": \"Describe the image in under 10 words\"\n",
    "        },\n",
    "        \"action\": {\n",
    "            \"type\": \"array\",\n",
    "            \"description\": \"The image shows what is in front of you. What action do you take? Base this action on the image and your previous actions in the `history` field of this JSON\",\n",
    "            \"enum\": actions,\n",
    "            \"maxContains\": 1,\n",
    "        },\n",
    "        \"history\": {\n",
    "            \"type\": None,\n",
    "            \"description\": \"You are a robot dog. You just woke up and you want to find food by exploring your surroundings.\"\n",
    "        },\n",
    "        \"context\": {\n",
    "            \"type\": \"string\",\n",
    "            \"description\": \"Explain the decision you just made and why. Use the past tense and output under 50 words\",\n",
    "        },\n",
    "        \"history_recap\": {\n",
    "            \"type\": \"string\",\n",
    "            \"description\": \"recap the `[history][description]` field of this JSON. Incorporate the contents of the context field\"\n",
    "        },\n",
    "    }\n",
    "}"
   ]
  },
  {
   "cell_type": "markdown",
   "id": "a5696dde-5fff-48ff-852a-aaac11388d7d",
   "metadata": {},
   "source": [
    "## Load images"
   ]
  },
  {
   "cell_type": "code",
   "execution_count": 243,
   "id": "adad11f2-7db5-4a88-9b43-93843f3cf226",
   "metadata": {},
   "outputs": [],
   "source": [
    "def load_images(folder_name):\n",
    "    filetypes = ['jpg', 'jpeg', 'png']\n",
    "    image_files = []\n",
    "\n",
    "    for filetype in filetypes:\n",
    "        image_files.extend(glob(f'{folder_name}*.{filetype}'))\n",
    "\n",
    "    return image_files"
   ]
  },
  {
   "cell_type": "code",
   "execution_count": 234,
   "id": "1f1021b5-952c-4195-bf8a-581f4a88466e",
   "metadata": {},
   "outputs": [],
   "source": [
    "image_folder = \"street_images/food_maze/\""
   ]
  },
  {
   "cell_type": "code",
   "execution_count": 235,
   "id": "3478d99c-7061-4ac0-b0a4-2db0a2d5982b",
   "metadata": {},
   "outputs": [],
   "source": [
    "!find street_images -type f -name \"*.webp\" -exec mogrify -format jpeg {} \\;"
   ]
  },
  {
   "cell_type": "code",
   "execution_count": 236,
   "id": "8314e5ec-4851-4bf1-8edd-20971a683359",
   "metadata": {},
   "outputs": [],
   "source": [
    "filetypes = ['jpg', 'jpeg', 'png']\n",
    "file_path = './street_images/'\n",
    "image_files = []\n",
    "\n",
    "for filetype in filetypes:\n",
    "    image_files.extend(glob(f'{file_path}*.{filetype}'))"
   ]
  },
  {
   "cell_type": "markdown",
   "id": "e23f983e-b4a8-471e-8843-05136bf25d79",
   "metadata": {},
   "source": [
    "## Setup basic fns"
   ]
  },
  {
   "cell_type": "code",
   "execution_count": 10,
   "id": "a908bafb-a523-4116-ad59-dea52fbe5780",
   "metadata": {},
   "outputs": [],
   "source": [
    "import http.client\n",
    "import json\n",
    "import base64\n",
    "from pprint import pprint\n",
    "from glob import glob\n",
    "import os\n",
    "import random"
   ]
  },
  {
   "cell_type": "code",
   "execution_count": 11,
   "id": "0d546168-4749-4e1a-b70f-44447f76362e",
   "metadata": {},
   "outputs": [
    {
     "name": "stdout",
     "output_type": "stream",
     "text": [
      "Environment variables loaded from .env\n"
     ]
    }
   ],
   "source": [
    "try:\n",
    "    from dotenv import load_dotenv\n",
    "    load_dotenv()\n",
    "    print(\"Environment variables loaded from .env\")\n",
    "except ImportError:\n",
    "    os.environ['OPENAI_API_KEY'] = \"<your OpenAI key>\"\n",
    "    os.environ['SCENEX_SECRET'] = \"<your SceneXplain key>\""
   ]
  },
  {
   "cell_type": "code",
   "execution_count": 12,
   "id": "9d2a83df-3d59-48c2-a7ec-ed8d35720e5e",
   "metadata": {},
   "outputs": [],
   "source": [
    "SCENEX_SECRET=os.getenv('SCENEX_SECRET')\n",
    "\n",
    "scenex_headers = {\n",
    "    \"x-api-key\": f\"token {SCENEX_SECRET}\",\n",
    "    \"content-type\": \"application/json\",\n",
    "}\n",
    "\n",
    "ALGO = \"Jelly\"\n",
    "\n",
    "def image_to_data_uri(file_path):\n",
    "    with open(file_path, \"rb\") as image_file:\n",
    "        encoded_image = base64.b64encode(image_file.read()).decode(\"utf-8\")\n",
    "        return f\"data:image/png;base64,{encoded_image}\"\n",
    "        \n",
    "def generate_scenex_data(image_files, json_schema=None, question=None, features=[]):\n",
    "    data = {}\n",
    "    data['data'] = []\n",
    "\n",
    "    for file in image_files:\n",
    "        cid = file.split('/')[-1]\n",
    "        row = {\n",
    "            \"image\": image_to_data_uri(file),\n",
    "            \"features\": features,\n",
    "            \"algorithm\": ALGO,\n",
    "            \"cid\": cid\n",
    "        }\n",
    "\n",
    "        if question:\n",
    "            row[\"question\"] = question\n",
    "\n",
    "        if json_schema:\n",
    "            row[\"json_schema\"] = json_schema\n",
    "\n",
    "        data['data'].append(row)\n",
    "\n",
    "    return data\n",
    "\n",
    "def process_scenex(data):\n",
    "    connection = http.client.HTTPSConnection(\"api.scenex.jina.ai\")\n",
    "    connection.request(\"POST\", \"/v1/describe\", json.dumps(data), scenex_headers)\n",
    "    response = connection.getresponse()\n",
    "    response_data = response.read().decode(\"utf-8\")\n",
    "    \n",
    "    connection.close()\n",
    "\n",
    "    return json.loads(response_data)['result'][0]"
   ]
  },
  {
   "cell_type": "markdown",
   "id": "dbf0e918-87bb-4f68-bb91-af5178ceb699",
   "metadata": {
    "jp-MarkdownHeadingCollapsed": true
   },
   "source": [
    "## Simple mission\n",
    "\n",
    "No history/memory"
   ]
  },
  {
   "cell_type": "code",
   "execution_count": 248,
   "id": "148c343e-d2e5-4380-9ee9-dd897d5cc0c1",
   "metadata": {},
   "outputs": [],
   "source": [
    "maze_images = load_images(\"street_images/food_maze/\")"
   ]
  },
  {
   "cell_type": "code",
   "execution_count": 250,
   "id": "e95b22de-a069-4038-9abc-14c9f2e5c60c",
   "metadata": {},
   "outputs": [],
   "source": [
    "simple_schema = {\n",
    "    \"type\": \"object\",\n",
    "    \"properties\": {\n",
    "        \"mission\": {\n",
    "            \"type\": None,\n",
    "            \"description\": \"You are a robot dog whose mission is to find food\"\n",
    "        },\n",
    "        \"image_description\": {\n",
    "            \"type\": \"string\",\n",
    "            \"description\": \"Describe the image in under 10 words\"\n",
    "        },\n",
    "        \"action\": {\n",
    "            \"type\": \"array\",\n",
    "            \"description\": \"The image shows what is in front of you. What action do you take?\",\n",
    "            \"enum\": actions,\n",
    "            \"maxContains\": 1,\n",
    "        },\n",
    "        \"context\": {\n",
    "            \"type\": \"string\",\n",
    "            \"description\": \"Explain the action you took and why\"\n",
    "        }\n",
    "    }\n",
    "}"
   ]
  },
  {
   "cell_type": "code",
   "execution_count": 237,
   "id": "050ff6f0-4eb2-46e4-9950-0b837ead85b4",
   "metadata": {},
   "outputs": [],
   "source": [
    "def take_simple_step(\n",
    "    image: str,\n",
    "    schema: dict,\n",
    "    ):\n",
    "    \"\"\"\n",
    "    image: path to image file\n",
    "    schema: json schema\n",
    "    \"\"\"\n",
    "\n",
    "    print(f\"Selected image {image}\")\n",
    "    data = generate_scenex_data([image], json_schema=schema, features=['json'])\n",
    "    result = json.loads(process_scenex(data)['text'])\n",
    "\n",
    "    output = {\n",
    "        \"image\": image,\n",
    "        \"result\": result,\n",
    "        # \"schema\": schema\n",
    "    }\n",
    "\n",
    "    return output"
   ]
  },
  {
   "cell_type": "code",
   "execution_count": 247,
   "id": "39698da9-c85c-4641-b091-281d662a1769",
   "metadata": {},
   "outputs": [],
   "source": [
    "def start_simple_loop(images, schema, max_turns=5, debug=False):\n",
    "    steps = []\n",
    "    i = 0\n",
    "    \n",
    "    while i < max_turns:\n",
    "        if debug:\n",
    "            print(f\"Turn {i}\")\n",
    "    \n",
    "        # choose image\n",
    "        image = random.choice(images)\n",
    "        this_step = take_simple_step(image, schema)\n",
    "\n",
    "        if debug:\n",
    "            pprint(this_step)\n",
    "            print(\"-\"*20)\n",
    "    \n",
    "        # add to pile\n",
    "        steps.append(this_step)\n",
    "        \n",
    "        i += 1\n",
    "        # then loop to top and take next step\n",
    "        \n",
    "\n",
    "    return steps"
   ]
  },
  {
   "cell_type": "code",
   "execution_count": 252,
   "id": "7c5f5370-7836-4149-b963-7c94dca4fc54",
   "metadata": {},
   "outputs": [
    {
     "name": "stdout",
     "output_type": "stream",
     "text": [
      "Selected image street_images/food_maze/left_right.png\n",
      "Selected image street_images/food_maze/left_right.png\n",
      "Selected image street_images/food_maze/danger_food.png\n"
     ]
    }
   ],
   "source": [
    "simple_output = start_simple_loop(maze_images, simple_schema, 3)"
   ]
  },
  {
   "cell_type": "code",
   "execution_count": 253,
   "id": "5f2bfb6c-c14b-478a-a507-db83fbdb9c55",
   "metadata": {},
   "outputs": [
    {
     "data": {
      "text/plain": [
       "[{'image': 'street_images/food_maze/left_right.png',\n",
       "  'result': {'mission': 'find food',\n",
       "   'image_description': 'Tunnel with railway, guiding sign towards food',\n",
       "   'action': ['go forwards'],\n",
       "   'context': \"There is a light at the end of the tunnel and a sign reading 'FOOD' pointing the way, suggesting the direction to find food.\"}},\n",
       " {'image': 'street_images/food_maze/left_right.png',\n",
       "  'result': {'mission': 'find food',\n",
       "   'image_description': \"Tunnel with 'FOOD' sign and lights at the end\",\n",
       "   'action': ['go forwards'],\n",
       "   'context': \"The 'FOOD' sign indicates that food is in the direction of the tunnel's end, hence the decision to go forwards.\"}},\n",
       " {'image': 'street_images/food_maze/danger_food.png',\n",
       "  'result': {'mission': 'Find food',\n",
       "   'image_description': \"Wooden signs saying 'DANGER' and 'FOOD' in cave\",\n",
       "   'action': ['go forwards'],\n",
       "   'context': \"Proceeding forwards to the sign labeled 'FOOD', because my mission is to find food.\"}}]"
      ]
     },
     "execution_count": 253,
     "metadata": {},
     "output_type": "execute_result"
    }
   ],
   "source": [
    "simple_output"
   ]
  },
  {
   "cell_type": "markdown",
   "id": "018d9e9d-4561-4037-adb7-1dbcf0109d8d",
   "metadata": {},
   "source": [
    "## VQA attempt"
   ]
  },
  {
   "cell_type": "code",
   "execution_count": 315,
   "id": "95e58425-1415-4a51-b290-10bd9ec0b9bc",
   "metadata": {},
   "outputs": [],
   "source": [
    "vqa_output_schema = {\n",
    "    \"description\": \"short description of the image\",\n",
    "    \"action\": \"action you chose to take\",\n",
    "    \"reason\": \"why did you take that action?\",\n",
    "    \"history\": \"recap of the history of your experiences\",\n",
    "    \"context\": \"explain your environment, what action you took, and why you took that action\"\n",
    "}"
   ]
  },
  {
   "cell_type": "code",
   "execution_count": 316,
   "id": "d55de3b7-be84-4689-a355-99cadaac6b75",
   "metadata": {},
   "outputs": [],
   "source": [
    "base_text = f\"\"\"\n",
    "You are a robot dog. Your mission is to explore your environment to find and eat food. For each turn, you can choose one action from {str(actions)}).\n",
    "\n",
    "Choose your action based on:\n",
    "- The contents of the image\n",
    "- Your mission\n",
    "- Your previous experience\n",
    "\n",
    "Return your output in the following format:\n",
    "\n",
    "{json.dumps(vqa_output_schema)}\n",
    "\n",
    "Your previous experience is as follows:\n",
    "\"\"\".strip()"
   ]
  },
  {
   "cell_type": "code",
   "execution_count": 268,
   "id": "c4f20501-247e-4d22-9378-06898d1d87ed",
   "metadata": {},
   "outputs": [],
   "source": [
    "history = \"\\n- You woke up in a strange place\""
   ]
  },
  {
   "cell_type": "code",
   "execution_count": 281,
   "id": "04f5de40-781d-4fc2-bbfa-c04f1febb0d0",
   "metadata": {},
   "outputs": [],
   "source": [
    "text = base_text + history"
   ]
  },
  {
   "cell_type": "code",
   "execution_count": 282,
   "id": "4f4fb827-4410-434e-abfa-4954bb188717",
   "metadata": {},
   "outputs": [
    {
     "name": "stdout",
     "output_type": "stream",
     "text": [
      "You are a robot dog. Your mission is to explore your environment to find and eat food. For each turn, you can choose one action from ['go forwards', 'go backards', 'turn left', 'turn right', 'turn around', 'jump', 'beep', 'eat']).\n",
      "\n",
      "Choose your action based on:\n",
      "- The contents of the image\n",
      "- Your mission\n",
      "- Your previous experience\n",
      "\n",
      "Return your output in the following format:\n",
      "\n",
      "{\"action\": \"action you chose to take\", \"reason\": \"why did you take that action?\", \"history\": \"recap of the history of your experiences\"}\n",
      "\n",
      "Your previous experience is as follows:\n",
      "- You woke up in a strange place\n"
     ]
    }
   ],
   "source": [
    "print(text)"
   ]
  },
  {
   "cell_type": "code",
   "execution_count": 272,
   "id": "cbeef17c-65dd-4b74-bcea-49de664eaeaa",
   "metadata": {},
   "outputs": [],
   "source": [
    "maze_images = load_images(\"street_images/food_maze/\")"
   ]
  },
  {
   "cell_type": "code",
   "execution_count": 283,
   "id": "3c787596-cedd-4d98-8726-c8ecda448509",
   "metadata": {},
   "outputs": [],
   "source": [
    "def take_vqa_step(\n",
    "    image: str,\n",
    "    question: str,\n",
    "    ):\n",
    "    \"\"\"\n",
    "    image: path to image file\n",
    "    text: vqa question\n",
    "    \"\"\"\n",
    "\n",
    "    print(f\"Selected image {image}\")\n",
    "    data = generate_scenex_data([image], question=question, features=['question_answer'])\n",
    "    result = process_scenex(data)['text']\n",
    "\n",
    "    output = {\n",
    "        \"image\": image,\n",
    "        \"result\": result,\n",
    "        # \"schema\": schema\n",
    "    }\n",
    "\n",
    "    return output"
   ]
  },
  {
   "cell_type": "code",
   "execution_count": 312,
   "id": "2722ed15-d34e-432c-8d65-70727cbe765d",
   "metadata": {},
   "outputs": [],
   "source": [
    "def vqa_loop(images: list, base_question: str, turns: int=5):\n",
    "    steps = []\n",
    "    question = base_question\n",
    "    history = \"\\n- You woke up in a strange place\"\n",
    "    i = 0\n",
    "    \n",
    "    while i < turns:\n",
    "        question = question + history\n",
    "        # print(question)\n",
    "        image = random.choice(images)\n",
    "        \n",
    "        step = take_vqa_step(image=image, question=question)\n",
    "        step['result'] = json.loads(step['result'])\n",
    "        \n",
    "        steps.append(step)\n",
    "        \n",
    "        history = f\"\\n- {step['result']['history']}\"\n",
    "\n",
    "        i += 1\n",
    "        \n",
    "    return steps"
   ]
  },
  {
   "cell_type": "code",
   "execution_count": 317,
   "id": "33889051-923b-4e9d-814c-a9cf34a1d1ad",
   "metadata": {},
   "outputs": [
    {
     "name": "stdout",
     "output_type": "stream",
     "text": [
      "Selected image street_images/food_maze/left_right.png\n",
      "Selected image street_images/food_maze/left_right.png\n",
      "Selected image street_images/food_maze/food.png\n"
     ]
    }
   ],
   "source": [
    "output = vqa_loop(maze_images, base_question=base_text, turns=3)"
   ]
  },
  {
   "cell_type": "code",
   "execution_count": 318,
   "id": "f18a44b7-47c5-4cc8-99ff-2d43a891b63c",
   "metadata": {},
   "outputs": [
    {
     "name": "stdout",
     "output_type": "stream",
     "text": [
      "[{'image': 'street_images/food_maze/left_right.png',\n",
      "  'result': {'action': 'go forwards',\n",
      "             'context': 'In a dark tunnel with a sign that has pointers '\n",
      "                        'towards the food and a camera overlooking the tunnel. '\n",
      "                        'You are deciding to move forward spurred by the hope '\n",
      "                        'of finding food.',\n",
      "             'description': 'A dark tunnel with a railway in the middle, a '\n",
      "                            \"sign labeled 'FOOD' with arrows, and a camera \"\n",
      "                            'pointed towards the end of the tunnel.',\n",
      "             'history': 'Previously, you woke up in an unfamiliar place. Now, '\n",
      "                        \"you've encountered a tunnel with a promising sign for \"\n",
      "                        'food.',\n",
      "             'reason': \"The sign labeled 'FOOD' provides clear direction, and \"\n",
      "                       'the bright light at the end of the tunnel suggests the '\n",
      "                       'presence of an exit or potential food sources.'}},\n",
      " {'image': 'street_images/food_maze/left_right.png',\n",
      "  'result': {'action': 'go forwards',\n",
      "             'context': 'After waking up in an unfamiliar place, suddenly, I '\n",
      "                        'am near the entrance of a dark tunnel. There is a '\n",
      "                        \"bright sign inside the tunnel reading 'FOOD', which \"\n",
      "                        'makes me curious to navigate in that direction. Given '\n",
      "                        'my mission to find food and considering my current '\n",
      "                        'situation, the best action appears to go forwards.',\n",
      "             'description': 'Entrance of a dark tunnel with a bright sign '\n",
      "                            \"indicating 'FOOD'\",\n",
      "             'history': 'I woke up in a strange place and found myself near a '\n",
      "                        'tunnel with an exciting indication promising the '\n",
      "                        'presence of food.',\n",
      "             'reason': \"Seeing the sign labeled 'FOOD' hints that there might \"\n",
      "                       'be food in the direction of the tunnel. Therefore, I '\n",
      "                       'am deciding to go forward in hope of finding food.'}},\n",
      " {'image': 'street_images/food_maze/food.png',\n",
      "  'result': {'action': 'eat',\n",
      "             'context': 'In an unfamiliar environment, the robot dog located a '\n",
      "                        'bowl of food nearby. Due to the absence of immediate '\n",
      "                        \"threats and the presence of food, 'eat' action is \"\n",
      "                        'selected.',\n",
      "             'description': 'A large bowl filled with noodles and various '\n",
      "                            'vegetables on a dark surface, with a cave opening '\n",
      "                            'and people in the background.',\n",
      "             'history': 'The robot dog woke up in a strange place, then found '\n",
      "                        \"a tunnel with a promising food sign. Now, there's a \"\n",
      "                        'bowl of food in its presence.',\n",
      "             'reason': \"The bowl of food is available and there doesn't appear \"\n",
      "                       'to be any immediate danger or obstacle. Eating will '\n",
      "                       'help fulfill the mission.'}}]\n"
     ]
    }
   ],
   "source": [
    "pprint(output)"
   ]
  },
  {
   "cell_type": "markdown",
   "id": "cb1479b0-873e-40bc-b375-047e9b8dca26",
   "metadata": {},
   "source": [
    "## Advanced mission\n",
    "\n",
    "With history/memory"
   ]
  },
  {
   "cell_type": "code",
   "execution_count": null,
   "id": "b46e2684-adff-42af-b584-adeaa54d2abc",
   "metadata": {},
   "outputs": [],
   "source": []
  },
  {
   "cell_type": "markdown",
   "id": "10cbf34f-c17c-4a73-befc-ebae3d5187db",
   "metadata": {},
   "source": [
    "### Set up memory\n",
    "\n",
    "After each step the dog will:\n",
    "\n",
    "- Add context (what did it do and why) to the `context` field\n",
    "- Incorporate that context into its memory (stored in the `history` field) by combining/summarizing context with past history"
   ]
  },
  {
   "cell_type": "code",
   "execution_count": 166,
   "id": "81987f6b-60fd-4802-ae8a-b2e593b38ee2",
   "metadata": {},
   "outputs": [],
   "source": [
    "model = \"gpt-3.5-turbo-1106\"\n",
    "\n",
    "from openai import OpenAI\n",
    "client = OpenAI()\n",
    "\n",
    "def summarize(history, context):\n",
    "    completion = client.chat.completions.create(\n",
    "      model=model,\n",
    "      messages=[\n",
    "        {\"role\": \"system\", \"content\": \"You are a summarizer bot. You take current context and prior actions and summarize the two things into one.\"},\n",
    "        {\"role\": \"user\", \"content\": f\"Past actions: {history}. Current context: {context}\"}\n",
    "      ]\n",
    "    )\n",
    "    \n",
    "    return completion.choices[0].message.content"
   ]
  },
  {
   "cell_type": "markdown",
   "id": "b0875a39-3d6c-4bbb-b78f-035d01f4f52d",
   "metadata": {
    "jp-MarkdownHeadingCollapsed": true
   },
   "source": [
    "### Update schema"
   ]
  },
  {
   "cell_type": "code",
   "execution_count": 112,
   "id": "4b20abb5-5480-4071-a67b-9658357da94f",
   "metadata": {},
   "outputs": [],
   "source": [
    "import copy\n",
    "\n",
    "def update_schema(schema: dict, context: str, field:str ='action'):\n",
    "    \"\"\"\n",
    "    Update the schema to incorporate new context\n",
    "    \"\"\"\n",
    "    new_schema = copy.deepcopy(schema)\n",
    "    new_schema['properties'][field]['description'] += f\" {context}\"\n",
    "\n",
    "    return new_schema"
   ]
  },
  {
   "cell_type": "markdown",
   "id": "88ad5b2f-6f7d-477f-af78-a999cc881c59",
   "metadata": {},
   "source": [
    "### Take a step"
   ]
  },
  {
   "cell_type": "code",
   "execution_count": 217,
   "id": "b8f2af3e-8470-43ea-98f8-e1955407d280",
   "metadata": {},
   "outputs": [],
   "source": [
    "def take_step(\n",
    "    image: str,\n",
    "    schema: dict,\n",
    "    context: str,\n",
    "    history: str,\n",
    "    debug: bool = False\n",
    "    ):\n",
    "    \"\"\"\n",
    "    image: path to image file\n",
    "    schema: json schema\n",
    "    context: prior context from previous actions\n",
    "    \"\"\"\n",
    "\n",
    "    # 1. merge history and latest context via summarization\n",
    "    summary = summarize(history, context)\n",
    "\n",
    "    # 2. write that to a description field in JSON schema\n",
    "    schema['properties']['history']['description'] = summary\n",
    "    \n",
    "    # 3. return JSON schema (we already do this at the end)\n",
    "    # 4. (later): in a different JSON schema field, ask to refer back to field from step 2 as memory\n",
    "\n",
    "    # send data to SceneX\n",
    "    print(f\"Selected image {image}\")\n",
    "    data = generate_scenex_data([image], json_schema=schema, features=['json'])\n",
    "    result = json.loads(process_scenex(data)['text'])\n",
    "\n",
    "    output = {\n",
    "        \"image\": image,\n",
    "        \"result\": result,\n",
    "        \"schema\": schema\n",
    "    }\n",
    "\n",
    "    return output"
   ]
  },
  {
   "cell_type": "markdown",
   "id": "ee077cbd-9f51-4624-a5af-4fe928a53680",
   "metadata": {},
   "source": [
    "## Event loop"
   ]
  },
  {
   "cell_type": "code",
   "execution_count": 230,
   "id": "f5705053-810c-43ea-b2a4-222a0da7aece",
   "metadata": {},
   "outputs": [],
   "source": [
    "def start_loop(image_files, schema, start_context, max_turns=5, debug=False):\n",
    "    steps = []\n",
    "    context = start_context\n",
    "    # schema = base_schema\n",
    "    i = 0\n",
    "    history = \"you just woke up\"\n",
    "    \n",
    "    while i < max_turns:\n",
    "        if debug:\n",
    "            print(f\"Turn {i}\")\n",
    "    \n",
    "        # choose image\n",
    "        image = random.choice(image_files)\n",
    "        # schema = update_schema(schema, context)\n",
    "        # pprint(schema) # debug\n",
    "    \n",
    "        # take step\n",
    "        this_step = take_step(image, schema, context, history, debug=debug)\n",
    "\n",
    "        if debug:\n",
    "            pprint(this_step)\n",
    "            print(\"-\"*20)\n",
    "    \n",
    "        # add to pile\n",
    "        steps.append(this_step)\n",
    "    \n",
    "        # set updated data\n",
    "        context = this_step['result']['context']\n",
    "        schema = this_step['schema']\n",
    "        history = schema['properties']['history']['description']\n",
    "        \n",
    "        i += 1\n",
    "        # then loop to top and take next step\n",
    "        \n",
    "\n",
    "    return steps"
   ]
  },
  {
   "cell_type": "code",
   "execution_count": 224,
   "id": "10e6bfde-c7dc-4415-824c-f5341adfb980",
   "metadata": {},
   "outputs": [],
   "source": [
    "start_context = \"you just woke up.\"  # populate with summarized journey notes"
   ]
  },
  {
   "cell_type": "code",
   "execution_count": 228,
   "id": "12d43460-5ede-411d-990e-1335c0331f49",
   "metadata": {},
   "outputs": [
    {
     "data": {
      "text/plain": [
       "{'type': 'object',\n",
       " 'properties': {'image_description': {'type': 'string',\n",
       "   'description': 'Describe the image in under 10 words'},\n",
       "  'action': {'type': 'array',\n",
       "   'description': 'The image shows what is in front of you. What action do you take? Base this action on the image and your previous actions in the `history` field of this JSON',\n",
       "   'enum': ['go forwards',\n",
       "    'go backards',\n",
       "    'turn left',\n",
       "    'turn right',\n",
       "    'turn around',\n",
       "    'jump',\n",
       "    'beep'],\n",
       "   'maxContains': 1},\n",
       "  'history': {'type': None,\n",
       "   'description': 'You are waking up for the first time today.'},\n",
       "  'context': {'type': 'string',\n",
       "   'description': 'Explain the decision you just made and why. Use the past tense and output under 50 words'},\n",
       "  'history_recap': {'type': 'string',\n",
       "   'description': 'recap the `[history][description]` field of this JSON. Incorporate the contents of the context field'}}}"
      ]
     },
     "execution_count": 228,
     "metadata": {},
     "output_type": "execute_result"
    }
   ],
   "source": [
    "base_schema"
   ]
  },
  {
   "cell_type": "code",
   "execution_count": 229,
   "id": "f85089c7-eaed-413f-bac6-d4ded554192e",
   "metadata": {},
   "outputs": [
    {
     "name": "stdout",
     "output_type": "stream",
     "text": [
      "Selected image ./street_images/f5c8f561967137.5a8058c42849b.jpg\n",
      "Selected image ./street_images/pexels-photo-3333923.jpeg\n",
      "Selected image ./street_images/pexels-photo-6039188.jpeg\n",
      "Selected image ./street_images/pexels-photo-3333923.jpeg\n"
     ]
    }
   ],
   "source": [
    "run = start_loop(image_files, base_schema, start_context, 4, debug=False)"
   ]
  },
  {
   "cell_type": "code",
   "execution_count": 231,
   "id": "4cf97def-d9d6-4c72-ace6-9847c8b532fb",
   "metadata": {},
   "outputs": [
    {
     "name": "stdout",
     "output_type": "stream",
     "text": [
      "{'image': './street_images/f5c8f561967137.5a8058c42849b.jpg',\n",
      " 'result': {'action': ['go forwards'],\n",
      "            'context': 'Decided to move forwards to join the meeting table.',\n",
      "            'history': None,\n",
      "            'history_recap': 'Woke up and decided to move forwards to join the '\n",
      "                             'meeting table.',\n",
      "            'image_description': 'Wooden conference room with white chairs and '\n",
      "                                 'TV'},\n",
      " 'schema': {'properties': {'action': {'description': 'The image shows what is '\n",
      "                                                     'in front of you. What '\n",
      "                                                     'action do you take? Base '\n",
      "                                                     'this action on the image '\n",
      "                                                     'and your previous '\n",
      "                                                     'actions in the `history` '\n",
      "                                                     'field of this JSON',\n",
      "                                      'enum': ['go forwards',\n",
      "                                               'go backards',\n",
      "                                               'turn left',\n",
      "                                               'turn right',\n",
      "                                               'turn around',\n",
      "                                               'jump',\n",
      "                                               'beep'],\n",
      "                                      'maxContains': 1,\n",
      "                                      'type': 'array'},\n",
      "                           'context': {'description': 'Explain the decision '\n",
      "                                                      'you just made and why. '\n",
      "                                                      'Use the past tense and '\n",
      "                                                      'output under 50 words',\n",
      "                                       'type': 'string'},\n",
      "                           'history': {'description': 'You woke up and decided '\n",
      "                                                      'to move forward to join '\n",
      "                                                      'the meeting table, and '\n",
      "                                                      'now you are moving '\n",
      "                                                      'forward to cross the '\n",
      "                                                      'snowy street and '\n",
      "                                                      'continue your journey, '\n",
      "                                                      'but no action was taken '\n",
      "                                                      'due to the static '\n",
      "                                                      'nature of the scene.',\n",
      "                                       'type': None},\n",
      "                           'history_recap': {'description': 'recap the '\n",
      "                                                            '`[history][description]` '\n",
      "                                                            'field of this '\n",
      "                                                            'JSON. Incorporate '\n",
      "                                                            'the contents of '\n",
      "                                                            'the context field',\n",
      "                                             'type': 'string'},\n",
      "                           'image_description': {'description': 'Describe the '\n",
      "                                                                'image in '\n",
      "                                                                'under 10 '\n",
      "                                                                'words',\n",
      "                                                 'type': 'string'}},\n",
      "            'type': 'object'}}\n",
      "--------------------\n",
      "{'image': './street_images/pexels-photo-3333923.jpeg',\n",
      " 'result': {'action': ['go forwards'],\n",
      "            'context': 'Decided to move forward to cross the snowy street and '\n",
      "                       'continue journey',\n",
      "            'history': None,\n",
      "            'history_recap': 'After waking up and deciding to move forward to '\n",
      "                             'the meeting table, I decided to move forward to '\n",
      "                             'cross the snowy street and continue my journey',\n",
      "            'image_description': 'Person preparing to cross snowy, city street '\n",
      "                                 'at night'},\n",
      " 'schema': {'properties': {'action': {'description': 'The image shows what is '\n",
      "                                                     'in front of you. What '\n",
      "                                                     'action do you take? Base '\n",
      "                                                     'this action on the image '\n",
      "                                                     'and your previous '\n",
      "                                                     'actions in the `history` '\n",
      "                                                     'field of this JSON',\n",
      "                                      'enum': ['go forwards',\n",
      "                                               'go backards',\n",
      "                                               'turn left',\n",
      "                                               'turn right',\n",
      "                                               'turn around',\n",
      "                                               'jump',\n",
      "                                               'beep'],\n",
      "                                      'maxContains': 1,\n",
      "                                      'type': 'array'},\n",
      "                           'context': {'description': 'Explain the decision '\n",
      "                                                      'you just made and why. '\n",
      "                                                      'Use the past tense and '\n",
      "                                                      'output under 50 words',\n",
      "                                       'type': 'string'},\n",
      "                           'history': {'description': 'You woke up and decided '\n",
      "                                                      'to move forward to join '\n",
      "                                                      'the meeting table, and '\n",
      "                                                      'now you are moving '\n",
      "                                                      'forward to cross the '\n",
      "                                                      'snowy street and '\n",
      "                                                      'continue your journey, '\n",
      "                                                      'but no action was taken '\n",
      "                                                      'due to the static '\n",
      "                                                      'nature of the scene.',\n",
      "                                       'type': None},\n",
      "                           'history_recap': {'description': 'recap the '\n",
      "                                                            '`[history][description]` '\n",
      "                                                            'field of this '\n",
      "                                                            'JSON. Incorporate '\n",
      "                                                            'the contents of '\n",
      "                                                            'the context field',\n",
      "                                             'type': 'string'},\n",
      "                           'image_description': {'description': 'Describe the '\n",
      "                                                                'image in '\n",
      "                                                                'under 10 '\n",
      "                                                                'words',\n",
      "                                                 'type': 'string'}},\n",
      "            'type': 'object'}}\n",
      "--------------------\n",
      "{'image': './street_images/pexels-photo-6039188.jpeg',\n",
      " 'result': {'action': [],\n",
      "            'context': 'No action was taken due to the static nature of the '\n",
      "                       'scene',\n",
      "            'history': None,\n",
      "            'history_recap': 'No action was taken previously and no action is '\n",
      "                             'currently required.',\n",
      "            'image_description': 'Colorful houses with city skyline and grassy '\n",
      "                                 'foreground'},\n",
      " 'schema': {'properties': {'action': {'description': 'The image shows what is '\n",
      "                                                     'in front of you. What '\n",
      "                                                     'action do you take? Base '\n",
      "                                                     'this action on the image '\n",
      "                                                     'and your previous '\n",
      "                                                     'actions in the `history` '\n",
      "                                                     'field of this JSON',\n",
      "                                      'enum': ['go forwards',\n",
      "                                               'go backards',\n",
      "                                               'turn left',\n",
      "                                               'turn right',\n",
      "                                               'turn around',\n",
      "                                               'jump',\n",
      "                                               'beep'],\n",
      "                                      'maxContains': 1,\n",
      "                                      'type': 'array'},\n",
      "                           'context': {'description': 'Explain the decision '\n",
      "                                                      'you just made and why. '\n",
      "                                                      'Use the past tense and '\n",
      "                                                      'output under 50 words',\n",
      "                                       'type': 'string'},\n",
      "                           'history': {'description': 'You woke up and decided '\n",
      "                                                      'to move forward to join '\n",
      "                                                      'the meeting table, and '\n",
      "                                                      'now you are moving '\n",
      "                                                      'forward to cross the '\n",
      "                                                      'snowy street and '\n",
      "                                                      'continue your journey, '\n",
      "                                                      'but no action was taken '\n",
      "                                                      'due to the static '\n",
      "                                                      'nature of the scene.',\n",
      "                                       'type': None},\n",
      "                           'history_recap': {'description': 'recap the '\n",
      "                                                            '`[history][description]` '\n",
      "                                                            'field of this '\n",
      "                                                            'JSON. Incorporate '\n",
      "                                                            'the contents of '\n",
      "                                                            'the context field',\n",
      "                                             'type': 'string'},\n",
      "                           'image_description': {'description': 'Describe the '\n",
      "                                                                'image in '\n",
      "                                                                'under 10 '\n",
      "                                                                'words',\n",
      "                                                 'type': 'string'}},\n",
      "            'type': 'object'}}\n",
      "--------------------\n",
      "{'image': './street_images/pexels-photo-3333923.jpeg',\n",
      " 'result': {'action': ['go forwards'],\n",
      "            'context': 'Moved forward crossing the snowy street at night amid '\n",
      "                       'few people and cars.',\n",
      "            'history': None,\n",
      "            'history_recap': 'Having started the day joining a meeting, I then '\n",
      "                             'decided to cross the snowy street amidst the '\n",
      "                             'calm, night setting to continue the journey.',\n",
      "            'image_description': 'Person crossing a snowy urban street at '\n",
      "                                 'night'},\n",
      " 'schema': {'properties': {'action': {'description': 'The image shows what is '\n",
      "                                                     'in front of you. What '\n",
      "                                                     'action do you take? Base '\n",
      "                                                     'this action on the image '\n",
      "                                                     'and your previous '\n",
      "                                                     'actions in the `history` '\n",
      "                                                     'field of this JSON',\n",
      "                                      'enum': ['go forwards',\n",
      "                                               'go backards',\n",
      "                                               'turn left',\n",
      "                                               'turn right',\n",
      "                                               'turn around',\n",
      "                                               'jump',\n",
      "                                               'beep'],\n",
      "                                      'maxContains': 1,\n",
      "                                      'type': 'array'},\n",
      "                           'context': {'description': 'Explain the decision '\n",
      "                                                      'you just made and why. '\n",
      "                                                      'Use the past tense and '\n",
      "                                                      'output under 50 words',\n",
      "                                       'type': 'string'},\n",
      "                           'history': {'description': 'You woke up and decided '\n",
      "                                                      'to move forward to join '\n",
      "                                                      'the meeting table, and '\n",
      "                                                      'now you are moving '\n",
      "                                                      'forward to cross the '\n",
      "                                                      'snowy street and '\n",
      "                                                      'continue your journey, '\n",
      "                                                      'but no action was taken '\n",
      "                                                      'due to the static '\n",
      "                                                      'nature of the scene.',\n",
      "                                       'type': None},\n",
      "                           'history_recap': {'description': 'recap the '\n",
      "                                                            '`[history][description]` '\n",
      "                                                            'field of this '\n",
      "                                                            'JSON. Incorporate '\n",
      "                                                            'the contents of '\n",
      "                                                            'the context field',\n",
      "                                             'type': 'string'},\n",
      "                           'image_description': {'description': 'Describe the '\n",
      "                                                                'image in '\n",
      "                                                                'under 10 '\n",
      "                                                                'words',\n",
      "                                                 'type': 'string'}},\n",
      "            'type': 'object'}}\n",
      "--------------------\n"
     ]
    }
   ],
   "source": [
    "for step in run:\n",
    "    pprint(step)\n",
    "    print(\"-\"*20)"
   ]
  },
  {
   "cell_type": "code",
   "execution_count": null,
   "id": "fa3d0fc7-2891-46a4-b6c5-6a2897dac2ab",
   "metadata": {},
   "outputs": [],
   "source": []
  }
 ],
 "metadata": {
  "kernelspec": {
   "display_name": "Python 3 (ipykernel)",
   "language": "python",
   "name": "python3"
  },
  "language_info": {
   "codemirror_mode": {
    "name": "ipython",
    "version": 3
   },
   "file_extension": ".py",
   "mimetype": "text/x-python",
   "name": "python",
   "nbconvert_exporter": "python",
   "pygments_lexer": "ipython3",
   "version": "3.11.5"
  }
 },
 "nbformat": 4,
 "nbformat_minor": 5
}
