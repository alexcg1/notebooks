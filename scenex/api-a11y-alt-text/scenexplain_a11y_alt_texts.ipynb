{
  "nbformat": 4,
  "nbformat_minor": 0,
  "metadata": {
    "colab": {
      "provenance": []
    },
    "kernelspec": {
      "name": "python3",
      "display_name": "Python 3"
    },
    "language_info": {
      "name": "python"
    }
  },
  "cells": [
    {
      "cell_type": "markdown",
      "source": [
        "# Generating Image Alt Tags with SceneXplain's API\n",
        "\n",
        "In this notebook we will see how to use [SceneXplain](https://scenex.jina.ai) to automatically generate alt text for multiple images. This notebook is a companion to the [blog post]() on the same subject.\n",
        "\n",
        "You will need to sign up for a free SceneXplain account and generate an API key before proceeding.\n",
        "\n",
        "This notebook consists of several sections:\n",
        "- **Set options**: Set some basic configuration.\n",
        "- **Download sample images**: Get sample product images to work with.\n",
        "- **Break images into batches**: Batch the images for bulk processing.\n",
        "- **Prepare batches for SceneXplain**: Create the correct data structure for processing.\n",
        "- **Set up authentication**: Bundle authentication key with image data.\n",
        "- **Send batches to SceneXplain**: Send the images for processing.\n",
        "- **Create CSV file with alt texts**: Convert the output into a usable CSV file.\n",
        "\n",
        "**To run this notebook**, set your options below, then click *Runtime* -> *Run all*."
      ],
      "metadata": {
        "id": "6bGt5v4I15VB"
      }
    },
    {
      "cell_type": "markdown",
      "source": [
        "## Set options\n",
        "\n",
        "First, let's set up some options:\n",
        "\n",
        "- **`MAX_IMAGES`**: Maximum number of images to process. Set to -1 for infinite.\n",
        "- **`BATCH_SIZE`**: Maximum images per batch. Varies depending on your SceneXplain plan. Basic plan is `8`.\n",
        "- **`CSV_FILENAME`**: Filename for your CSV file that contains filenames and alt texts.\n",
        "- **`SCENEX_KEY`**: Go to SceneXplain's [API page](https://scenex.jina.ai/api) to generate a unique key to access the API, then paste it where it says \"`YOUR KEY`\" below. Ensure the quote marks aren't deleted!"
      ],
      "metadata": {
        "id": "wg0k5g-zmC-C"
      }
    },
    {
      "cell_type": "code",
      "source": [
        "MAX_IMAGES = 32\n",
        "BATCH_SIZE = 8\n",
        "CSV_FILENAME = \"alt-texts.csv\"\n",
        "SCENEX_KEY = \"<YOUR KEY\">"
      ],
      "metadata": {
        "id": "SYvjx1vRAYWO"
      },
      "execution_count": null,
      "outputs": []
    },
    {
      "cell_type": "markdown",
      "source": [
        "## Download sample images\n",
        "\n",
        "Our example dataset comprises of a subset of 1,000 images from the [Product Data (small) dataset](https://www.kaggle.com/paramaggarwal/fashion-product-images-small) from Kaggle. We've hosted it on Firebase to make it easy to download.\n",
        "\n",
        "Here's an idea of how the images look:\n",
        "\n",
        "![](https://storage.googleapis.com/kaggle-datasets-images/175990/396802/720cd7ceb25eb130d0b873464f734370/dataset-cover.png?t=2019-04-26-16-40-29)"
      ],
      "metadata": {
        "id": "reLZCQSW2HBb"
      }
    },
    {
      "cell_type": "code",
      "execution_count": null,
      "metadata": {
        "id": "BdF-UJCl14Qe"
      },
      "outputs": [],
      "source": [
        "# use wget to download the dataset\n",
        "!wget -O images.zip \"https://firebasestorage.googleapis.com/v0/b/causal-diffusion.appspot.com/o/public%2Ftutorials%2Fscenexplain_alt_text_images.zip?alt=media&token=4937b762-7c8d-4c83-9121-4549d4bad8b7\""
      ]
    },
    {
      "cell_type": "code",
      "source": [
        "# extract the dataset\n",
        "!unzip -q images.zip"
      ],
      "metadata": {
        "id": "2nw9S6Fp2JhB"
      },
      "execution_count": null,
      "outputs": []
    },
    {
      "cell_type": "markdown",
      "source": [
        "## Break images into batches\n",
        "\n",
        "Since we have a lot of images we'll need to split them into batches, since SceneXplain can only handle so many images at once. The maximum batch size depends on your [plan](https://scenex.jina.ai/billing)."
      ],
      "metadata": {
        "id": "L439qXej4N1V"
      }
    },
    {
      "cell_type": "code",
      "source": [
        "import os\n",
        "\n",
        "# create a list of image filenames, capped at the maximum number of images you specified\n",
        "images = os.listdir('./images')[:MAX_IMAGES]"
      ],
      "metadata": {
        "id": "vdy5C0Nc3-ml"
      },
      "execution_count": null,
      "outputs": []
    },
    {
      "cell_type": "code",
      "source": [
        "# break filename list into batches of your chosen size\n",
        "batches = []\n",
        "\n",
        "for start in range(0, len(images), BATCH_SIZE):\n",
        "    end = start + BATCH_SIZE\n",
        "    batch = images[start:end]\n",
        "    batches.append(batch)"
      ],
      "metadata": {
        "id": "br24YRc37P80"
      },
      "execution_count": null,
      "outputs": []
    },
    {
      "cell_type": "markdown",
      "source": [
        "## Prepare batches for SceneXplain\n",
        "\n",
        "We can't just send the image filenames to SceneXplain's API. We also need to:\n",
        "\n",
        "- Convert the image to a format the API can understand (in this case, a base64 datauri).\n",
        "- Add the name of the task we want to perform on each image.\n",
        "\n",
        "To do this, we'll write a short function that we can use when we loop through each batch."
      ],
      "metadata": {
        "id": "wHx7yjaZ6jQQ"
      }
    },
    {
      "cell_type": "code",
      "source": [
        "import base64\n",
        "\n",
        "# Convert image to base64 datauri\n",
        "def image_to_data_uri(file_path):\n",
        "    with open(file_path, \"rb\") as image_file:\n",
        "        encoded_image = base64.b64encode(image_file.read()).decode(\"utf-8\")\n",
        "        return f\"data:image/png;base64,{encoded_image}\""
      ],
      "metadata": {
        "id": "JZDLAsY44nzs"
      },
      "execution_count": null,
      "outputs": []
    },
    {
      "cell_type": "code",
      "source": [
        "# Populate batch with task data and base64 datauri\n",
        "def create_data_structure(image_list):\n",
        "  data = []\n",
        "  for image_file in image_list:\n",
        "    data_row = {\n",
        "        \"image\": image_to_data_uri(f\"images/{image_file}\"),\n",
        "        \"task_id\": \"alt_text\",\n",
        "        \"features\": [\"opt_out\"],  # so we don't pollute our SceneXplain history in the UI\n",
        "        \"cid\": image_file,\n",
        "    }\n",
        "    data.append(data_row)\n",
        "\n",
        "  return data"
      ],
      "metadata": {
        "id": "ZymXQPfb8htl"
      },
      "execution_count": null,
      "outputs": []
    },
    {
      "cell_type": "markdown",
      "source": [
        "In the code above, each image has several fields:\n",
        "\n",
        "- **`image`**: The image file converted to a [datauri](https://en.wikipedia.org/wiki/Data_URI_scheme).\n",
        "- **`task_id`**: The task we want to perform. In our case, that's `alt_text`.\n",
        "- **`features`**: A list of features we want to use. We'll just use `opt_out` so you don't see all these images in your SceneXplain history later.\n",
        "- **`cid`**: A unique identifier for each image. Since we want to keep the filename linked to the alt text, we'll use the image's filename as the identifier."
      ],
      "metadata": {
        "id": "v0KwmfTtitWv"
      }
    },
    {
      "cell_type": "markdown",
      "source": [
        "## Set up authentication\n"
      ],
      "metadata": {
        "id": "iBG0t7j-5xKc"
      }
    },
    {
      "cell_type": "code",
      "source": [
        "headers = {\n",
        "    \"x-api-key\": f\"token {SCENEX_KEY}\",\n",
        "    \"content-type\": \"application/json\",\n",
        "}"
      ],
      "metadata": {
        "id": "xhTtppTf5z7F"
      },
      "execution_count": null,
      "outputs": []
    },
    {
      "cell_type": "markdown",
      "source": [
        "## Send batches to SceneXplain\n",
        "\n",
        "This code is adapted from [SceneXplain's basic API code](https://scenex.jina.ai/api). This code will take a while to run since it's where the real \"work\" (generating the alt texts) happens."
      ],
      "metadata": {
        "id": "JXcKxMVG9oq0"
      }
    },
    {
      "cell_type": "code",
      "source": [
        "import requests\n",
        "import json\n",
        "\n",
        "def send_data(batch):\n",
        "\n",
        "  data = {\n",
        "        \"data\": create_data_structure(batch)\n",
        "    }\n",
        "\n",
        "  response = requests.post(\"https://api.scenex.jina.ai/v1/describe\", headers=headers, json=data)\n",
        "\n",
        "  return response.json()"
      ],
      "metadata": {
        "id": "WiThoF9I-HDM"
      },
      "execution_count": null,
      "outputs": []
    },
    {
      "cell_type": "code",
      "source": [
        "all_rows = []\n",
        "\n",
        "# this part will take a while!\n",
        "for i, batch in enumerate(batches):\n",
        "  print(f\"Processing batch {i+1}/{len(batches)}\")\n",
        "  response = send_data(batch)\n",
        "  all_rows.extend(response['result'])"
      ],
      "metadata": {
        "id": "dUoSdC-G9_9H"
      },
      "execution_count": null,
      "outputs": []
    },
    {
      "cell_type": "markdown",
      "source": [
        "## Create CSV file with alt texts\n",
        "\n",
        "Now that we've got our image alt texts, let's write them to a CSV file along with the image filename. To do this we'll use Python's built-in [`csv`](https://docs.python.org/3/library/csv.html) library."
      ],
      "metadata": {
        "id": "CSsuI3zBApBO"
      }
    },
    {
      "cell_type": "code",
      "source": [
        "alt_texts = []"
      ],
      "metadata": {
        "id": "MJxz9pPpC9iu"
      },
      "execution_count": null,
      "outputs": []
    },
    {
      "cell_type": "code",
      "source": [
        "for row in all_rows:\n",
        "  try:\n",
        "    alt_texts.append(\n",
        "        {\"filename\": row[\"cid\"], \"alt-text\": row[\"text\"]}\n",
        "    )\n",
        "  except:\n",
        "    # sometimes there may be an invalid output. We use this to skip that otherwise it will stop the whole process.\n",
        "    pass"
      ],
      "metadata": {
        "id": "TictVXKnDBjh"
      },
      "execution_count": null,
      "outputs": []
    },
    {
      "cell_type": "code",
      "source": [
        "import csv\n",
        "\n",
        "with open(CSV_FILENAME, 'w', newline='') as file:\n",
        "    writer = csv.DictWriter(file, fieldnames=alt_texts[0].keys())\n",
        "    writer.writeheader()\n",
        "    writer.writerows(alt_texts)"
      ],
      "metadata": {
        "id": "ZJEzFUPYDYjb"
      },
      "execution_count": null,
      "outputs": []
    },
    {
      "cell_type": "markdown",
      "source": [
        "You can now double click the csv file in the sidebar to open it, or right-click it to download.\n",
        "\n",
        "If you can't see the sidebar, click this icon on the left side of your screen to show it:\n",
        "\n",
        "![image.png](data:image/png;base64,iVBORw0KGgoAAAANSUhEUgAAACwAAAAzCAYAAADsBOpPAAAABHNCSVQICAgIfAhkiAAAABl0RVh0U29mdHdhcmUAZ25vbWUtc2NyZWVuc2hvdO8Dvz4AAAAtdEVYdENyZWF0aW9uIFRpbWUAV2VkIDE3IEphbiAyMDI0IDAyOjE4OjExIFBNIENFVBI0l7UAAAOESURBVGiB7ZnNTvJAFIbfTqdDfyg2aky8AOMtuCZq4t6ViTuvypV7N8ad0S0774ArMLoQsKXMT/stTEkLpT9QBJLvSUwEDu3DMMw5c0aL4zjGDtDv93FycgKyaZG60FUvoJSClBJRFE3/AIAQAl3XQQgBpRSENDM2tYXjOAbnHEIICCGmgmXoug7DMGAYBhhjtUUTagmHYYggCLDMtFdKQSmFMAxBCIHjOEuJVxLmnCMIAiilat8gjyiKMBqNQCmF4zigtPq4lU6s8XiM0WjUmGwaKSUGgwHCMKz8noUfLYoi+L4PznkjckX4vg+lFBzHKY3NFVZKYTgcVv5BNUEYhpBSwnXdwhUl9xXf9/9UNkFKifF4XBgzJ+z7PoQQa5MqIwzDwjmdERZC1PoBrIuibzgjHATBnwhVwff93Oenwsmk3xaSbDoLBX7TbdlkB37X5O/v79xMRynF0dFRA6rZ+xmGkb0PgEo1wfv7Ox4fHwvjLi4ucHl52YDqL0IISCkzmZACwGQyKXxjHMd4enpCFEU4ODiYS6VRFOHz8xOvr68IggBnZ2eF19M0Dfv7+3OjlwfnfF64bBnjnE8/1N3dHQ4PD+di3t7e8PLygl6vh16vVyrSarVwe3uL09PT0nvbtj19TIQQS1Vfs5yfn+Pq6qpy/GQywfPzc2lcUuUl0CZXhm63i263WxrX7/dxf3+P4XBY6bppYbKJFFyXtOPuCe/CpjntuBO75oywpmkbVKmGruvT/0lT2+91kh7UnRBOO5Iq6XHTpFMzabIrsw5m/SgAMMYKdxrpOfTx8bHyTvrr66ty7GyzpZIwYwx7e3sYDAZ4eHhYzjKHKvXzrDABAMMwMktHHjc3N7lV2rIcHx/j+vq6MIYxNuelJf1hIUTlYuSv8DxvKjzXH046i9uCaZq533pmeXAcB9uQ+QghmaI981r6ga7raLfbfyK1CE3T4LruwoGbW4AZY7Asa+1iiyhrv+ZmDNu2NzKfTdNEq9UqjFmY4jqdzp+OtOM4y7dbE2zbBqUUPz8/jWxU8yCEoN1uV/5GS4sIxhg8z1vpIGURpmnC87xa06/S4QIhBK7rQkqJIAhWbscyxuA4zlJFV61TJEopOp0OlFLgnINzXrmBmBx3McZWqg6XOljUdR2WZcGyLERRNO3NbeXB4iyEkNKlqEm2t3JfwH/hdfNfeN3snPA/uLCJ1/N2qFAAAAAASUVORK5CYII=)"
      ],
      "metadata": {
        "id": "igar6A8kkaFP"
      }
    },
    {
      "cell_type": "markdown",
      "source": [
        "## Preview alt texts\n",
        "\n",
        "Using Linux's built-in `head` command, we can see some of the alt-tags that were generated."
      ],
      "metadata": {
        "id": "2tGKmaoxt67o"
      }
    },
    {
      "cell_type": "code",
      "source": [
        "PREVIEW_COUNT = 5\n",
        "!head -n {PREVIEW_COUNT} {CSV_FILENAME}"
      ],
      "metadata": {
        "id": "N4giY4KeLUiH"
      },
      "execution_count": null,
      "outputs": []
    }
  ]
}